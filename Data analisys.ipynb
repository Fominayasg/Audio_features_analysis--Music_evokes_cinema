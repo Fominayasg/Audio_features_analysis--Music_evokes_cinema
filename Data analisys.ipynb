{
 "cells": [
  {
   "cell_type": "markdown",
   "id": "radical-rebate",
   "metadata": {
    "toc": true
   },
   "source": [
    "<h1>Table of Contents<span class=\"tocSkip\"></span></h1>\n",
    "<div class=\"toc\"><ul class=\"toc-item\"><li><span><a href=\"#Libraries\" data-toc-modified-id=\"Libraries-1\"><span class=\"toc-item-num\">1&nbsp;&nbsp;</span>Libraries</a></span></li><li><span><a href=\"#Get-files-and-genres\" data-toc-modified-id=\"Get-files-and-genres-2\"><span class=\"toc-item-num\">2&nbsp;&nbsp;</span>Get files and genres</a></span></li><li><span><a href=\"#Getting-and-normalizing-features\" data-toc-modified-id=\"Getting-and-normalizing-features-3\"><span class=\"toc-item-num\">3&nbsp;&nbsp;</span>Getting and normalizing features</a></span><ul class=\"toc-item\"><li><span><a href=\"#Zero-crossing\" data-toc-modified-id=\"Zero-crossing-3.1\"><span class=\"toc-item-num\">3.1&nbsp;&nbsp;</span>Zero crossing</a></span></li></ul></li></ul></div>"
   ]
  },
  {
   "cell_type": "markdown",
   "id": "boolean-andrews",
   "metadata": {},
   "source": [
    "# Libraries"
   ]
  },
  {
   "cell_type": "code",
   "execution_count": 1,
   "id": "stainless-container",
   "metadata": {},
   "outputs": [],
   "source": [
    "import librosa\n",
    "import numpy as np\n",
    "import matplotlib.pyplot as plt\n",
    "import pandas as pd\n",
    "# For iterating through files\n",
    "import os\n",
    "# For audio playing\n",
    "import IPython.display as ipd\n",
    "# For visualizations\n",
    "import librosa.display"
   ]
  },
  {
   "cell_type": "markdown",
   "id": "constant-trout",
   "metadata": {},
   "source": [
    "# Get files and genres "
   ]
  },
  {
   "cell_type": "code",
   "execution_count": 2,
   "id": "diagnostic-heritage",
   "metadata": {},
   "outputs": [
    {
     "name": "stdout",
     "output_type": "stream",
     "text": [
      "['Supernatural', 'Beautiful-happy', 'Chase-action']\n"
     ]
    }
   ],
   "source": [
    "# Get genres\n",
    "\n",
    "directory = 'data'\n",
    "genres = []\n",
    "for entry in os.scandir(directory):\n",
    "    # echar un ojo para evitar .DS_Store\n",
    "    if entry.name != \".DS_Store\":\n",
    "        genres.append(entry.name)\n",
    "print(genres)"
   ]
  },
  {
   "cell_type": "code",
   "execution_count": 3,
   "id": "extreme-partition",
   "metadata": {},
   "outputs": [
    {
     "name": "stdout",
     "output_type": "stream",
     "text": [
      "{'Supernatural': ['ES_Chasing Self - Polar Nights.wav', 'ES_Quantum Mechanics - Silver Maple.wav', 'ES_Far Far Far - Bonnie Grace.wav', 'ES_Satellites - Ebb & Flod.wav', 'ES_Midnight Tivoli - Luella Gren.wav', 'ES_Morphing Faces - Silver Maple.wav', 'ES_Mars Landing - Yi Nantiro.wav'], 'Beautiful-happy': ['ES_A Place for Us - Howard Harper-Barnes.wav', 'ES_Zanzibar - Jones Meadow.wav', 'ES_Make Me a Bird - David Celeste.wav', 'ES_The Light from Within - Howard Harper-Barnes.wav', 'ES_By Daylight - Gavin Luke.wav', 'ES_The Promising - Howard Harper-Barnes.wav', 'ES_Serene Story 2 - August Wilhelmsson.wav'], 'Chase-action': ['ES_Impulse - Hampus Naeselius.wav', 'ES_Vatican Mystery - Trailer Worx.wav', 'ES_One Last Mission Left - Eoin Mantell.wav', 'ES_The Great Escape - Christoffer Moe Ditlevsen.wav', 'ES_Dungeon - Dream Cave.wav']}\n"
     ]
    }
   ],
   "source": [
    "# Get a dictionary -> key=genre , value = list of songs\n",
    "\n",
    "songs_dict2 = {}\n",
    "for gen in genres:\n",
    "    dir = directory + f\"/{gen}\"\n",
    "    songs2 = []\n",
    "\n",
    "    for entry in os.scandir(dir):\n",
    "        if entry.name.endswith(\".wav\"):\n",
    "            songs2.append(entry.name)\n",
    "            songs_dict2.update( {f\"{gen}\" : songs2} )\n",
    "\n",
    "print (songs_dict2)"
   ]
  },
  {
   "cell_type": "code",
   "execution_count": 4,
   "id": "least-venezuela",
   "metadata": {},
   "outputs": [
    {
     "data": {
      "text/html": [
       "<div>\n",
       "<style scoped>\n",
       "    .dataframe tbody tr th:only-of-type {\n",
       "        vertical-align: middle;\n",
       "    }\n",
       "\n",
       "    .dataframe tbody tr th {\n",
       "        vertical-align: top;\n",
       "    }\n",
       "\n",
       "    .dataframe thead th {\n",
       "        text-align: right;\n",
       "    }\n",
       "</style>\n",
       "<table border=\"1\" class=\"dataframe\">\n",
       "  <thead>\n",
       "    <tr style=\"text-align: right;\">\n",
       "      <th></th>\n",
       "      <th>Genre</th>\n",
       "      <th>Title</th>\n",
       "      <th>Offset</th>\n",
       "    </tr>\n",
       "  </thead>\n",
       "  <tbody>\n",
       "    <tr>\n",
       "      <th>0</th>\n",
       "      <td>Supernatural</td>\n",
       "      <td>ES_Chasing Self - Polar Nights.wav</td>\n",
       "      <td>0</td>\n",
       "    </tr>\n",
       "    <tr>\n",
       "      <th>1</th>\n",
       "      <td>Supernatural</td>\n",
       "      <td>ES_Chasing Self - Polar Nights.wav</td>\n",
       "      <td>15</td>\n",
       "    </tr>\n",
       "    <tr>\n",
       "      <th>2</th>\n",
       "      <td>Supernatural</td>\n",
       "      <td>ES_Chasing Self - Polar Nights.wav</td>\n",
       "      <td>30</td>\n",
       "    </tr>\n",
       "    <tr>\n",
       "      <th>3</th>\n",
       "      <td>Supernatural</td>\n",
       "      <td>ES_Chasing Self - Polar Nights.wav</td>\n",
       "      <td>45</td>\n",
       "    </tr>\n",
       "    <tr>\n",
       "      <th>4</th>\n",
       "      <td>Supernatural</td>\n",
       "      <td>ES_Chasing Self - Polar Nights.wav</td>\n",
       "      <td>60</td>\n",
       "    </tr>\n",
       "    <tr>\n",
       "      <th>...</th>\n",
       "      <td>...</td>\n",
       "      <td>...</td>\n",
       "      <td>...</td>\n",
       "    </tr>\n",
       "    <tr>\n",
       "      <th>90</th>\n",
       "      <td>Chase-action</td>\n",
       "      <td>ES_Dungeon - Dream Cave.wav</td>\n",
       "      <td>0</td>\n",
       "    </tr>\n",
       "    <tr>\n",
       "      <th>91</th>\n",
       "      <td>Chase-action</td>\n",
       "      <td>ES_Dungeon - Dream Cave.wav</td>\n",
       "      <td>15</td>\n",
       "    </tr>\n",
       "    <tr>\n",
       "      <th>92</th>\n",
       "      <td>Chase-action</td>\n",
       "      <td>ES_Dungeon - Dream Cave.wav</td>\n",
       "      <td>30</td>\n",
       "    </tr>\n",
       "    <tr>\n",
       "      <th>93</th>\n",
       "      <td>Chase-action</td>\n",
       "      <td>ES_Dungeon - Dream Cave.wav</td>\n",
       "      <td>45</td>\n",
       "    </tr>\n",
       "    <tr>\n",
       "      <th>94</th>\n",
       "      <td>Chase-action</td>\n",
       "      <td>ES_Dungeon - Dream Cave.wav</td>\n",
       "      <td>60</td>\n",
       "    </tr>\n",
       "  </tbody>\n",
       "</table>\n",
       "<p>95 rows × 3 columns</p>\n",
       "</div>"
      ],
      "text/plain": [
       "           Genre                               Title Offset\n",
       "0   Supernatural  ES_Chasing Self - Polar Nights.wav      0\n",
       "1   Supernatural  ES_Chasing Self - Polar Nights.wav     15\n",
       "2   Supernatural  ES_Chasing Self - Polar Nights.wav     30\n",
       "3   Supernatural  ES_Chasing Self - Polar Nights.wav     45\n",
       "4   Supernatural  ES_Chasing Self - Polar Nights.wav     60\n",
       "..           ...                                 ...    ...\n",
       "90  Chase-action         ES_Dungeon - Dream Cave.wav      0\n",
       "91  Chase-action         ES_Dungeon - Dream Cave.wav     15\n",
       "92  Chase-action         ES_Dungeon - Dream Cave.wav     30\n",
       "93  Chase-action         ES_Dungeon - Dream Cave.wav     45\n",
       "94  Chase-action         ES_Dungeon - Dream Cave.wav     60\n",
       "\n",
       "[95 rows x 3 columns]"
      ]
     },
     "execution_count": 4,
     "metadata": {},
     "output_type": "execute_result"
    }
   ],
   "source": [
    "#Creating DataFrame\n",
    "df = pd.DataFrame(columns=['Genre', 'Title', 'Offset'])\n",
    "offset_15 = [0,15,30,45,60]\n",
    "for i in songs_dict2:\n",
    "    sng = songs_dict2.get(i)\n",
    "    for s in sng:\n",
    "        if s != \".DS_Store\":\n",
    "            for o in offset_15:\n",
    "                my_dict = {\"Title\":f\"{s}\",\"Genre\":f\"{i}\", \"Offset\":int(f\"{o}\")}\n",
    "                df = df.append(my_dict, ignore_index=True)\n",
    "'''           \n",
    "            df_prueba.append(my_dict, ignore_index=True)'''\n",
    "    \n",
    "'''df = df.append({\"Title\":f\"{s}\",\"genre\":f\"{i}\"}, ignore_index=True)'''\n",
    "df"
   ]
  },
  {
   "cell_type": "markdown",
   "id": "brilliant-rubber",
   "metadata": {},
   "source": [
    "# Getting and normalizing features"
   ]
  },
  {
   "cell_type": "markdown",
   "id": "starting-milwaukee",
   "metadata": {},
   "source": [
    "## Zero crossing"
   ]
  },
  {
   "cell_type": "code",
   "execution_count": 10,
   "id": "preceding-classic",
   "metadata": {},
   "outputs": [
    {
     "name": "stdout",
     "output_type": "stream",
     "text": [
      "CPU times: user 1min 56s, sys: 353 ms, total: 1min 57s\n",
      "Wall time: 1min 57s\n"
     ]
    },
    {
     "data": {
      "text/plain": [
       "'    y, sr = librosa.load(path, duration=15, offset=15)    \\n    no_norm = librosa.feature.zero_crossing_rate(y=y)\\n    zr = np.linalg.norm(no_norm)\\n    zero_crossing_rate_data.append(zr)\\n    \\n    y, sr = librosa.load(path, duration=15, offset=30)    \\n    no_norm = librosa.feature.zero_crossing_rate(y=y)\\n    zr = np.linalg.norm(no_norm)\\n    zero_crossing_rate_data.append(zr)\\n    \\n    y, sr = librosa.load(path, duration=15, offset=45)    \\n    no_norm = librosa.feature.zero_crossing_rate(y=y)\\n    zr = np.linalg.norm(no_norm)\\n    zero_crossing_rate_data.append(zr)\\n    \\n    y, sr = librosa.load(path, duration=15, offset=60)    \\n    no_norm = librosa.feature.zero_crossing_rate(y=y)\\n    zr = np.linalg.norm(no_norm)\\n    zero_crossing_rate_data.append(zr)\\n        \\n'"
      ]
     },
     "execution_count": 10,
     "metadata": {},
     "output_type": "execute_result"
    }
   ],
   "source": [
    "%%time\n",
    "zero_crossing = []\n",
    "\n",
    "for index, row in df.iterrows():\n",
    "    path = f\"data/{row['Genre']}/{row['Title']}\"\n",
    "    #print (type(row['Offset']))\n",
    "    y, sr = librosa.load(path, duration=15, offset=row['Offset'])\n",
    "    \n",
    "    no_norm = librosa.zero_crossings(y=y, pad=False)\n",
    "    zr=sum(no_norm)\n",
    "    #print(no_norm)\n",
    "    #zr = np.linalg.norm(no_norm)\n",
    "    #print(zr)\n",
    "    zero_crossing.append(zr)   "
   ]
  },
  {
   "cell_type": "code",
   "execution_count": null,
   "id": "delayed-airline",
   "metadata": {},
   "outputs": [],
   "source": [
    "#zero_crossing_rate_data"
   ]
  },
  {
   "cell_type": "code",
   "execution_count": 12,
   "id": "otherwise-washington",
   "metadata": {},
   "outputs": [
    {
     "data": {
      "text/html": [
       "<div>\n",
       "<style scoped>\n",
       "    .dataframe tbody tr th:only-of-type {\n",
       "        vertical-align: middle;\n",
       "    }\n",
       "\n",
       "    .dataframe tbody tr th {\n",
       "        vertical-align: top;\n",
       "    }\n",
       "\n",
       "    .dataframe thead th {\n",
       "        text-align: right;\n",
       "    }\n",
       "</style>\n",
       "<table border=\"1\" class=\"dataframe\">\n",
       "  <thead>\n",
       "    <tr style=\"text-align: right;\">\n",
       "      <th></th>\n",
       "      <th>Genre</th>\n",
       "      <th>Title</th>\n",
       "      <th>Offset</th>\n",
       "      <th>Zero_crossing_rate</th>\n",
       "      <th>Zero_crossings</th>\n",
       "    </tr>\n",
       "  </thead>\n",
       "  <tbody>\n",
       "    <tr>\n",
       "      <th>0</th>\n",
       "      <td>Supernatural</td>\n",
       "      <td>ES_Chasing Self - Polar Nights.wav</td>\n",
       "      <td>0</td>\n",
       "      <td>29991</td>\n",
       "      <td>29991</td>\n",
       "    </tr>\n",
       "    <tr>\n",
       "      <th>1</th>\n",
       "      <td>Supernatural</td>\n",
       "      <td>ES_Chasing Self - Polar Nights.wav</td>\n",
       "      <td>15</td>\n",
       "      <td>11088</td>\n",
       "      <td>11088</td>\n",
       "    </tr>\n",
       "    <tr>\n",
       "      <th>2</th>\n",
       "      <td>Supernatural</td>\n",
       "      <td>ES_Chasing Self - Polar Nights.wav</td>\n",
       "      <td>30</td>\n",
       "      <td>9427</td>\n",
       "      <td>9427</td>\n",
       "    </tr>\n",
       "    <tr>\n",
       "      <th>3</th>\n",
       "      <td>Supernatural</td>\n",
       "      <td>ES_Chasing Self - Polar Nights.wav</td>\n",
       "      <td>45</td>\n",
       "      <td>10185</td>\n",
       "      <td>10185</td>\n",
       "    </tr>\n",
       "    <tr>\n",
       "      <th>4</th>\n",
       "      <td>Supernatural</td>\n",
       "      <td>ES_Chasing Self - Polar Nights.wav</td>\n",
       "      <td>60</td>\n",
       "      <td>10435</td>\n",
       "      <td>10435</td>\n",
       "    </tr>\n",
       "  </tbody>\n",
       "</table>\n",
       "</div>"
      ],
      "text/plain": [
       "          Genre                               Title Offset  \\\n",
       "0  Supernatural  ES_Chasing Self - Polar Nights.wav      0   \n",
       "1  Supernatural  ES_Chasing Self - Polar Nights.wav     15   \n",
       "2  Supernatural  ES_Chasing Self - Polar Nights.wav     30   \n",
       "3  Supernatural  ES_Chasing Self - Polar Nights.wav     45   \n",
       "4  Supernatural  ES_Chasing Self - Polar Nights.wav     60   \n",
       "\n",
       "   Zero_crossing_rate  Zero_crossings  \n",
       "0               29991           29991  \n",
       "1               11088           11088  \n",
       "2                9427            9427  \n",
       "3               10185           10185  \n",
       "4               10435           10435  "
      ]
     },
     "execution_count": 12,
     "metadata": {},
     "output_type": "execute_result"
    }
   ],
   "source": [
    "df['Zero_crossings'] = zero_crossing_rate_data\n",
    "\n",
    "df.head()"
   ]
  },
  {
   "cell_type": "code",
   "execution_count": null,
   "id": "distant-trunk",
   "metadata": {},
   "outputs": [],
   "source": []
  }
 ],
 "metadata": {
  "kernelspec": {
   "display_name": "Python 3",
   "language": "python",
   "name": "python3"
  },
  "language_info": {
   "codemirror_mode": {
    "name": "ipython",
    "version": 3
   },
   "file_extension": ".py",
   "mimetype": "text/x-python",
   "name": "python",
   "nbconvert_exporter": "python",
   "pygments_lexer": "ipython3",
   "version": "3.8.5"
  },
  "toc": {
   "base_numbering": 1,
   "nav_menu": {},
   "number_sections": true,
   "sideBar": true,
   "skip_h1_title": false,
   "title_cell": "Table of Contents",
   "title_sidebar": "Contents",
   "toc_cell": true,
   "toc_position": {},
   "toc_section_display": true,
   "toc_window_display": false
  },
  "varInspector": {
   "cols": {
    "lenName": 16,
    "lenType": 16,
    "lenVar": 40
   },
   "kernels_config": {
    "python": {
     "delete_cmd_postfix": "",
     "delete_cmd_prefix": "del ",
     "library": "var_list.py",
     "varRefreshCmd": "print(var_dic_list())"
    },
    "r": {
     "delete_cmd_postfix": ") ",
     "delete_cmd_prefix": "rm(",
     "library": "var_list.r",
     "varRefreshCmd": "cat(var_dic_list()) "
    }
   },
   "types_to_exclude": [
    "module",
    "function",
    "builtin_function_or_method",
    "instance",
    "_Feature"
   ],
   "window_display": false
  }
 },
 "nbformat": 4,
 "nbformat_minor": 5
}
