{
 "cells": [
  {
   "cell_type": "markdown",
   "id": "incomplete-shaft",
   "metadata": {
    "toc": true
   },
   "source": [
    "<h1>Table of Contents<span class=\"tocSkip\"></span></h1>\n",
    "<div class=\"toc\"><ul class=\"toc-item\"></ul></div>"
   ]
  },
  {
   "cell_type": "code",
   "execution_count": 14,
   "id": "hazardous-norway",
   "metadata": {},
   "outputs": [],
   "source": [
    "from selenium import webdriver\n",
    "from time import sleep\n",
    "from dotenv import load_dotenv\n",
    "import os"
   ]
  },
  {
   "cell_type": "code",
   "execution_count": 15,
   "id": "lovely-superior",
   "metadata": {},
   "outputs": [],
   "source": [
    "#!pip3 install webdriver_manager"
   ]
  },
  {
   "cell_type": "code",
   "execution_count": 27,
   "id": "arabic-huntington",
   "metadata": {},
   "outputs": [],
   "source": [
    "#look for my credentials in .env file\n",
    "load_dotenv()\n",
    "\n",
    "email = os.getenv(\"email\")\n",
    "password = os.getenv(\"password\")"
   ]
  },
  {
   "cell_type": "code",
   "execution_count": 18,
   "id": "parliamentary-telephone",
   "metadata": {
    "scrolled": true
   },
   "outputs": [
    {
     "name": "stderr",
     "output_type": "stream",
     "text": [
      "[WDM] - ====== WebDriver manager ======\n",
      "[WDM] - Current google-chrome version is 89.0.4389\n",
      "[WDM] - Get LATEST driver version for 89.0.4389\n"
     ]
    },
    {
     "name": "stdout",
     "output_type": "stream",
     "text": [
      "\n",
      "\n"
     ]
    },
    {
     "name": "stderr",
     "output_type": "stream",
     "text": [
      "[WDM] - Driver [/Users/sonia/.wdm/drivers/chromedriver/mac64/89.0.4389.23/chromedriver] found in cache\n"
     ]
    }
   ],
   "source": [
    "#connect with chrome\n",
    "from webdriver_manager.chrome import ChromeDriverManager\n",
    "driver = webdriver.Chrome(ChromeDriverManager().install())"
   ]
  },
  {
   "cell_type": "code",
   "execution_count": 19,
   "id": "floppy-lindsay",
   "metadata": {},
   "outputs": [],
   "source": [
    "#Go to URL\n",
    "driver.get(\"https://www.epidemicsound.com/music/genres/supernatural/\")"
   ]
  },
  {
   "cell_type": "code",
   "execution_count": 20,
   "id": "integrated-reviewer",
   "metadata": {},
   "outputs": [],
   "source": [
    "# Login click\n",
    "sleep(1)\n",
    "driver.find_element_by_css_selector(\"#rootDiv > div > div.src-mainapp-___Root__messageContainer___3Fzxm > div > div > button\").click()"
   ]
  },
  {
   "cell_type": "code",
   "execution_count": 21,
   "id": "clean-prime",
   "metadata": {},
   "outputs": [],
   "source": [
    "# \n",
    "sleep(1)\n",
    "driver.find_element_by_css_selector(\"#mainContentContainer > div.src-mainapp-nav-___Nav__pushContent___YpEFE > div > div > div > div.src-mainapp-nav-___Nav__rightContainer___19GXY > div.src-mainapp-nav-___Nav__linkContainer___2N_Mp.css-1t54irb > div > button:nth-child(4)\").click()"
   ]
  },
  {
   "cell_type": "code",
   "execution_count": 22,
   "id": "spoken-astronomy",
   "metadata": {},
   "outputs": [],
   "source": [
    "#Press email \n",
    "sleep(1)\n",
    "search = driver.find_element_by_id(\"email-address1\")\n",
    "search.click()"
   ]
  },
  {
   "cell_type": "code",
   "execution_count": 23,
   "id": "induced-claim",
   "metadata": {},
   "outputs": [],
   "source": [
    "# Write email\n",
    "search.send_keys(\"fominaya_sg@gmail.com\")"
   ]
  },
  {
   "cell_type": "code",
   "execution_count": 24,
   "id": "difficult-burner",
   "metadata": {},
   "outputs": [],
   "source": [
    "#Press password \n",
    "sleep(1)\n",
    "search = driver.find_element_by_id(\"password2\")\n",
    "search.click()"
   ]
  },
  {
   "cell_type": "code",
   "execution_count": 25,
   "id": "informal-willow",
   "metadata": {},
   "outputs": [],
   "source": [
    "# Write password\n",
    "search.send_keys(\"03Sonia09\")"
   ]
  },
  {
   "cell_type": "code",
   "execution_count": 26,
   "id": "turkish-cooperative",
   "metadata": {},
   "outputs": [],
   "source": [
    "sleep(1)\n",
    "driver.find_element_by_css_selector(\"#mainContentContainer > div > div.src-mainapp-auth-___AuthPage__authPageContainer___1jOiW > div.src-mainapp-auth-___LoginForm__root___-OFwj > button > span\").click()"
   ]
  }
 ],
 "metadata": {
  "kernelspec": {
   "display_name": "Python 3",
   "language": "python",
   "name": "python3"
  },
  "language_info": {
   "codemirror_mode": {
    "name": "ipython",
    "version": 3
   },
   "file_extension": ".py",
   "mimetype": "text/x-python",
   "name": "python",
   "nbconvert_exporter": "python",
   "pygments_lexer": "ipython3",
   "version": "3.8.5"
  },
  "toc": {
   "base_numbering": 1,
   "nav_menu": {},
   "number_sections": true,
   "sideBar": true,
   "skip_h1_title": false,
   "title_cell": "Table of Contents",
   "title_sidebar": "Contents",
   "toc_cell": true,
   "toc_position": {},
   "toc_section_display": true,
   "toc_window_display": false
  },
  "varInspector": {
   "cols": {
    "lenName": 16,
    "lenType": 16,
    "lenVar": 40
   },
   "kernels_config": {
    "python": {
     "delete_cmd_postfix": "",
     "delete_cmd_prefix": "del ",
     "library": "var_list.py",
     "varRefreshCmd": "print(var_dic_list())"
    },
    "r": {
     "delete_cmd_postfix": ") ",
     "delete_cmd_prefix": "rm(",
     "library": "var_list.r",
     "varRefreshCmd": "cat(var_dic_list()) "
    }
   },
   "types_to_exclude": [
    "module",
    "function",
    "builtin_function_or_method",
    "instance",
    "_Feature"
   ],
   "window_display": false
  }
 },
 "nbformat": 4,
 "nbformat_minor": 5
}
