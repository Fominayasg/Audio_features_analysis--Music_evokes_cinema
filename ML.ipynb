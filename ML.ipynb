{
 "cells": [
  {
   "cell_type": "markdown",
   "id": "heated-humor",
   "metadata": {
    "toc": true
   },
   "source": [
    "<h1>Table of Contents<span class=\"tocSkip\"></span></h1>\n",
    "<div class=\"toc\"><ul class=\"toc-item\"><li><span><a href=\"#Imports\" data-toc-modified-id=\"Imports-1\"><span class=\"toc-item-num\">1&nbsp;&nbsp;</span>Imports</a></span></li><li><span><a href=\"#15-sec-audios-csv\" data-toc-modified-id=\"15-sec-audios-csv-2\"><span class=\"toc-item-num\">2&nbsp;&nbsp;</span>15 sec audios csv</a></span><ul class=\"toc-item\"><li><span><a href=\"#Encoding\" data-toc-modified-id=\"Encoding-2.1\"><span class=\"toc-item-num\">2.1&nbsp;&nbsp;</span>Encoding</a></span></li><li><span><a href=\"#Classification-with-KERAS\" data-toc-modified-id=\"Classification-with-KERAS-2.2\"><span class=\"toc-item-num\">2.2&nbsp;&nbsp;</span>Classification with KERAS</a></span></li></ul></li><li><span><a href=\"#30sec-audio-csv\" data-toc-modified-id=\"30sec-audio-csv-3\"><span class=\"toc-item-num\">3&nbsp;&nbsp;</span>30sec audio csv</a></span><ul class=\"toc-item\"><li><span><a href=\"#Encoding\" data-toc-modified-id=\"Encoding-3.1\"><span class=\"toc-item-num\">3.1&nbsp;&nbsp;</span>Encoding</a></span></li><li><span><a href=\"#Classification-with-KERAS\" data-toc-modified-id=\"Classification-with-KERAS-3.2\"><span class=\"toc-item-num\">3.2&nbsp;&nbsp;</span>Classification with KERAS</a></span></li></ul></li><li><span><a href=\"#One-min-audio-csv\" data-toc-modified-id=\"One-min-audio-csv-4\"><span class=\"toc-item-num\">4&nbsp;&nbsp;</span>One min audio csv</a></span><ul class=\"toc-item\"><li><span><a href=\"#Encoding\" data-toc-modified-id=\"Encoding-4.1\"><span class=\"toc-item-num\">4.1&nbsp;&nbsp;</span>Encoding</a></span></li><li><span><a href=\"#Classification-with-KERAS\" data-toc-modified-id=\"Classification-with-KERAS-4.2\"><span class=\"toc-item-num\">4.2&nbsp;&nbsp;</span>Classification with KERAS</a></span></li></ul></li></ul></div>"
   ]
  },
  {
   "cell_type": "markdown",
   "id": "intimate-helicopter",
   "metadata": {},
   "source": [
    "# Imports"
   ]
  },
  {
   "cell_type": "code",
   "execution_count": 1,
   "id": "representative-fiction",
   "metadata": {},
   "outputs": [],
   "source": [
    "import pandas as pd\n",
    "from sklearn.model_selection import train_test_split\n",
    "from sklearn.preprocessing import LabelEncoder, StandardScaler"
   ]
  },
  {
   "cell_type": "code",
   "execution_count": 2,
   "id": "virtual-envelope",
   "metadata": {},
   "outputs": [],
   "source": [
    "from keras import models\n",
    "from keras import layers"
   ]
  },
  {
   "cell_type": "markdown",
   "id": "entire-morning",
   "metadata": {},
   "source": [
    "#  15 sec audios csv"
   ]
  },
  {
   "cell_type": "code",
   "execution_count": 17,
   "id": "civil-finger",
   "metadata": {},
   "outputs": [
    {
     "data": {
      "text/html": [
       "<div>\n",
       "<style scoped>\n",
       "    .dataframe tbody tr th:only-of-type {\n",
       "        vertical-align: middle;\n",
       "    }\n",
       "\n",
       "    .dataframe tbody tr th {\n",
       "        vertical-align: top;\n",
       "    }\n",
       "\n",
       "    .dataframe thead th {\n",
       "        text-align: right;\n",
       "    }\n",
       "</style>\n",
       "<table border=\"1\" class=\"dataframe\">\n",
       "  <thead>\n",
       "    <tr style=\"text-align: right;\">\n",
       "      <th></th>\n",
       "      <th>label</th>\n",
       "      <th>sample</th>\n",
       "      <th>spectral_band_width</th>\n",
       "      <th>spectral_centroid</th>\n",
       "      <th>spectral_rolloff</th>\n",
       "      <th>sr</th>\n",
       "      <th>zero_crossings</th>\n",
       "      <th>chroma_stft1</th>\n",
       "      <th>chroma_stft2</th>\n",
       "      <th>chroma_stft3</th>\n",
       "      <th>...</th>\n",
       "      <th>mfcc11</th>\n",
       "      <th>mfcc12</th>\n",
       "      <th>mfcc13</th>\n",
       "      <th>mfcc14</th>\n",
       "      <th>mfcc15</th>\n",
       "      <th>mfcc16</th>\n",
       "      <th>mfcc17</th>\n",
       "      <th>mfcc18</th>\n",
       "      <th>mfcc19</th>\n",
       "      <th>mfcc20</th>\n",
       "    </tr>\n",
       "  </thead>\n",
       "  <tbody>\n",
       "    <tr>\n",
       "      <th>0</th>\n",
       "      <td>Supernatural</td>\n",
       "      <td>[ 3.5482785e-08  1.0161084e-08 -9.5575921e-09 ...</td>\n",
       "      <td>1507.378098</td>\n",
       "      <td>1522.945223</td>\n",
       "      <td>2815.416309</td>\n",
       "      <td>22050.0</td>\n",
       "      <td>29991.0</td>\n",
       "      <td>0.453344</td>\n",
       "      <td>0.399369</td>\n",
       "      <td>0.448078</td>\n",
       "      <td>...</td>\n",
       "      <td>10.162286</td>\n",
       "      <td>-1.475135</td>\n",
       "      <td>-4.638062</td>\n",
       "      <td>1.869129</td>\n",
       "      <td>-0.975465</td>\n",
       "      <td>-5.003112</td>\n",
       "      <td>-5.594260</td>\n",
       "      <td>-3.202370</td>\n",
       "      <td>-7.406202</td>\n",
       "      <td>-7.042393</td>\n",
       "    </tr>\n",
       "    <tr>\n",
       "      <th>1</th>\n",
       "      <td>Supernatural</td>\n",
       "      <td>[-0.01804533 -0.02279626 -0.02293893 ...  0.11...</td>\n",
       "      <td>1122.701344</td>\n",
       "      <td>755.909261</td>\n",
       "      <td>1388.591603</td>\n",
       "      <td>22050.0</td>\n",
       "      <td>9221.0</td>\n",
       "      <td>0.409702</td>\n",
       "      <td>0.518329</td>\n",
       "      <td>0.514236</td>\n",
       "      <td>...</td>\n",
       "      <td>5.673896</td>\n",
       "      <td>-1.526408</td>\n",
       "      <td>-2.843114</td>\n",
       "      <td>0.721430</td>\n",
       "      <td>-3.170024</td>\n",
       "      <td>-7.626384</td>\n",
       "      <td>-8.286175</td>\n",
       "      <td>-6.374595</td>\n",
       "      <td>-10.097231</td>\n",
       "      <td>-9.024733</td>\n",
       "    </tr>\n",
       "    <tr>\n",
       "      <th>2</th>\n",
       "      <td>Supernatural</td>\n",
       "      <td>[0.11974812 0.11298294 0.10486316 ... 0.651836...</td>\n",
       "      <td>1578.514212</td>\n",
       "      <td>993.390330</td>\n",
       "      <td>2033.504370</td>\n",
       "      <td>22050.0</td>\n",
       "      <td>11084.0</td>\n",
       "      <td>0.393344</td>\n",
       "      <td>0.427793</td>\n",
       "      <td>0.308524</td>\n",
       "      <td>...</td>\n",
       "      <td>4.423209</td>\n",
       "      <td>1.149155</td>\n",
       "      <td>3.054912</td>\n",
       "      <td>2.470922</td>\n",
       "      <td>1.437676</td>\n",
       "      <td>-0.342702</td>\n",
       "      <td>-3.489931</td>\n",
       "      <td>1.365696</td>\n",
       "      <td>-2.860011</td>\n",
       "      <td>-2.095314</td>\n",
       "    </tr>\n",
       "    <tr>\n",
       "      <th>3</th>\n",
       "      <td>Supernatural</td>\n",
       "      <td>[ 0.62980396  0.6035918   0.5775655  ... -0.18...</td>\n",
       "      <td>1600.937584</td>\n",
       "      <td>950.315775</td>\n",
       "      <td>2002.187893</td>\n",
       "      <td>22050.0</td>\n",
       "      <td>10121.0</td>\n",
       "      <td>0.394099</td>\n",
       "      <td>0.477759</td>\n",
       "      <td>0.325616</td>\n",
       "      <td>...</td>\n",
       "      <td>4.411710</td>\n",
       "      <td>2.349769</td>\n",
       "      <td>3.419183</td>\n",
       "      <td>3.450564</td>\n",
       "      <td>2.275596</td>\n",
       "      <td>1.036599</td>\n",
       "      <td>-1.989547</td>\n",
       "      <td>2.314986</td>\n",
       "      <td>-1.819074</td>\n",
       "      <td>0.199002</td>\n",
       "    </tr>\n",
       "    <tr>\n",
       "      <th>4</th>\n",
       "      <td>Supernatural</td>\n",
       "      <td>[-0.09439093 -0.06570398 -0.03262438 ...  0.21...</td>\n",
       "      <td>1680.028111</td>\n",
       "      <td>1023.549388</td>\n",
       "      <td>2140.703722</td>\n",
       "      <td>22050.0</td>\n",
       "      <td>10175.0</td>\n",
       "      <td>0.441288</td>\n",
       "      <td>0.566445</td>\n",
       "      <td>0.345472</td>\n",
       "      <td>...</td>\n",
       "      <td>4.567989</td>\n",
       "      <td>2.673518</td>\n",
       "      <td>1.758143</td>\n",
       "      <td>4.438326</td>\n",
       "      <td>1.911656</td>\n",
       "      <td>-0.231997</td>\n",
       "      <td>-2.861677</td>\n",
       "      <td>0.761998</td>\n",
       "      <td>-5.020936</td>\n",
       "      <td>-0.173407</td>\n",
       "    </tr>\n",
       "  </tbody>\n",
       "</table>\n",
       "<p>5 rows × 39 columns</p>\n",
       "</div>"
      ],
      "text/plain": [
       "          label                                             sample  \\\n",
       "0  Supernatural  [ 3.5482785e-08  1.0161084e-08 -9.5575921e-09 ...   \n",
       "1  Supernatural  [-0.01804533 -0.02279626 -0.02293893 ...  0.11...   \n",
       "2  Supernatural  [0.11974812 0.11298294 0.10486316 ... 0.651836...   \n",
       "3  Supernatural  [ 0.62980396  0.6035918   0.5775655  ... -0.18...   \n",
       "4  Supernatural  [-0.09439093 -0.06570398 -0.03262438 ...  0.21...   \n",
       "\n",
       "   spectral_band_width  spectral_centroid  spectral_rolloff       sr  \\\n",
       "0          1507.378098        1522.945223       2815.416309  22050.0   \n",
       "1          1122.701344         755.909261       1388.591603  22050.0   \n",
       "2          1578.514212         993.390330       2033.504370  22050.0   \n",
       "3          1600.937584         950.315775       2002.187893  22050.0   \n",
       "4          1680.028111        1023.549388       2140.703722  22050.0   \n",
       "\n",
       "   zero_crossings  chroma_stft1  chroma_stft2  chroma_stft3  ...     mfcc11  \\\n",
       "0         29991.0      0.453344      0.399369      0.448078  ...  10.162286   \n",
       "1          9221.0      0.409702      0.518329      0.514236  ...   5.673896   \n",
       "2         11084.0      0.393344      0.427793      0.308524  ...   4.423209   \n",
       "3         10121.0      0.394099      0.477759      0.325616  ...   4.411710   \n",
       "4         10175.0      0.441288      0.566445      0.345472  ...   4.567989   \n",
       "\n",
       "     mfcc12    mfcc13    mfcc14    mfcc15    mfcc16    mfcc17    mfcc18  \\\n",
       "0 -1.475135 -4.638062  1.869129 -0.975465 -5.003112 -5.594260 -3.202370   \n",
       "1 -1.526408 -2.843114  0.721430 -3.170024 -7.626384 -8.286175 -6.374595   \n",
       "2  1.149155  3.054912  2.470922  1.437676 -0.342702 -3.489931  1.365696   \n",
       "3  2.349769  3.419183  3.450564  2.275596  1.036599 -1.989547  2.314986   \n",
       "4  2.673518  1.758143  4.438326  1.911656 -0.231997 -2.861677  0.761998   \n",
       "\n",
       "      mfcc19    mfcc20  \n",
       "0  -7.406202 -7.042393  \n",
       "1 -10.097231 -9.024733  \n",
       "2  -2.860011 -2.095314  \n",
       "3  -1.819074  0.199002  \n",
       "4  -5.020936 -0.173407  \n",
       "\n",
       "[5 rows x 39 columns]"
      ]
     },
     "execution_count": 17,
     "metadata": {},
     "output_type": "execute_result"
    }
   ],
   "source": [
    "df = pd.read_csv(\"Output/new_features.csv\")"
   ]
  },
  {
   "cell_type": "code",
   "execution_count": 18,
   "id": "elect-formula",
   "metadata": {},
   "outputs": [
    {
     "data": {
      "text/plain": [
       "(1589, 39)"
      ]
     },
     "execution_count": 18,
     "metadata": {},
     "output_type": "execute_result"
    }
   ],
   "source": [
    "df.shape"
   ]
  },
  {
   "cell_type": "code",
   "execution_count": 19,
   "id": "varying-marina",
   "metadata": {},
   "outputs": [
    {
     "data": {
      "text/html": [
       "<div>\n",
       "<style scoped>\n",
       "    .dataframe tbody tr th:only-of-type {\n",
       "        vertical-align: middle;\n",
       "    }\n",
       "\n",
       "    .dataframe tbody tr th {\n",
       "        vertical-align: top;\n",
       "    }\n",
       "\n",
       "    .dataframe thead th {\n",
       "        text-align: right;\n",
       "    }\n",
       "</style>\n",
       "<table border=\"1\" class=\"dataframe\">\n",
       "  <thead>\n",
       "    <tr style=\"text-align: right;\">\n",
       "      <th></th>\n",
       "      <th>label</th>\n",
       "      <th>spectral_band_width</th>\n",
       "      <th>spectral_centroid</th>\n",
       "      <th>spectral_rolloff</th>\n",
       "      <th>zero_crossings</th>\n",
       "      <th>chroma_stft1</th>\n",
       "      <th>chroma_stft2</th>\n",
       "      <th>chroma_stft3</th>\n",
       "      <th>chroma_stft4</th>\n",
       "      <th>chroma_stft5</th>\n",
       "      <th>...</th>\n",
       "      <th>mfcc11</th>\n",
       "      <th>mfcc12</th>\n",
       "      <th>mfcc13</th>\n",
       "      <th>mfcc14</th>\n",
       "      <th>mfcc15</th>\n",
       "      <th>mfcc16</th>\n",
       "      <th>mfcc17</th>\n",
       "      <th>mfcc18</th>\n",
       "      <th>mfcc19</th>\n",
       "      <th>mfcc20</th>\n",
       "    </tr>\n",
       "  </thead>\n",
       "  <tbody>\n",
       "    <tr>\n",
       "      <th>0</th>\n",
       "      <td>Supernatural</td>\n",
       "      <td>1507.378098</td>\n",
       "      <td>1522.945223</td>\n",
       "      <td>2815.416309</td>\n",
       "      <td>29991.0</td>\n",
       "      <td>0.453344</td>\n",
       "      <td>0.399369</td>\n",
       "      <td>0.448078</td>\n",
       "      <td>0.516113</td>\n",
       "      <td>0.604782</td>\n",
       "      <td>...</td>\n",
       "      <td>10.162286</td>\n",
       "      <td>-1.475135</td>\n",
       "      <td>-4.638062</td>\n",
       "      <td>1.869129</td>\n",
       "      <td>-0.975465</td>\n",
       "      <td>-5.003112</td>\n",
       "      <td>-5.59426</td>\n",
       "      <td>-3.20237</td>\n",
       "      <td>-7.406202</td>\n",
       "      <td>-7.042393</td>\n",
       "    </tr>\n",
       "  </tbody>\n",
       "</table>\n",
       "<p>1 rows × 37 columns</p>\n",
       "</div>"
      ],
      "text/plain": [
       "          label  spectral_band_width  spectral_centroid  spectral_rolloff  \\\n",
       "0  Supernatural          1507.378098        1522.945223       2815.416309   \n",
       "\n",
       "   zero_crossings  chroma_stft1  chroma_stft2  chroma_stft3  chroma_stft4  \\\n",
       "0         29991.0      0.453344      0.399369      0.448078      0.516113   \n",
       "\n",
       "   chroma_stft5  ...     mfcc11    mfcc12    mfcc13    mfcc14    mfcc15  \\\n",
       "0      0.604782  ...  10.162286 -1.475135 -4.638062  1.869129 -0.975465   \n",
       "\n",
       "     mfcc16   mfcc17   mfcc18    mfcc19    mfcc20  \n",
       "0 -5.003112 -5.59426 -3.20237 -7.406202 -7.042393  \n",
       "\n",
       "[1 rows x 37 columns]"
      ]
     },
     "execution_count": 19,
     "metadata": {},
     "output_type": "execute_result"
    }
   ],
   "source": [
    "df = df.drop(['sample','sr'],axis=1)"
   ]
  },
  {
   "cell_type": "markdown",
   "id": "dense-broad",
   "metadata": {},
   "source": [
    "## Encoding"
   ]
  },
  {
   "cell_type": "code",
   "execution_count": 20,
   "id": "starting-support",
   "metadata": {},
   "outputs": [],
   "source": [
    "genre_list = df['label']\n",
    "encoder = LabelEncoder()\n",
    "y = encoder.fit_transform(genre_list)"
   ]
  },
  {
   "cell_type": "code",
   "execution_count": 21,
   "id": "federal-child",
   "metadata": {},
   "outputs": [],
   "source": [
    "X = df.drop(['label'],axis=1)"
   ]
  },
  {
   "cell_type": "code",
   "execution_count": 22,
   "id": "essential-tokyo",
   "metadata": {},
   "outputs": [],
   "source": [
    "X_train, X_test, y_train, y_test = train_test_split(X, y, test_size=0.2)"
   ]
  },
  {
   "cell_type": "markdown",
   "id": "chief-registrar",
   "metadata": {},
   "source": [
    "## Classification with KERAS"
   ]
  },
  {
   "cell_type": "code",
   "execution_count": 28,
   "id": "destroyed-collector",
   "metadata": {},
   "outputs": [],
   "source": [
    "from keras import models\n",
    "from keras import layers\n",
    "\n",
    "network = models.Sequential()\n",
    "network.add(layers.Dense(256, activation='relu', input_shape=(X_train.shape[1],)))\n",
    "\n",
    "network.add(layers.Dense(128, activation='relu'))\n",
    "\n",
    "network.add(layers.Dense(64, activation='relu'))\n",
    "\n",
    "network.add(layers.Dense(6, activation='softmax'))"
   ]
  },
  {
   "cell_type": "code",
   "execution_count": 29,
   "id": "virtual-astronomy",
   "metadata": {},
   "outputs": [
    {
     "name": "stdout",
     "output_type": "stream",
     "text": [
      "Model: \"sequential_2\"\n",
      "_________________________________________________________________\n",
      "Layer (type)                 Output Shape              Param #   \n",
      "=================================================================\n",
      "dense_8 (Dense)              (None, 256)               9472      \n",
      "_________________________________________________________________\n",
      "dense_9 (Dense)              (None, 128)               32896     \n",
      "_________________________________________________________________\n",
      "dense_10 (Dense)             (None, 64)                8256      \n",
      "_________________________________________________________________\n",
      "dense_11 (Dense)             (None, 6)                 390       \n",
      "=================================================================\n",
      "Total params: 51,014\n",
      "Trainable params: 51,014\n",
      "Non-trainable params: 0\n",
      "_________________________________________________________________\n"
     ]
    }
   ],
   "source": [
    "network.summary()"
   ]
  },
  {
   "cell_type": "code",
   "execution_count": 30,
   "id": "clinical-better",
   "metadata": {},
   "outputs": [],
   "source": [
    "network.compile(optimizer='adam',\n",
    "              loss='sparse_categorical_crossentropy',\n",
    "              metrics=['accuracy'])"
   ]
  },
  {
   "cell_type": "code",
   "execution_count": 82,
   "id": "liberal-exhaust",
   "metadata": {},
   "outputs": [
    {
     "name": "stdout",
     "output_type": "stream",
     "text": [
      "Epoch 1/20\n",
      "4/4 [==============================] - 0s 2ms/step - loss: 336.6902 - accuracy: 0.1493\n",
      "Epoch 2/20\n",
      "4/4 [==============================] - 0s 2ms/step - loss: 557.3338 - accuracy: 0.1787\n",
      "Epoch 3/20\n",
      "4/4 [==============================] - 0s 2ms/step - loss: 532.0750 - accuracy: 0.2489\n",
      "Epoch 4/20\n",
      "4/4 [==============================] - 0s 2ms/step - loss: 379.2676 - accuracy: 0.1855\n",
      "Epoch 5/20\n",
      "4/4 [==============================] - 0s 2ms/step - loss: 407.4460 - accuracy: 0.1493\n",
      "Epoch 6/20\n",
      "4/4 [==============================] - 0s 2ms/step - loss: 432.8840 - accuracy: 0.1606\n",
      "Epoch 7/20\n",
      "4/4 [==============================] - 0s 3ms/step - loss: 241.1032 - accuracy: 0.2036\n",
      "Epoch 8/20\n",
      "4/4 [==============================] - 0s 2ms/step - loss: 316.8750 - accuracy: 0.1357\n",
      "Epoch 9/20\n",
      "4/4 [==============================] - 0s 2ms/step - loss: 260.9791 - accuracy: 0.1606\n",
      "Epoch 10/20\n",
      "4/4 [==============================] - 0s 2ms/step - loss: 350.7350 - accuracy: 0.1629\n",
      "Epoch 11/20\n",
      "4/4 [==============================] - 0s 2ms/step - loss: 377.6941 - accuracy: 0.2172\n",
      "Epoch 12/20\n",
      "4/4 [==============================] - 0s 2ms/step - loss: 340.0395 - accuracy: 0.2081\n",
      "Epoch 13/20\n",
      "4/4 [==============================] - 0s 2ms/step - loss: 214.0659 - accuracy: 0.2262\n",
      "Epoch 14/20\n",
      "4/4 [==============================] - 0s 2ms/step - loss: 221.9625 - accuracy: 0.2217\n",
      "Epoch 15/20\n",
      "4/4 [==============================] - 0s 2ms/step - loss: 201.9876 - accuracy: 0.1923\n",
      "Epoch 16/20\n",
      "4/4 [==============================] - 0s 2ms/step - loss: 162.3265 - accuracy: 0.1923\n",
      "Epoch 17/20\n",
      "4/4 [==============================] - 0s 2ms/step - loss: 120.5865 - accuracy: 0.2014\n",
      "Epoch 18/20\n",
      "4/4 [==============================] - 0s 2ms/step - loss: 81.9451 - accuracy: 0.1968\n",
      "Epoch 19/20\n",
      "4/4 [==============================] - 0s 2ms/step - loss: 77.6312 - accuracy: 0.1991\n",
      "Epoch 20/20\n",
      "4/4 [==============================] - 0s 3ms/step - loss: 88.3557 - accuracy: 0.2059\n"
     ]
    }
   ],
   "source": [
    "history = network.fit(X_train,\n",
    "                    y_train,\n",
    "                    epochs=20,\n",
    "                    batch_size=128)\n"
   ]
  },
  {
   "cell_type": "code",
   "execution_count": 33,
   "id": "invalid-minimum",
   "metadata": {},
   "outputs": [
    {
     "name": "stdout",
     "output_type": "stream",
     "text": [
      "10/10 [==============================] - 0s 696us/step - loss: 16.4232 - accuracy: 0.2453\n"
     ]
    }
   ],
   "source": [
    "test_loss, test_acc = network.evaluate(X_test,y_test)"
   ]
  },
  {
   "cell_type": "code",
   "execution_count": null,
   "id": "vertical-equality",
   "metadata": {},
   "outputs": [],
   "source": []
  },
  {
   "cell_type": "markdown",
   "id": "solar-gardening",
   "metadata": {},
   "source": [
    "# 30sec audio csv"
   ]
  },
  {
   "cell_type": "code",
   "execution_count": 51,
   "id": "authorized-turner",
   "metadata": {},
   "outputs": [],
   "source": [
    "df_30 = pd.read_csv(\"output/new_features_30.csv\")"
   ]
  },
  {
   "cell_type": "code",
   "execution_count": 52,
   "id": "transsexual-spell",
   "metadata": {},
   "outputs": [
    {
     "data": {
      "text/plain": [
       "(939, 39)"
      ]
     },
     "execution_count": 52,
     "metadata": {},
     "output_type": "execute_result"
    }
   ],
   "source": [
    "df_30.shape"
   ]
  },
  {
   "cell_type": "code",
   "execution_count": 53,
   "id": "respiratory-taiwan",
   "metadata": {},
   "outputs": [],
   "source": [
    "df_30 = df_30.drop(['sample','sr'],axis=1)"
   ]
  },
  {
   "cell_type": "markdown",
   "id": "floral-insured",
   "metadata": {},
   "source": [
    "## Encoding"
   ]
  },
  {
   "cell_type": "code",
   "execution_count": 54,
   "id": "twelve-mississippi",
   "metadata": {},
   "outputs": [],
   "source": [
    "genre_list_30 = df_30['label']\n",
    "encoder = LabelEncoder()\n",
    "y = encoder.fit_transform(genre_list_30)"
   ]
  },
  {
   "cell_type": "code",
   "execution_count": 55,
   "id": "sealed-sacramento",
   "metadata": {},
   "outputs": [],
   "source": [
    "X = df_30.drop(['label'],axis=1)"
   ]
  },
  {
   "cell_type": "code",
   "execution_count": 56,
   "id": "employed-pressure",
   "metadata": {},
   "outputs": [],
   "source": [
    "X_train, X_test, y_train, y_test = train_test_split(X, y, test_size=0.2)"
   ]
  },
  {
   "cell_type": "markdown",
   "id": "meaningful-cylinder",
   "metadata": {},
   "source": [
    "## Classification with KERAS"
   ]
  },
  {
   "cell_type": "code",
   "execution_count": 61,
   "id": "understood-uruguay",
   "metadata": {},
   "outputs": [],
   "source": [
    "from keras import models\n",
    "from keras import layers\n",
    "\n",
    "network_30 = models.Sequential()\n",
    "network_30.add(layers.Dense(256, activation='relu', input_shape=(X_train.shape[1],)))\n",
    "\n",
    "network_30.add(layers.Dense(128, activation='relu'))\n",
    "\n",
    "network_30.add(layers.Dense(64, activation='relu'))\n",
    "\n",
    "network_30.add(layers.Dense(6, activation='softmax'))"
   ]
  },
  {
   "cell_type": "code",
   "execution_count": 62,
   "id": "bridal-kinase",
   "metadata": {},
   "outputs": [
    {
     "name": "stdout",
     "output_type": "stream",
     "text": [
      "Model: \"sequential_6\"\n",
      "_________________________________________________________________\n",
      "Layer (type)                 Output Shape              Param #   \n",
      "=================================================================\n",
      "dense_24 (Dense)             (None, 256)               9472      \n",
      "_________________________________________________________________\n",
      "dense_25 (Dense)             (None, 128)               32896     \n",
      "_________________________________________________________________\n",
      "dense_26 (Dense)             (None, 64)                8256      \n",
      "_________________________________________________________________\n",
      "dense_27 (Dense)             (None, 6)                 390       \n",
      "=================================================================\n",
      "Total params: 51,014\n",
      "Trainable params: 51,014\n",
      "Non-trainable params: 0\n",
      "_________________________________________________________________\n"
     ]
    }
   ],
   "source": [
    "network_30.summary()"
   ]
  },
  {
   "cell_type": "code",
   "execution_count": 63,
   "id": "sharp-istanbul",
   "metadata": {},
   "outputs": [],
   "source": [
    "network_30.compile(optimizer='adam',\n",
    "              loss='sparse_categorical_crossentropy',\n",
    "              metrics=['accuracy'])"
   ]
  },
  {
   "cell_type": "code",
   "execution_count": 64,
   "id": "scientific-associate",
   "metadata": {},
   "outputs": [
    {
     "name": "stdout",
     "output_type": "stream",
     "text": [
      "Epoch 1/20\n",
      "6/6 [==============================] - 1s 1ms/step - loss: 2367.9915 - accuracy: 0.1608\n",
      "Epoch 2/20\n",
      "6/6 [==============================] - 0s 2ms/step - loss: 1287.4995 - accuracy: 0.1786\n",
      "Epoch 3/20\n",
      "6/6 [==============================] - 0s 2ms/step - loss: 887.9220 - accuracy: 0.1823\n",
      "Epoch 4/20\n",
      "6/6 [==============================] - 0s 1ms/step - loss: 426.2859 - accuracy: 0.1957\n",
      "Epoch 5/20\n",
      "6/6 [==============================] - 0s 1ms/step - loss: 471.2465 - accuracy: 0.2136\n",
      "Epoch 6/20\n",
      "6/6 [==============================] - 0s 1ms/step - loss: 330.0161 - accuracy: 0.1984\n",
      "Epoch 7/20\n",
      "6/6 [==============================] - 0s 1ms/step - loss: 333.9568 - accuracy: 0.1595\n",
      "Epoch 8/20\n",
      "6/6 [==============================] - 0s 1ms/step - loss: 319.3116 - accuracy: 0.2088\n",
      "Epoch 9/20\n",
      "6/6 [==============================] - 0s 1ms/step - loss: 231.1910 - accuracy: 0.1798\n",
      "Epoch 10/20\n",
      "6/6 [==============================] - 0s 2ms/step - loss: 225.8625 - accuracy: 0.2197\n",
      "Epoch 11/20\n",
      "6/6 [==============================] - 0s 2ms/step - loss: 180.5072 - accuracy: 0.2096\n",
      "Epoch 12/20\n",
      "6/6 [==============================] - 0s 1ms/step - loss: 91.0640 - accuracy: 0.2910\n",
      "Epoch 13/20\n",
      "6/6 [==============================] - 0s 2ms/step - loss: 137.0464 - accuracy: 0.2398\n",
      "Epoch 14/20\n",
      "6/6 [==============================] - 0s 2ms/step - loss: 195.2171 - accuracy: 0.1573\n",
      "Epoch 15/20\n",
      "6/6 [==============================] - 0s 2ms/step - loss: 179.8998 - accuracy: 0.2139\n",
      "Epoch 16/20\n",
      "6/6 [==============================] - 0s 1ms/step - loss: 187.9469 - accuracy: 0.1936\n",
      "Epoch 17/20\n",
      "6/6 [==============================] - 0s 2ms/step - loss: 139.6223 - accuracy: 0.2606\n",
      "Epoch 18/20\n",
      "6/6 [==============================] - 0s 2ms/step - loss: 123.6971 - accuracy: 0.1724\n",
      "Epoch 19/20\n",
      "6/6 [==============================] - 0s 2ms/step - loss: 132.4281 - accuracy: 0.1715\n",
      "Epoch 20/20\n",
      "6/6 [==============================] - 0s 2ms/step - loss: 96.7467 - accuracy: 0.2954\n"
     ]
    }
   ],
   "source": [
    "history_30 = network_30.fit(X_train,\n",
    "                    y_train,\n",
    "                    epochs=20,\n",
    "                    batch_size=128)\n"
   ]
  },
  {
   "cell_type": "code",
   "execution_count": 45,
   "id": "portuguese-utility",
   "metadata": {},
   "outputs": [
    {
     "name": "stdout",
     "output_type": "stream",
     "text": [
      "6/6 [==============================] - 0s 835us/step - loss: 119.2027 - accuracy: 0.2819\n"
     ]
    }
   ],
   "source": [
    "test_loss, test_acc = network_30.evaluate(X_test,y_test)"
   ]
  },
  {
   "cell_type": "markdown",
   "id": "contrary-roman",
   "metadata": {},
   "source": [
    "# One min audio csv"
   ]
  },
  {
   "cell_type": "code",
   "execution_count": 65,
   "id": "active-minimum",
   "metadata": {},
   "outputs": [],
   "source": [
    "df_1m = pd.read_csv(\"output/new_features_60s_030ov.csv\")"
   ]
  },
  {
   "cell_type": "code",
   "execution_count": 66,
   "id": "short-satin",
   "metadata": {},
   "outputs": [
    {
     "data": {
      "text/plain": [
       "(553, 39)"
      ]
     },
     "execution_count": 66,
     "metadata": {},
     "output_type": "execute_result"
    }
   ],
   "source": [
    "df_1m.shape"
   ]
  },
  {
   "cell_type": "code",
   "execution_count": 67,
   "id": "turkish-species",
   "metadata": {},
   "outputs": [],
   "source": [
    "df_1m = df_1m.drop(['sample','sr'],axis=1)"
   ]
  },
  {
   "cell_type": "markdown",
   "id": "varying-myrtle",
   "metadata": {},
   "source": [
    "## Encoding"
   ]
  },
  {
   "cell_type": "code",
   "execution_count": 68,
   "id": "controlled-orange",
   "metadata": {},
   "outputs": [],
   "source": [
    "genre_list_30 = df_1m['label']\n",
    "encoder = LabelEncoder()\n",
    "y = encoder.fit_transform(genre_list_30)"
   ]
  },
  {
   "cell_type": "code",
   "execution_count": 69,
   "id": "different-frost",
   "metadata": {},
   "outputs": [],
   "source": [
    "X = df_1m.drop(['label'],axis=1)"
   ]
  },
  {
   "cell_type": "code",
   "execution_count": 70,
   "id": "nominated-station",
   "metadata": {},
   "outputs": [],
   "source": [
    "X_train, X_test, y_train, y_test = train_test_split(X, y, test_size=0.2)"
   ]
  },
  {
   "cell_type": "markdown",
   "id": "assisted-louisville",
   "metadata": {},
   "source": [
    "## Classification with KERAS"
   ]
  },
  {
   "cell_type": "code",
   "execution_count": 71,
   "id": "super-chapel",
   "metadata": {},
   "outputs": [],
   "source": [
    "from keras import models\n",
    "from keras import layers\n",
    "\n",
    "network_1m = models.Sequential()\n",
    "network_1m.add(layers.Dense(256, activation='relu', input_shape=(X_train.shape[1],)))\n",
    "\n",
    "network_1m.add(layers.Dense(128, activation='relu'))\n",
    "\n",
    "network_1m.add(layers.Dense(64, activation='relu'))\n",
    "\n",
    "network_1m.add(layers.Dense(6, activation='softmax'))"
   ]
  },
  {
   "cell_type": "code",
   "execution_count": 72,
   "id": "sharp-immigration",
   "metadata": {},
   "outputs": [
    {
     "name": "stdout",
     "output_type": "stream",
     "text": [
      "Model: \"sequential_7\"\n",
      "_________________________________________________________________\n",
      "Layer (type)                 Output Shape              Param #   \n",
      "=================================================================\n",
      "dense_28 (Dense)             (None, 256)               9472      \n",
      "_________________________________________________________________\n",
      "dense_29 (Dense)             (None, 128)               32896     \n",
      "_________________________________________________________________\n",
      "dense_30 (Dense)             (None, 64)                8256      \n",
      "_________________________________________________________________\n",
      "dense_31 (Dense)             (None, 6)                 390       \n",
      "=================================================================\n",
      "Total params: 51,014\n",
      "Trainable params: 51,014\n",
      "Non-trainable params: 0\n",
      "_________________________________________________________________\n"
     ]
    }
   ],
   "source": [
    "network_1m.summary()"
   ]
  },
  {
   "cell_type": "code",
   "execution_count": 73,
   "id": "hourly-timber",
   "metadata": {},
   "outputs": [],
   "source": [
    "network_1m.compile(optimizer='adam',\n",
    "              loss='sparse_categorical_crossentropy',\n",
    "              metrics=['accuracy'])"
   ]
  },
  {
   "cell_type": "code",
   "execution_count": 80,
   "id": "recovered-omega",
   "metadata": {},
   "outputs": [
    {
     "name": "stdout",
     "output_type": "stream",
     "text": [
      "Epoch 1/20\n",
      "4/4 [==============================] - 0s 2ms/step - loss: 203.1990 - accuracy: 0.2534\n",
      "Epoch 2/20\n",
      "4/4 [==============================] - 0s 1ms/step - loss: 161.9139 - accuracy: 0.2511\n",
      "Epoch 3/20\n",
      "4/4 [==============================] - 0s 2ms/step - loss: 171.4659 - accuracy: 0.1765\n",
      "Epoch 4/20\n",
      "4/4 [==============================] - 0s 2ms/step - loss: 106.7402 - accuracy: 0.2421\n",
      "Epoch 5/20\n",
      "4/4 [==============================] - 0s 1ms/step - loss: 174.3992 - accuracy: 0.1697\n",
      "Epoch 6/20\n",
      "4/4 [==============================] - 0s 1ms/step - loss: 254.5544 - accuracy: 0.2602\n",
      "Epoch 7/20\n",
      "4/4 [==============================] - 0s 2ms/step - loss: 193.0404 - accuracy: 0.2104\n",
      "Epoch 8/20\n",
      "4/4 [==============================] - 0s 2ms/step - loss: 275.4733 - accuracy: 0.1833\n",
      "Epoch 9/20\n",
      "4/4 [==============================] - 0s 2ms/step - loss: 191.5782 - accuracy: 0.2896\n",
      "Epoch 10/20\n",
      "4/4 [==============================] - 0s 2ms/step - loss: 218.2960 - accuracy: 0.1878\n",
      "Epoch 11/20\n",
      "4/4 [==============================] - 0s 2ms/step - loss: 214.9577 - accuracy: 0.2308\n",
      "Epoch 12/20\n",
      "4/4 [==============================] - 0s 2ms/step - loss: 169.8409 - accuracy: 0.2217\n",
      "Epoch 13/20\n",
      "4/4 [==============================] - 0s 2ms/step - loss: 103.7948 - accuracy: 0.2036\n",
      "Epoch 14/20\n",
      "4/4 [==============================] - 0s 2ms/step - loss: 135.9286 - accuracy: 0.2511\n",
      "Epoch 15/20\n",
      "4/4 [==============================] - 0s 2ms/step - loss: 89.4544 - accuracy: 0.2443\n",
      "Epoch 16/20\n",
      "4/4 [==============================] - 0s 2ms/step - loss: 113.9435 - accuracy: 0.1968\n",
      "Epoch 17/20\n",
      "4/4 [==============================] - 0s 2ms/step - loss: 186.5987 - accuracy: 0.1900\n",
      "Epoch 18/20\n",
      "4/4 [==============================] - 0s 2ms/step - loss: 176.0732 - accuracy: 0.2014\n",
      "Epoch 19/20\n",
      "4/4 [==============================] - 0s 2ms/step - loss: 205.1254 - accuracy: 0.1765\n",
      "Epoch 20/20\n",
      "4/4 [==============================] - 0s 2ms/step - loss: 124.2258 - accuracy: 0.2647\n"
     ]
    }
   ],
   "source": [
    "history_1m = network_1m.fit(X_train,\n",
    "                    y_train,\n",
    "                    epochs=20,\n",
    "                    batch_size=128)\n"
   ]
  },
  {
   "cell_type": "code",
   "execution_count": 81,
   "id": "funded-rugby",
   "metadata": {},
   "outputs": [
    {
     "name": "stdout",
     "output_type": "stream",
     "text": [
      "4/4 [==============================] - 0s 1ms/step - loss: 151.6565 - accuracy: 0.2072\n"
     ]
    }
   ],
   "source": [
    "test_loss, test_acc = network_1m.evaluate(X_test,y_test)"
   ]
  },
  {
   "cell_type": "code",
   "execution_count": null,
   "id": "ultimate-decade",
   "metadata": {},
   "outputs": [],
   "source": []
  }
 ],
 "metadata": {
  "kernelspec": {
   "display_name": "Python 3",
   "language": "python",
   "name": "python3"
  },
  "language_info": {
   "codemirror_mode": {
    "name": "ipython",
    "version": 3
   },
   "file_extension": ".py",
   "mimetype": "text/x-python",
   "name": "python",
   "nbconvert_exporter": "python",
   "pygments_lexer": "ipython3",
   "version": "3.8.5"
  },
  "toc": {
   "base_numbering": 1,
   "nav_menu": {},
   "number_sections": true,
   "sideBar": true,
   "skip_h1_title": false,
   "title_cell": "Table of Contents",
   "title_sidebar": "Contents",
   "toc_cell": true,
   "toc_position": {},
   "toc_section_display": true,
   "toc_window_display": false
  },
  "varInspector": {
   "cols": {
    "lenName": 16,
    "lenType": 16,
    "lenVar": 40
   },
   "kernels_config": {
    "python": {
     "delete_cmd_postfix": "",
     "delete_cmd_prefix": "del ",
     "library": "var_list.py",
     "varRefreshCmd": "print(var_dic_list())"
    },
    "r": {
     "delete_cmd_postfix": ") ",
     "delete_cmd_prefix": "rm(",
     "library": "var_list.r",
     "varRefreshCmd": "cat(var_dic_list()) "
    }
   },
   "types_to_exclude": [
    "module",
    "function",
    "builtin_function_or_method",
    "instance",
    "_Feature"
   ],
   "window_display": false
  }
 },
 "nbformat": 4,
 "nbformat_minor": 5
}
