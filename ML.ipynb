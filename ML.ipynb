{
 "cells": [
  {
   "cell_type": "markdown",
   "id": "quality-brave",
   "metadata": {
    "toc": true
   },
   "source": [
    "<h1>Table of Contents<span class=\"tocSkip\"></span></h1>\n",
    "<div class=\"toc\"><ul class=\"toc-item\"><li><span><a href=\"#Imports\" data-toc-modified-id=\"Imports-1\"><span class=\"toc-item-num\">1&nbsp;&nbsp;</span>Imports</a></span></li><li><span><a href=\"#Load-audios-csv\" data-toc-modified-id=\"Load-audios-csv-2\"><span class=\"toc-item-num\">2&nbsp;&nbsp;</span>Load audios csv</a></span><ul class=\"toc-item\"><li><span><a href=\"#Encoding\" data-toc-modified-id=\"Encoding-2.1\"><span class=\"toc-item-num\">2.1&nbsp;&nbsp;</span>Encoding</a></span></li><li><span><a href=\"#Classification-with-KERAS\" data-toc-modified-id=\"Classification-with-KERAS-2.2\"><span class=\"toc-item-num\">2.2&nbsp;&nbsp;</span>Classification with KERAS</a></span><ul class=\"toc-item\"><li><span><a href=\"#Features\" data-toc-modified-id=\"Features-2.2.1\"><span class=\"toc-item-num\">2.2.1&nbsp;&nbsp;</span>Features</a></span></li></ul></li></ul></li><li><span><a href=\"#30sec-audio-csv\" data-toc-modified-id=\"30sec-audio-csv-3\"><span class=\"toc-item-num\">3&nbsp;&nbsp;</span>30sec audio csv</a></span><ul class=\"toc-item\"><li><span><a href=\"#Encoding\" data-toc-modified-id=\"Encoding-3.1\"><span class=\"toc-item-num\">3.1&nbsp;&nbsp;</span>Encoding</a></span></li><li><span><a href=\"#Classification-with-KERAS\" data-toc-modified-id=\"Classification-with-KERAS-3.2\"><span class=\"toc-item-num\">3.2&nbsp;&nbsp;</span>Classification with KERAS</a></span></li></ul></li><li><span><a href=\"#One-min-audio-csv\" data-toc-modified-id=\"One-min-audio-csv-4\"><span class=\"toc-item-num\">4&nbsp;&nbsp;</span>One min audio csv</a></span><ul class=\"toc-item\"><li><span><a href=\"#Encoding\" data-toc-modified-id=\"Encoding-4.1\"><span class=\"toc-item-num\">4.1&nbsp;&nbsp;</span>Encoding</a></span></li><li><span><a href=\"#Classification-with-KERAS\" data-toc-modified-id=\"Classification-with-KERAS-4.2\"><span class=\"toc-item-num\">4.2&nbsp;&nbsp;</span>Classification with KERAS</a></span></li></ul></li></ul></div>"
   ]
  },
  {
   "cell_type": "markdown",
   "id": "lovely-occasion",
   "metadata": {},
   "source": [
    "# Imports"
   ]
  },
  {
   "cell_type": "code",
   "execution_count": 1,
   "id": "played-catch",
   "metadata": {},
   "outputs": [],
   "source": [
    "import pandas as pd\n",
    "from sklearn.model_selection import train_test_split\n",
    "from sklearn.preprocessing import LabelEncoder, StandardScaler"
   ]
  },
  {
   "cell_type": "code",
   "execution_count": 2,
   "id": "knowing-terry",
   "metadata": {},
   "outputs": [],
   "source": [
    "from keras import models\n",
    "from keras import layers"
   ]
  },
  {
   "cell_type": "code",
   "execution_count": 3,
   "id": "fleet-merchant",
   "metadata": {},
   "outputs": [],
   "source": [
    "import matplotlib.pyplot as plt"
   ]
  },
  {
   "cell_type": "markdown",
   "id": "inclusive-bolivia",
   "metadata": {},
   "source": [
    "#  Load audios csv"
   ]
  },
  {
   "cell_type": "code",
   "execution_count": 5,
   "id": "animal-dover",
   "metadata": {},
   "outputs": [],
   "source": [
    "df = pd.read_csv(\"output/even_more_features_15s_025ov.csv\")"
   ]
  },
  {
   "cell_type": "code",
   "execution_count": 6,
   "id": "creative-picture",
   "metadata": {},
   "outputs": [
    {
     "data": {
      "text/plain": [
       "(1589, 54)"
      ]
     },
     "execution_count": 6,
     "metadata": {},
     "output_type": "execute_result"
    }
   ],
   "source": [
    "df.shape"
   ]
  },
  {
   "cell_type": "code",
   "execution_count": 7,
   "id": "electoral-subdivision",
   "metadata": {},
   "outputs": [],
   "source": [
    "df = df.drop(['sample','sr'],axis=1)"
   ]
  },
  {
   "cell_type": "code",
   "execution_count": 8,
   "id": "worldwide-housing",
   "metadata": {},
   "outputs": [
    {
     "data": {
      "text/plain": [
       "Beautiful       360\n",
       "Drama           290\n",
       "Adventure       270\n",
       "Action          266\n",
       "Horror          265\n",
       "Supernatural    138\n",
       "Name: label, dtype: int64"
      ]
     },
     "execution_count": 8,
     "metadata": {},
     "output_type": "execute_result"
    }
   ],
   "source": [
    "df.label.value_counts()"
   ]
  },
  {
   "cell_type": "code",
   "execution_count": 9,
   "id": "joined-tennis",
   "metadata": {},
   "outputs": [],
   "source": [
    "df = df[df.label.isin(['Action', 'Beautiful', \"Adventure\"])]"
   ]
  },
  {
   "cell_type": "code",
   "execution_count": 10,
   "id": "listed-wagon",
   "metadata": {},
   "outputs": [
    {
     "data": {
      "text/plain": [
       "(896, 52)"
      ]
     },
     "execution_count": 10,
     "metadata": {},
     "output_type": "execute_result"
    }
   ],
   "source": [
    "df.shape"
   ]
  },
  {
   "cell_type": "markdown",
   "id": "animated-charter",
   "metadata": {},
   "source": [
    "## Encoding"
   ]
  },
  {
   "cell_type": "code",
   "execution_count": 11,
   "id": "assisted-optics",
   "metadata": {},
   "outputs": [],
   "source": [
    "genre_list = df['label']\n",
    "encoder = LabelEncoder()\n",
    "y = encoder.fit_transform(genre_list)"
   ]
  },
  {
   "cell_type": "code",
   "execution_count": 12,
   "id": "functioning-degree",
   "metadata": {},
   "outputs": [],
   "source": [
    "from keras.utils import np_utils"
   ]
  },
  {
   "cell_type": "code",
   "execution_count": 13,
   "id": "moderate-fashion",
   "metadata": {},
   "outputs": [],
   "source": [
    "y= np_utils.to_categorical(y)"
   ]
  },
  {
   "cell_type": "code",
   "execution_count": 14,
   "id": "wound-centre",
   "metadata": {},
   "outputs": [
    {
     "data": {
      "text/plain": [
       "(896, 3)"
      ]
     },
     "execution_count": 14,
     "metadata": {},
     "output_type": "execute_result"
    }
   ],
   "source": [
    "y.shape"
   ]
  },
  {
   "cell_type": "code",
   "execution_count": 15,
   "id": "official-experiment",
   "metadata": {},
   "outputs": [],
   "source": [
    "X = df.drop(['label'],axis=1)\n",
    "scaler = StandardScaler()\n",
    "X = scaler.fit_transform(X)"
   ]
  },
  {
   "cell_type": "code",
   "execution_count": 16,
   "id": "typical-sweet",
   "metadata": {},
   "outputs": [],
   "source": [
    "X_train, X_test, y_train, y_test = train_test_split(X, y, test_size=0.2)"
   ]
  },
  {
   "cell_type": "markdown",
   "id": "stunning-communications",
   "metadata": {},
   "source": [
    "## Classification with KERAS"
   ]
  },
  {
   "cell_type": "code",
   "execution_count": 17,
   "id": "sitting-minutes",
   "metadata": {},
   "outputs": [],
   "source": [
    "from keras import models\n",
    "from keras import layers\n",
    "\n",
    "network = models.Sequential()\n",
    "network.add(layers.Dense(256, activation='relu', input_shape=(X_train.shape[1],)))\n",
    "network.add(layers.Dropout(0.3))\n",
    "\n",
    "network.add(layers.Dense(128, activation='relu'))\n",
    "network.add(layers.Dropout(0.3))\n",
    "\n",
    "network.add(layers.Dense(64, activation='relu'))\n",
    "network.add(layers.Dropout(0.3))\n",
    "\n",
    "network.add(layers.Dense(y.shape[-1], activation='softmax'))"
   ]
  },
  {
   "cell_type": "code",
   "execution_count": 18,
   "id": "atlantic-found",
   "metadata": {},
   "outputs": [
    {
     "name": "stdout",
     "output_type": "stream",
     "text": [
      "Model: \"sequential\"\n",
      "_________________________________________________________________\n",
      "Layer (type)                 Output Shape              Param #   \n",
      "=================================================================\n",
      "dense (Dense)                (None, 256)               13312     \n",
      "_________________________________________________________________\n",
      "dropout (Dropout)            (None, 256)               0         \n",
      "_________________________________________________________________\n",
      "dense_1 (Dense)              (None, 128)               32896     \n",
      "_________________________________________________________________\n",
      "dropout_1 (Dropout)          (None, 128)               0         \n",
      "_________________________________________________________________\n",
      "dense_2 (Dense)              (None, 64)                8256      \n",
      "_________________________________________________________________\n",
      "dropout_2 (Dropout)          (None, 64)                0         \n",
      "_________________________________________________________________\n",
      "dense_3 (Dense)              (None, 3)                 195       \n",
      "=================================================================\n",
      "Total params: 54,659\n",
      "Trainable params: 54,659\n",
      "Non-trainable params: 0\n",
      "_________________________________________________________________\n"
     ]
    }
   ],
   "source": [
    "network.summary()"
   ]
  },
  {
   "cell_type": "code",
   "execution_count": 19,
   "id": "northern-badge",
   "metadata": {},
   "outputs": [],
   "source": [
    "network.compile(optimizer='adam',\n",
    "              loss='categorical_crossentropy',\n",
    "               metrics=['accuracy'])"
   ]
  },
  {
   "cell_type": "code",
   "execution_count": 20,
   "id": "typical-status",
   "metadata": {},
   "outputs": [
    {
     "name": "stdout",
     "output_type": "stream",
     "text": [
      "Epoch 1/100\n",
      "6/6 [==============================] - 1s 40ms/step - loss: 1.1650 - accuracy: 0.3560 - val_loss: 0.9000 - val_accuracy: 0.6500\n",
      "Epoch 2/100\n",
      "6/6 [==============================] - 0s 7ms/step - loss: 0.9028 - accuracy: 0.5658 - val_loss: 0.8136 - val_accuracy: 0.6500\n",
      "Epoch 3/100\n",
      "6/6 [==============================] - 0s 8ms/step - loss: 0.8276 - accuracy: 0.6409 - val_loss: 0.7547 - val_accuracy: 0.6889\n",
      "Epoch 4/100\n",
      "6/6 [==============================] - 0s 9ms/step - loss: 0.7649 - accuracy: 0.6713 - val_loss: 0.7275 - val_accuracy: 0.7222\n",
      "Epoch 5/100\n",
      "6/6 [==============================] - 0s 8ms/step - loss: 0.7554 - accuracy: 0.6734 - val_loss: 0.7135 - val_accuracy: 0.7167\n",
      "Epoch 6/100\n",
      "6/6 [==============================] - 0s 9ms/step - loss: 0.7140 - accuracy: 0.6935 - val_loss: 0.6980 - val_accuracy: 0.7222\n",
      "Epoch 7/100\n",
      "6/6 [==============================] - 0s 9ms/step - loss: 0.6824 - accuracy: 0.7275 - val_loss: 0.6899 - val_accuracy: 0.7222\n",
      "Epoch 8/100\n",
      "6/6 [==============================] - 0s 9ms/step - loss: 0.6715 - accuracy: 0.7273 - val_loss: 0.6889 - val_accuracy: 0.7333\n",
      "Epoch 9/100\n",
      "6/6 [==============================] - 0s 9ms/step - loss: 0.6423 - accuracy: 0.7321 - val_loss: 0.6787 - val_accuracy: 0.7444\n",
      "Epoch 10/100\n",
      "6/6 [==============================] - 0s 9ms/step - loss: 0.6204 - accuracy: 0.7275 - val_loss: 0.6612 - val_accuracy: 0.7556\n",
      "Epoch 11/100\n",
      "6/6 [==============================] - 0s 9ms/step - loss: 0.6437 - accuracy: 0.7171 - val_loss: 0.6652 - val_accuracy: 0.7389\n",
      "Epoch 12/100\n",
      "6/6 [==============================] - 0s 9ms/step - loss: 0.5790 - accuracy: 0.7562 - val_loss: 0.6556 - val_accuracy: 0.7500\n",
      "Epoch 13/100\n",
      "6/6 [==============================] - 0s 8ms/step - loss: 0.6003 - accuracy: 0.7465 - val_loss: 0.6434 - val_accuracy: 0.7556\n",
      "Epoch 14/100\n",
      "6/6 [==============================] - 0s 8ms/step - loss: 0.5923 - accuracy: 0.7479 - val_loss: 0.6477 - val_accuracy: 0.7611\n",
      "Epoch 15/100\n",
      "6/6 [==============================] - 0s 8ms/step - loss: 0.5671 - accuracy: 0.7477 - val_loss: 0.6565 - val_accuracy: 0.7611\n",
      "Epoch 16/100\n",
      "6/6 [==============================] - 0s 9ms/step - loss: 0.5367 - accuracy: 0.7652 - val_loss: 0.6371 - val_accuracy: 0.7556\n",
      "Epoch 17/100\n",
      "6/6 [==============================] - 0s 8ms/step - loss: 0.4767 - accuracy: 0.8016 - val_loss: 0.6372 - val_accuracy: 0.7778\n",
      "Epoch 18/100\n",
      "6/6 [==============================] - 0s 8ms/step - loss: 0.4974 - accuracy: 0.8001 - val_loss: 0.6462 - val_accuracy: 0.7611\n",
      "Epoch 19/100\n",
      "6/6 [==============================] - 0s 9ms/step - loss: 0.4578 - accuracy: 0.8237 - val_loss: 0.6424 - val_accuracy: 0.7722\n",
      "Epoch 20/100\n",
      "6/6 [==============================] - 0s 9ms/step - loss: 0.4647 - accuracy: 0.7991 - val_loss: 0.6295 - val_accuracy: 0.7667\n",
      "Epoch 21/100\n",
      "6/6 [==============================] - 0s 9ms/step - loss: 0.4426 - accuracy: 0.8091 - val_loss: 0.6283 - val_accuracy: 0.7833\n",
      "Epoch 22/100\n",
      "6/6 [==============================] - 0s 9ms/step - loss: 0.4294 - accuracy: 0.8233 - val_loss: 0.6212 - val_accuracy: 0.7944\n",
      "Epoch 23/100\n",
      "6/6 [==============================] - 0s 9ms/step - loss: 0.4238 - accuracy: 0.8183 - val_loss: 0.6322 - val_accuracy: 0.7833\n",
      "Epoch 24/100\n",
      "6/6 [==============================] - 0s 9ms/step - loss: 0.4130 - accuracy: 0.8431 - val_loss: 0.6239 - val_accuracy: 0.7833\n",
      "Epoch 25/100\n",
      "6/6 [==============================] - 0s 9ms/step - loss: 0.3693 - accuracy: 0.8534 - val_loss: 0.6277 - val_accuracy: 0.7833\n",
      "Epoch 26/100\n",
      "6/6 [==============================] - 0s 9ms/step - loss: 0.3871 - accuracy: 0.8292 - val_loss: 0.6347 - val_accuracy: 0.7944\n",
      "Epoch 27/100\n",
      "6/6 [==============================] - 0s 8ms/step - loss: 0.3703 - accuracy: 0.8466 - val_loss: 0.6326 - val_accuracy: 0.7944\n",
      "Epoch 28/100\n",
      "6/6 [==============================] - 0s 9ms/step - loss: 0.4038 - accuracy: 0.8253 - val_loss: 0.6127 - val_accuracy: 0.7778\n",
      "Epoch 29/100\n",
      "6/6 [==============================] - 0s 9ms/step - loss: 0.3633 - accuracy: 0.8612 - val_loss: 0.6184 - val_accuracy: 0.7889\n",
      "Epoch 30/100\n",
      "6/6 [==============================] - 0s 9ms/step - loss: 0.3397 - accuracy: 0.8628 - val_loss: 0.6359 - val_accuracy: 0.8000\n",
      "Epoch 31/100\n",
      "6/6 [==============================] - 0s 8ms/step - loss: 0.3254 - accuracy: 0.8649 - val_loss: 0.6294 - val_accuracy: 0.7722\n",
      "Epoch 32/100\n",
      "6/6 [==============================] - 0s 9ms/step - loss: 0.3373 - accuracy: 0.8626 - val_loss: 0.6273 - val_accuracy: 0.7667\n",
      "Epoch 33/100\n",
      "6/6 [==============================] - 0s 9ms/step - loss: 0.3150 - accuracy: 0.8824 - val_loss: 0.6404 - val_accuracy: 0.7778\n",
      "Epoch 34/100\n",
      "6/6 [==============================] - 0s 9ms/step - loss: 0.3241 - accuracy: 0.8647 - val_loss: 0.6481 - val_accuracy: 0.7778\n",
      "Epoch 35/100\n",
      "6/6 [==============================] - 0s 9ms/step - loss: 0.3374 - accuracy: 0.8572 - val_loss: 0.6482 - val_accuracy: 0.7778\n",
      "Epoch 36/100\n",
      "6/6 [==============================] - 0s 9ms/step - loss: 0.3279 - accuracy: 0.8593 - val_loss: 0.6220 - val_accuracy: 0.7833\n",
      "Epoch 37/100\n",
      "6/6 [==============================] - 0s 9ms/step - loss: 0.2895 - accuracy: 0.8806 - val_loss: 0.6661 - val_accuracy: 0.7889\n",
      "Epoch 38/100\n",
      "6/6 [==============================] - 0s 9ms/step - loss: 0.3030 - accuracy: 0.8874 - val_loss: 0.6594 - val_accuracy: 0.7833\n",
      "Epoch 39/100\n",
      "6/6 [==============================] - 0s 8ms/step - loss: 0.2830 - accuracy: 0.8817 - val_loss: 0.6314 - val_accuracy: 0.7944\n",
      "Epoch 40/100\n",
      "6/6 [==============================] - 0s 7ms/step - loss: 0.2493 - accuracy: 0.9114 - val_loss: 0.6321 - val_accuracy: 0.7778\n",
      "Epoch 41/100\n",
      "6/6 [==============================] - 0s 7ms/step - loss: 0.3026 - accuracy: 0.8845 - val_loss: 0.6381 - val_accuracy: 0.7722\n",
      "Epoch 42/100\n",
      "6/6 [==============================] - 0s 7ms/step - loss: 0.2766 - accuracy: 0.8885 - val_loss: 0.6518 - val_accuracy: 0.7778\n",
      "Epoch 43/100\n",
      "6/6 [==============================] - 0s 7ms/step - loss: 0.2568 - accuracy: 0.8874 - val_loss: 0.6743 - val_accuracy: 0.7833\n",
      "Epoch 44/100\n",
      "6/6 [==============================] - 0s 9ms/step - loss: 0.2726 - accuracy: 0.8900 - val_loss: 0.6690 - val_accuracy: 0.7889\n",
      "Epoch 45/100\n",
      "6/6 [==============================] - 0s 7ms/step - loss: 0.2444 - accuracy: 0.8965 - val_loss: 0.6863 - val_accuracy: 0.7833\n",
      "Epoch 46/100\n",
      "6/6 [==============================] - 0s 7ms/step - loss: 0.2571 - accuracy: 0.8917 - val_loss: 0.6868 - val_accuracy: 0.7833\n",
      "Epoch 47/100\n",
      "6/6 [==============================] - 0s 7ms/step - loss: 0.2583 - accuracy: 0.8851 - val_loss: 0.6951 - val_accuracy: 0.7778\n",
      "Epoch 48/100\n",
      "6/6 [==============================] - 0s 7ms/step - loss: 0.2517 - accuracy: 0.9017 - val_loss: 0.7019 - val_accuracy: 0.7778\n",
      "Epoch 49/100\n",
      "6/6 [==============================] - 0s 7ms/step - loss: 0.2646 - accuracy: 0.8998 - val_loss: 0.7037 - val_accuracy: 0.7833\n",
      "Epoch 50/100\n",
      "6/6 [==============================] - 0s 7ms/step - loss: 0.2142 - accuracy: 0.9108 - val_loss: 0.6842 - val_accuracy: 0.7833\n",
      "Epoch 51/100\n",
      "6/6 [==============================] - 0s 7ms/step - loss: 0.2213 - accuracy: 0.9118 - val_loss: 0.6965 - val_accuracy: 0.7944\n",
      "Epoch 52/100\n",
      "6/6 [==============================] - 0s 7ms/step - loss: 0.2436 - accuracy: 0.8963 - val_loss: 0.7031 - val_accuracy: 0.7833\n",
      "Epoch 53/100\n",
      "6/6 [==============================] - 0s 7ms/step - loss: 0.2218 - accuracy: 0.9194 - val_loss: 0.6901 - val_accuracy: 0.7833\n",
      "Epoch 54/100\n",
      "6/6 [==============================] - 0s 7ms/step - loss: 0.2263 - accuracy: 0.9075 - val_loss: 0.6783 - val_accuracy: 0.7889\n",
      "Epoch 55/100\n",
      "6/6 [==============================] - 0s 7ms/step - loss: 0.2293 - accuracy: 0.9145 - val_loss: 0.7084 - val_accuracy: 0.7833\n",
      "Epoch 56/100\n",
      "6/6 [==============================] - 0s 6ms/step - loss: 0.2042 - accuracy: 0.9183 - val_loss: 0.7140 - val_accuracy: 0.7778\n",
      "Epoch 57/100\n",
      "6/6 [==============================] - 0s 7ms/step - loss: 0.2086 - accuracy: 0.9276 - val_loss: 0.7081 - val_accuracy: 0.7667\n",
      "Epoch 58/100\n",
      "6/6 [==============================] - 0s 7ms/step - loss: 0.2552 - accuracy: 0.9107 - val_loss: 0.7341 - val_accuracy: 0.7667\n",
      "Epoch 59/100\n"
     ]
    },
    {
     "name": "stdout",
     "output_type": "stream",
     "text": [
      "6/6 [==============================] - 0s 7ms/step - loss: 0.1793 - accuracy: 0.9213 - val_loss: 0.7567 - val_accuracy: 0.7778\n",
      "Epoch 60/100\n",
      "6/6 [==============================] - 0s 6ms/step - loss: 0.1895 - accuracy: 0.9290 - val_loss: 0.7557 - val_accuracy: 0.7833\n",
      "Epoch 61/100\n",
      "6/6 [==============================] - 0s 7ms/step - loss: 0.2057 - accuracy: 0.9132 - val_loss: 0.7590 - val_accuracy: 0.7833\n",
      "Epoch 62/100\n",
      "6/6 [==============================] - 0s 7ms/step - loss: 0.2021 - accuracy: 0.9176 - val_loss: 0.7880 - val_accuracy: 0.7889\n",
      "Epoch 63/100\n",
      "6/6 [==============================] - 0s 6ms/step - loss: 0.2041 - accuracy: 0.9168 - val_loss: 0.7911 - val_accuracy: 0.7611\n",
      "Epoch 64/100\n",
      "6/6 [==============================] - 0s 7ms/step - loss: 0.1944 - accuracy: 0.9286 - val_loss: 0.8011 - val_accuracy: 0.7611\n",
      "Epoch 65/100\n",
      "6/6 [==============================] - 0s 7ms/step - loss: 0.1623 - accuracy: 0.9380 - val_loss: 0.8047 - val_accuracy: 0.7778\n",
      "Epoch 66/100\n",
      "6/6 [==============================] - 0s 7ms/step - loss: 0.1892 - accuracy: 0.9120 - val_loss: 0.7954 - val_accuracy: 0.7722\n",
      "Epoch 67/100\n",
      "6/6 [==============================] - 0s 7ms/step - loss: 0.1569 - accuracy: 0.9366 - val_loss: 0.7846 - val_accuracy: 0.7722\n",
      "Epoch 68/100\n",
      "6/6 [==============================] - 0s 7ms/step - loss: 0.1877 - accuracy: 0.9256 - val_loss: 0.7989 - val_accuracy: 0.7722\n",
      "Epoch 69/100\n",
      "6/6 [==============================] - 0s 6ms/step - loss: 0.1699 - accuracy: 0.9353 - val_loss: 0.8001 - val_accuracy: 0.7667\n",
      "Epoch 70/100\n",
      "6/6 [==============================] - 0s 7ms/step - loss: 0.1603 - accuracy: 0.9309 - val_loss: 0.8111 - val_accuracy: 0.7833\n",
      "Epoch 71/100\n",
      "6/6 [==============================] - 0s 7ms/step - loss: 0.1860 - accuracy: 0.9140 - val_loss: 0.8143 - val_accuracy: 0.7500\n",
      "Epoch 72/100\n",
      "6/6 [==============================] - 0s 7ms/step - loss: 0.1683 - accuracy: 0.9270 - val_loss: 0.7748 - val_accuracy: 0.7667\n",
      "Epoch 73/100\n",
      "6/6 [==============================] - 0s 7ms/step - loss: 0.1758 - accuracy: 0.9334 - val_loss: 0.7701 - val_accuracy: 0.7667\n",
      "Epoch 74/100\n",
      "6/6 [==============================] - 0s 7ms/step - loss: 0.1713 - accuracy: 0.9275 - val_loss: 0.8243 - val_accuracy: 0.7722\n",
      "Epoch 75/100\n",
      "6/6 [==============================] - 0s 6ms/step - loss: 0.1878 - accuracy: 0.9235 - val_loss: 0.8669 - val_accuracy: 0.7611\n",
      "Epoch 76/100\n",
      "6/6 [==============================] - 0s 7ms/step - loss: 0.1774 - accuracy: 0.9172 - val_loss: 0.8529 - val_accuracy: 0.7556\n",
      "Epoch 77/100\n",
      "6/6 [==============================] - 0s 7ms/step - loss: 0.1780 - accuracy: 0.9180 - val_loss: 0.8551 - val_accuracy: 0.7556\n",
      "Epoch 78/100\n",
      "6/6 [==============================] - 0s 7ms/step - loss: 0.1585 - accuracy: 0.9275 - val_loss: 0.8682 - val_accuracy: 0.7556\n",
      "Epoch 79/100\n",
      "6/6 [==============================] - 0s 7ms/step - loss: 0.1486 - accuracy: 0.9347 - val_loss: 0.8810 - val_accuracy: 0.7611\n",
      "Epoch 80/100\n",
      "6/6 [==============================] - 0s 7ms/step - loss: 0.1927 - accuracy: 0.9367 - val_loss: 0.8321 - val_accuracy: 0.7667\n",
      "Epoch 81/100\n",
      "6/6 [==============================] - 0s 7ms/step - loss: 0.1478 - accuracy: 0.9419 - val_loss: 0.8266 - val_accuracy: 0.7778\n",
      "Epoch 82/100\n",
      "6/6 [==============================] - 0s 6ms/step - loss: 0.1445 - accuracy: 0.9413 - val_loss: 0.8660 - val_accuracy: 0.7833\n",
      "Epoch 83/100\n",
      "6/6 [==============================] - 0s 7ms/step - loss: 0.1622 - accuracy: 0.9285 - val_loss: 0.8650 - val_accuracy: 0.7889\n",
      "Epoch 84/100\n",
      "6/6 [==============================] - 0s 7ms/step - loss: 0.1811 - accuracy: 0.9177 - val_loss: 0.8678 - val_accuracy: 0.7667\n",
      "Epoch 85/100\n",
      "6/6 [==============================] - 0s 7ms/step - loss: 0.1801 - accuracy: 0.9298 - val_loss: 0.8523 - val_accuracy: 0.7556\n",
      "Epoch 86/100\n",
      "6/6 [==============================] - 0s 7ms/step - loss: 0.1346 - accuracy: 0.9360 - val_loss: 0.8396 - val_accuracy: 0.7444\n",
      "Epoch 87/100\n",
      "6/6 [==============================] - 0s 7ms/step - loss: 0.1537 - accuracy: 0.9343 - val_loss: 0.8592 - val_accuracy: 0.7333\n",
      "Epoch 88/100\n",
      "6/6 [==============================] - 0s 7ms/step - loss: 0.1660 - accuracy: 0.9378 - val_loss: 0.8957 - val_accuracy: 0.7444\n",
      "Epoch 89/100\n",
      "6/6 [==============================] - 0s 7ms/step - loss: 0.1956 - accuracy: 0.9095 - val_loss: 0.9236 - val_accuracy: 0.7722\n",
      "Epoch 90/100\n",
      "6/6 [==============================] - 0s 7ms/step - loss: 0.1344 - accuracy: 0.9421 - val_loss: 0.9297 - val_accuracy: 0.7722\n",
      "Epoch 91/100\n",
      "6/6 [==============================] - 0s 8ms/step - loss: 0.1510 - accuracy: 0.9389 - val_loss: 0.9170 - val_accuracy: 0.7500\n",
      "Epoch 92/100\n",
      "6/6 [==============================] - 0s 7ms/step - loss: 0.1359 - accuracy: 0.9350 - val_loss: 0.9329 - val_accuracy: 0.7611\n",
      "Epoch 93/100\n",
      "6/6 [==============================] - 0s 7ms/step - loss: 0.1523 - accuracy: 0.9337 - val_loss: 0.9443 - val_accuracy: 0.7611\n",
      "Epoch 94/100\n",
      "6/6 [==============================] - 0s 7ms/step - loss: 0.1384 - accuracy: 0.9454 - val_loss: 0.9146 - val_accuracy: 0.7722\n",
      "Epoch 95/100\n",
      "6/6 [==============================] - 0s 7ms/step - loss: 0.1752 - accuracy: 0.9302 - val_loss: 0.8821 - val_accuracy: 0.7722\n",
      "Epoch 96/100\n",
      "6/6 [==============================] - 0s 7ms/step - loss: 0.1578 - accuracy: 0.9209 - val_loss: 0.8717 - val_accuracy: 0.7611\n",
      "Epoch 97/100\n",
      "6/6 [==============================] - 0s 7ms/step - loss: 0.1429 - accuracy: 0.9308 - val_loss: 0.8854 - val_accuracy: 0.7667\n",
      "Epoch 98/100\n",
      "6/6 [==============================] - 0s 7ms/step - loss: 0.1528 - accuracy: 0.9376 - val_loss: 0.9265 - val_accuracy: 0.7667\n",
      "Epoch 99/100\n",
      "6/6 [==============================] - 0s 7ms/step - loss: 0.1536 - accuracy: 0.9326 - val_loss: 0.9339 - val_accuracy: 0.7778\n",
      "Epoch 100/100\n",
      "6/6 [==============================] - 0s 7ms/step - loss: 0.1612 - accuracy: 0.9338 - val_loss: 0.9415 - val_accuracy: 0.7889\n"
     ]
    }
   ],
   "source": [
    "history = network.fit(X_train,\n",
    "                    y_train,\n",
    "                    epochs=100,\n",
    "                    batch_size=128,\n",
    "                     validation_data=(X_test,y_test))\n"
   ]
  },
  {
   "cell_type": "code",
   "execution_count": 22,
   "id": "tropical-opportunity",
   "metadata": {},
   "outputs": [
    {
     "name": "stdout",
     "output_type": "stream",
     "text": [
      "6/6 [==============================] - 0s 763us/step - loss: 0.9415 - accuracy: 0.7889\n"
     ]
    }
   ],
   "source": [
    "test_loss, test_acc = network.evaluate(X_test,y_test)"
   ]
  },
  {
   "cell_type": "code",
   "execution_count": 23,
   "id": "formal-highlight",
   "metadata": {},
   "outputs": [
    {
     "data": {
      "image/png": "[encoded data removed]",
      "text/plain": [
       "<Figure size 432x288 with 1 Axes>"
      ]
     },
     "metadata": {
      "needs_background": "light"
     },
     "output_type": "display_data"
    },
    {
     "data": {
      "image/png": "[encoded data removed]",
      "text/plain": [
       "<Figure size 432x288 with 1 Axes>"
      ]
     },
     "metadata": {
      "needs_background": "light"
     },
     "output_type": "display_data"
    }
   ],
   "source": [
    "# summarize history for accuracy\n",
    "plt.plot(history.history['accuracy'])\n",
    "plt.plot(history.history['val_accuracy'])\n",
    "plt.title('model accuracy')\n",
    "plt.ylabel('accuracy')\n",
    "plt.xlabel('epoch')\n",
    "plt.legend(['train', 'test'], loc='upper left')\n",
    "plt.show()\n",
    "# summarize history for loss\n",
    "plt.plot(history.history['loss'])\n",
    "plt.plot(history.history['val_loss'])\n",
    "plt.title('model loss')\n",
    "plt.ylabel('loss')\n",
    "plt.xlabel('epoch')\n",
    "plt.legend(['train', 'test'], loc='upper left')\n",
    "plt.show()"
   ]
  },
  {
   "cell_type": "markdown",
   "id": "electronic-niagara",
   "metadata": {},
   "source": [
    "### Features\n",
    "- Frequency (notes, keys, scales)\n",
    "- Rhythm (tempo, speed, speed-changes)\n",
    "- Amplitude (volume, changes in volume)"
   ]
  },
  {
   "cell_type": "markdown",
   "id": "original-tunisia",
   "metadata": {},
   "source": [
    "# 30sec audio csv"
   ]
  },
  {
   "cell_type": "code",
   "execution_count": null,
   "id": "hollow-measurement",
   "metadata": {},
   "outputs": [],
   "source": [
    "df_30 = pd.read_csv(\"output/new_features_30.csv\")"
   ]
  },
  {
   "cell_type": "code",
   "execution_count": null,
   "id": "unlikely-moore",
   "metadata": {},
   "outputs": [],
   "source": [
    "df_30.shape"
   ]
  },
  {
   "cell_type": "code",
   "execution_count": null,
   "id": "large-absence",
   "metadata": {},
   "outputs": [],
   "source": [
    "df_30 = df_30.drop(['sample','sr'],axis=1)"
   ]
  },
  {
   "cell_type": "markdown",
   "id": "driving-display",
   "metadata": {},
   "source": [
    "## Encoding"
   ]
  },
  {
   "cell_type": "code",
   "execution_count": null,
   "id": "vocal-modem",
   "metadata": {},
   "outputs": [],
   "source": [
    "genre_list_30 = df_30['label']\n",
    "encoder = LabelEncoder()\n",
    "y = encoder.fit_transform(genre_list_30)\n",
    "y = np_utils.to_categorical(y)"
   ]
  },
  {
   "cell_type": "code",
   "execution_count": null,
   "id": "hazardous-absence",
   "metadata": {},
   "outputs": [],
   "source": [
    "X = df_30.drop(['label'],axis=1)"
   ]
  },
  {
   "cell_type": "code",
   "execution_count": null,
   "id": "considered-explosion",
   "metadata": {},
   "outputs": [],
   "source": [
    "X_train, X_test, y_train, y_test = train_test_split(X, y, test_size=0.2)"
   ]
  },
  {
   "cell_type": "markdown",
   "id": "front-acrylic",
   "metadata": {},
   "source": [
    "## Classification with KERAS"
   ]
  },
  {
   "cell_type": "code",
   "execution_count": null,
   "id": "naval-coach",
   "metadata": {},
   "outputs": [],
   "source": [
    "from keras import models\n",
    "from keras import layers\n",
    "\n",
    "network_30 = models.Sequential()\n",
    "network_30.add(layers.Dense(256, activation='relu', input_shape=(X_train.shape[1],)))\n",
    "\n",
    "network_30.add(layers.Dense(128, activation='relu'))\n",
    "\n",
    "network_30.add(layers.Dense(64, activation='relu'))\n",
    "\n",
    "network_30.add(layers.Dense(6, activation='softmax'))"
   ]
  },
  {
   "cell_type": "code",
   "execution_count": null,
   "id": "extraordinary-highway",
   "metadata": {},
   "outputs": [],
   "source": [
    "network_30.summary()"
   ]
  },
  {
   "cell_type": "code",
   "execution_count": null,
   "id": "combined-mandate",
   "metadata": {},
   "outputs": [],
   "source": [
    "network_30.compile(optimizer='adam',\n",
    "              loss='categorical_crossentropy',\n",
    "              metrics=['accuracy'])"
   ]
  },
  {
   "cell_type": "code",
   "execution_count": null,
   "id": "defensive-watts",
   "metadata": {},
   "outputs": [],
   "source": [
    "history_30 = network_30.fit(X_train,\n",
    "                    y_train,\n",
    "                    epochs=100,\n",
    "                    batch_size=128)\n"
   ]
  },
  {
   "cell_type": "code",
   "execution_count": null,
   "id": "purple-manner",
   "metadata": {},
   "outputs": [],
   "source": [
    "test_loss, test_acc = network_30.evaluate(X_test,y_test)"
   ]
  },
  {
   "cell_type": "markdown",
   "id": "affected-angle",
   "metadata": {},
   "source": [
    "# One min audio csv"
   ]
  },
  {
   "cell_type": "code",
   "execution_count": null,
   "id": "major-origin",
   "metadata": {},
   "outputs": [],
   "source": [
    "df_1m = pd.read_csv(\"output/new_features_60s_030ov.csv\")"
   ]
  },
  {
   "cell_type": "code",
   "execution_count": null,
   "id": "lined-michigan",
   "metadata": {},
   "outputs": [],
   "source": [
    "df_1m.shape"
   ]
  },
  {
   "cell_type": "code",
   "execution_count": null,
   "id": "exciting-front",
   "metadata": {},
   "outputs": [],
   "source": [
    "df_1m = df_1m.drop(['sample','sr'],axis=1)"
   ]
  },
  {
   "cell_type": "markdown",
   "id": "accurate-terminology",
   "metadata": {},
   "source": [
    "## Encoding"
   ]
  },
  {
   "cell_type": "code",
   "execution_count": null,
   "id": "blind-burton",
   "metadata": {},
   "outputs": [],
   "source": [
    "genre_list_30 = df_1m['label']\n",
    "encoder = LabelEncoder()\n",
    "y = encoder.fit_transform(genre_list_30)"
   ]
  },
  {
   "cell_type": "code",
   "execution_count": null,
   "id": "innovative-superintendent",
   "metadata": {},
   "outputs": [],
   "source": [
    "X = df_1m.drop(['label'],axis=1)"
   ]
  },
  {
   "cell_type": "code",
   "execution_count": null,
   "id": "institutional-capability",
   "metadata": {},
   "outputs": [],
   "source": [
    "X_train, X_test, y_train, y_test = train_test_split(X, y, test_size=0.2)"
   ]
  },
  {
   "cell_type": "markdown",
   "id": "loving-appliance",
   "metadata": {},
   "source": [
    "## Classification with KERAS"
   ]
  },
  {
   "cell_type": "code",
   "execution_count": null,
   "id": "frank-sacrifice",
   "metadata": {},
   "outputs": [],
   "source": [
    "from keras import models\n",
    "from keras import layers\n",
    "\n",
    "network_1m = models.Sequential()\n",
    "network_1m.add(layers.Dense(256, activation='relu', input_shape=(X_train.shape[1],)))\n",
    "\n",
    "network_1m.add(layers.Dense(128, activation='relu'))\n",
    "\n",
    "network_1m.add(layers.Dense(64, activation='relu'))\n",
    "\n",
    "network_1m.add(layers.Dense(6, activation='softmax'))"
   ]
  },
  {
   "cell_type": "code",
   "execution_count": null,
   "id": "gentle-corruption",
   "metadata": {},
   "outputs": [],
   "source": [
    "network_1m.summary()"
   ]
  },
  {
   "cell_type": "code",
   "execution_count": null,
   "id": "cultural-childhood",
   "metadata": {},
   "outputs": [],
   "source": [
    "network_1m.compile(optimizer='adam',\n",
    "              loss='sparse_categorical_crossentropy',\n",
    "              metrics=['accuracy'])"
   ]
  },
  {
   "cell_type": "code",
   "execution_count": null,
   "id": "electric-consensus",
   "metadata": {},
   "outputs": [],
   "source": [
    "history_1m = network_1m.fit(X_train,\n",
    "                    y_train,\n",
    "                    epochs=20,\n",
    "                    batch_size=128)\n"
   ]
  },
  {
   "cell_type": "code",
   "execution_count": null,
   "id": "threatened-soldier",
   "metadata": {},
   "outputs": [],
   "source": [
    "test_loss, test_acc = network_1m.evaluate(X_test,y_test)"
   ]
  },
  {
   "cell_type": "code",
   "execution_count": null,
   "id": "fifth-spelling",
   "metadata": {},
   "outputs": [],
   "source": []
  }
 ],
 "metadata": {
  "kernelspec": {
   "display_name": "Python 3",
   "language": "python",
   "name": "python3"
  },
  "language_info": {
   "codemirror_mode": {
    "name": "ipython",
    "version": 3
   },
   "file_extension": ".py",
   "mimetype": "text/x-python",
   "name": "python",
   "nbconvert_exporter": "python",
   "pygments_lexer": "ipython3",
   "version": "3.8.5"
  },
  "toc": {
   "base_numbering": 1,
   "nav_menu": {},
   "number_sections": true,
   "sideBar": true,
   "skip_h1_title": false,
   "title_cell": "Table of Contents",
   "title_sidebar": "Contents",
   "toc_cell": true,
   "toc_position": {},
   "toc_section_display": true,
   "toc_window_display": false
  },
  "varInspector": {
   "cols": {
    "lenName": 16,
    "lenType": 16,
    "lenVar": 40
   },
   "kernels_config": {
    "python": {
     "delete_cmd_postfix": "",
     "delete_cmd_prefix": "del ",
     "library": "var_list.py",
     "varRefreshCmd": "print(var_dic_list())"
    },
    "r": {
     "delete_cmd_postfix": ") ",
     "delete_cmd_prefix": "rm(",
     "library": "var_list.r",
     "varRefreshCmd": "cat(var_dic_list()) "
    }
   },
   "types_to_exclude": [
    "module",
    "function",
    "builtin_function_or_method",
    "instance",
    "_Feature"
   ],
   "window_display": false
  }
 },
 "nbformat": 4,
 "nbformat_minor": 5
}
