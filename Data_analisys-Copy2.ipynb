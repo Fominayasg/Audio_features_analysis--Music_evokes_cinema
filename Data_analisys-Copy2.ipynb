{
 "cells": [
  {
   "cell_type": "markdown",
   "id": "productive-healing",
   "metadata": {
    "toc": true
   },
   "source": [
    "<h1>Table of Contents<span class=\"tocSkip\"></span></h1>\n",
    "<div class=\"toc\"><ul class=\"toc-item\"><li><span><a href=\"#Libraries\" data-toc-modified-id=\"Libraries-1\"><span class=\"toc-item-num\">1&nbsp;&nbsp;</span>Libraries</a></span></li><li><span><a href=\"#Get-files\" data-toc-modified-id=\"Get-files-2\"><span class=\"toc-item-num\">2&nbsp;&nbsp;</span>Get files</a></span></li><li><span><a href=\"#Extracting-features\" data-toc-modified-id=\"Extracting-features-3\"><span class=\"toc-item-num\">3&nbsp;&nbsp;</span>Extracting features</a></span></li><li><span><a href=\"#Export-DataFrame-to-.CSV\" data-toc-modified-id=\"Export-DataFrame-to-.CSV-4\"><span class=\"toc-item-num\">4&nbsp;&nbsp;</span>Export DataFrame to .CSV</a></span></li></ul></div>"
   ]
  },
  {
   "cell_type": "markdown",
   "id": "heavy-discharge",
   "metadata": {},
   "source": [
    "# Libraries"
   ]
  },
  {
   "cell_type": "code",
   "execution_count": 1,
   "id": "infectious-gambling",
   "metadata": {},
   "outputs": [],
   "source": [
    "import librosa\n",
    "import numpy as np\n",
    "import matplotlib.pyplot as plt\n",
    "import pandas as pd\n",
    "import os\n",
    "# For audio playing\n",
    "import IPython.display as ipd\n",
    "# For visualizations\n",
    "import librosa.display\n",
    "from math import ceil"
   ]
  },
  {
   "cell_type": "markdown",
   "id": "gorgeous-nightmare",
   "metadata": {},
   "source": [
    "# Get files "
   ]
  },
  {
   "cell_type": "markdown",
   "id": "stone-assumption",
   "metadata": {},
   "source": [
    "**To maximize the results obtained from the data and ensure that all samples have the same duration we will use the following function.**\n",
    "\n",
    "1. Navigate through directories to get files.</li>\n",
    "2. For each file we get several fragments that overlap the previous and following fragment.</li>\n"
   ]
  },
  {
   "cell_type": "code",
   "execution_count": 2,
   "id": "communist-clarity",
   "metadata": {},
   "outputs": [],
   "source": [
    "directory = \"data\"\n",
    "def gen_audio(window,overlap=0,path=directory):\n",
    "    for genre in os.listdir(path):\n",
    "        if os.path.isdir(f\"{path}/{genre}\"):\n",
    "            folder=f\"{path}/{genre}\"\n",
    "            for song in os.listdir(folder):\n",
    "                song_path = f\"{folder}/{song}\"\n",
    "                if song == \".DS_Store\":\n",
    "                    continue\n",
    "                y, sr = librosa.load(song_path)\n",
    "                duration = True\n",
    "                i=0\n",
    "                while duration:\n",
    "                    #print(song_path)\n",
    "                    song_points = len(y)\n",
    "                    window_points = window*sr\n",
    "                    start = int(i*window_points - overlap*window_points)\n",
    "                    if start<0:\n",
    "                        start=0\n",
    "                    end = start + window_points\n",
    "                    #print(start,end)\n",
    "                    sample=y[start:end]\n",
    "                    if end >= song_points:\n",
    "                        #print(\"-\")\n",
    "                        sample = y[-window_points:]\n",
    "                        duration = False\n",
    "                    i += 1\n",
    "                    yield genre,sample,sr"
   ]
  },
  {
   "cell_type": "code",
   "execution_count": 3,
   "id": "toxic-preference",
   "metadata": {},
   "outputs": [],
   "source": [
    "audio_generator = gen_audio(15,0.25)"
   ]
  },
  {
   "cell_type": "code",
   "execution_count": 4,
   "id": "desperate-relations",
   "metadata": {},
   "outputs": [],
   "source": [
    "y_df = pd.DataFrame()\n",
    "X = pd.DataFrame()"
   ]
  },
  {
   "cell_type": "markdown",
   "id": "animated-album",
   "metadata": {},
   "source": [
    "# Extracting features"
   ]
  },
  {
   "cell_type": "markdown",
   "id": "blank-cursor",
   "metadata": {},
   "source": [
    "**The features that are going to be used are:**\n",
    "- Zero crossings\n",
    "- Spectral centroid\n",
    "- Spectral band_width\n",
    "- Spectral rolloff\n",
    "- Chroma stft\n",
    "- Mel Frequency Cepstral Coeﬃcients (mfcc)\n",
    "- Tonal centroid\n",
    "- Onset_strength\n",
    "- PLP\n",
    "- Beats per min"
   ]
  },
  {
   "cell_type": "code",
   "execution_count": 5,
   "id": "unnecessary-stephen",
   "metadata": {},
   "outputs": [
    {
     "name": "stdout",
     "output_type": "stream",
     "text": [
      "1\r",
      "CPU times: user 12.4 s, sys: 908 ms, total: 13.3 s\n",
      "Wall time: 11.6 s\n"
     ]
    }
   ],
   "source": [
    "%%time\n",
    "i=1\n",
    "for label, sample, sr in audio_generator:\n",
    "    y = sample\n",
    "    zero_crossing = librosa.zero_crossings(y=y, pad=False)\n",
    "    spectral_centroid = librosa.feature.spectral_centroid(y=y, sr=sr)\n",
    "    spectral_band_width = librosa.feature.spectral_bandwidth(y=y, sr=sr)\n",
    "    spectral_rolloff = librosa.feature.spectral_rolloff(y=y, sr=sr)\n",
    "    chroma_stft = librosa.feature.chroma_stft(y=y, sr=sr)\n",
    "    mfcc = librosa.feature.mfcc(y=y, sr=sr)\n",
    "    tonal_centroid = librosa.feature.tonnetz(y=y, sr=sr)\n",
    "    onset_strength = librosa.onset.onset_strength(y=y, sr=sr)\n",
    "    plp = librosa.beat.plp(onset_envelope=onset_strength, sr=sr)\n",
    "    y_df = y_df.append({\n",
    "        \"label\":label,\n",
    "        \n",
    "    }, ignore_index=True)\n",
    "    x = np.hstack([[sum(zero_crossing)],spectral_centroid[0],spectral_band_width[0],spectral_rolloff[0],\n",
    "                  np.mean(chroma_stft,axis=1)])\n",
    "    X = X.append(pd.Series(x),ignore_index=True)\n",
    "    print(i,end=\"\\r\")\n",
    "    i+=1\n",
    "    break"
   ]
  },
  {
   "cell_type": "code",
   "execution_count": 6,
   "id": "western-syria",
   "metadata": {},
   "outputs": [
    {
     "data": {
      "text/plain": [
       "1951"
      ]
     },
     "execution_count": 6,
     "metadata": {},
     "output_type": "execute_result"
    }
   ],
   "source": [
    "len(x)"
   ]
  },
  {
   "cell_type": "code",
   "execution_count": 7,
   "id": "helpful-density",
   "metadata": {},
   "outputs": [
    {
     "data": {
      "text/plain": [
       "20"
      ]
     },
     "execution_count": 7,
     "metadata": {},
     "output_type": "execute_result"
    }
   ],
   "source": [
    "len(mfcc)"
   ]
  },
  {
   "cell_type": "code",
   "execution_count": 46,
   "id": "statutory-personal",
   "metadata": {},
   "outputs": [],
   "source": [
    "X[\"label\"] = y_df"
   ]
  },
  {
   "cell_type": "code",
   "execution_count": 47,
   "id": "democratic-weather",
   "metadata": {},
   "outputs": [],
   "source": [
    "X.to_pickle(\"test.pkl\")"
   ]
  },
  {
   "cell_type": "code",
   "execution_count": 13,
   "id": "trained-count",
   "metadata": {
    "scrolled": false
   },
   "outputs": [
    {
     "data": {
      "text/html": [
       "<div>\n",
       "<style scoped>\n",
       "    .dataframe tbody tr th:only-of-type {\n",
       "        vertical-align: middle;\n",
       "    }\n",
       "\n",
       "    .dataframe tbody tr th {\n",
       "        vertical-align: top;\n",
       "    }\n",
       "\n",
       "    .dataframe thead th {\n",
       "        text-align: right;\n",
       "    }\n",
       "</style>\n",
       "<table border=\"1\" class=\"dataframe\">\n",
       "  <thead>\n",
       "    <tr style=\"text-align: right;\">\n",
       "      <th></th>\n",
       "      <th>beats</th>\n",
       "      <th>chroma_stft</th>\n",
       "      <th>label</th>\n",
       "      <th>mfcc</th>\n",
       "      <th>onset_strength</th>\n",
       "      <th>plp</th>\n",
       "      <th>sample</th>\n",
       "      <th>spectral_band_width</th>\n",
       "      <th>spectral_centroid</th>\n",
       "      <th>spectral_rolloff</th>\n",
       "      <th>sr</th>\n",
       "      <th>tonal_centroid</th>\n",
       "      <th>zero_crossings</th>\n",
       "    </tr>\n",
       "  </thead>\n",
       "  <tbody>\n",
       "    <tr>\n",
       "      <th>0</th>\n",
       "      <td>189.402167</td>\n",
       "      <td>[0.45334435, 0.39936936, 0.44807765, 0.5161125...</td>\n",
       "      <td>Supernatural</td>\n",
       "      <td>[-242.92453, 136.92271, -24.217505, 26.947405,...</td>\n",
       "      <td>1.447724</td>\n",
       "      <td>0.273632</td>\n",
       "      <td>[3.5482785e-08, 1.0161084e-08, -9.557592e-09, ...</td>\n",
       "      <td>1507.378098</td>\n",
       "      <td>1522.945223</td>\n",
       "      <td>2815.416309</td>\n",
       "      <td>22050.0</td>\n",
       "      <td>[0.45334435, 0.39936936, 0.44807765, 0.5161125...</td>\n",
       "      <td>29991.0</td>\n",
       "    </tr>\n",
       "  </tbody>\n",
       "</table>\n",
       "</div>"
      ],
      "text/plain": [
       "        beats                                        chroma_stft  \\\n",
       "0  189.402167  [0.45334435, 0.39936936, 0.44807765, 0.5161125...   \n",
       "\n",
       "          label                                               mfcc  \\\n",
       "0  Supernatural  [-242.92453, 136.92271, -24.217505, 26.947405,...   \n",
       "\n",
       "   onset_strength       plp  \\\n",
       "0        1.447724  0.273632   \n",
       "\n",
       "                                              sample  spectral_band_width  \\\n",
       "0  [3.5482785e-08, 1.0161084e-08, -9.557592e-09, ...          1507.378098   \n",
       "\n",
       "   spectral_centroid  spectral_rolloff       sr  \\\n",
       "0        1522.945223       2815.416309  22050.0   \n",
       "\n",
       "                                      tonal_centroid  zero_crossings  \n",
       "0  [0.45334435, 0.39936936, 0.44807765, 0.5161125...         29991.0  "
      ]
     },
     "execution_count": 13,
     "metadata": {},
     "output_type": "execute_result"
    }
   ],
   "source": [
    "df.head(1)"
   ]
  },
  {
   "cell_type": "code",
   "execution_count": 14,
   "id": "artificial-scroll",
   "metadata": {},
   "outputs": [],
   "source": [
    "df[['chroma_stft1','chroma_stft2','chroma_stft3','chroma_stft4','chroma_stft5','chroma_stft6','chroma_stft7','chroma_stft8','chroma_stft9','chroma_stft10','chroma_stft11','chroma_stft12']] = pd.DataFrame(df.chroma_stft.tolist(), index= df.index)\n",
    "df = df.drop(['chroma_stft'], axis=1)"
   ]
  },
  {
   "cell_type": "code",
   "execution_count": 15,
   "id": "floppy-outline",
   "metadata": {},
   "outputs": [],
   "source": [
    "df[['mfcc1','mfcc2','mfcc3','mfcc4','mfcc5','mfcc6','mfcc7','mfcc8','mfcc9','mfcc10','mfcc11','mfcc12','mfcc13','mfcc14','mfcc15','mfcc16','mfcc17','mfcc18','mfcc19','mfcc20']] = pd.DataFrame(df.mfcc.tolist(), index= df.index)\n",
    "df = df.drop(['mfcc'], axis=1)"
   ]
  },
  {
   "cell_type": "code",
   "execution_count": 20,
   "id": "turkish-specification",
   "metadata": {},
   "outputs": [
    {
     "data": {
      "text/plain": [
       "[0.45334435,\n",
       " 0.39936936,\n",
       " 0.44807765,\n",
       " 0.5161125,\n",
       " 0.6047815,\n",
       " 0.6462182,\n",
       " 0.5601424,\n",
       " 0.42375207,\n",
       " 0.4746412,\n",
       " 0.29928055,\n",
       " 0.2602959,\n",
       " 0.29277796]"
      ]
     },
     "execution_count": 20,
     "metadata": {},
     "output_type": "execute_result"
    }
   ],
   "source": [
    "df['tonal_centroid'].iloc[0]"
   ]
  },
  {
   "cell_type": "code",
   "execution_count": 21,
   "id": "dimensional-mapping",
   "metadata": {},
   "outputs": [],
   "source": [
    "df[['tc1','tc2','tc3','tc4','tc5','tc6','tc7','tc8','tc9','tc10','tc11','tc12']] = pd.DataFrame(df.tonal_centroid.tolist(), index= df.index)\n",
    "df = df.drop(['tonal_centroid'], axis=1)"
   ]
  },
  {
   "cell_type": "code",
   "execution_count": 25,
   "id": "cutting-lesbian",
   "metadata": {
    "scrolled": true
   },
   "outputs": [
    {
     "data": {
      "text/html": [
       "<div>\n",
       "<style scoped>\n",
       "    .dataframe tbody tr th:only-of-type {\n",
       "        vertical-align: middle;\n",
       "    }\n",
       "\n",
       "    .dataframe tbody tr th {\n",
       "        vertical-align: top;\n",
       "    }\n",
       "\n",
       "    .dataframe thead th {\n",
       "        text-align: right;\n",
       "    }\n",
       "</style>\n",
       "<table border=\"1\" class=\"dataframe\">\n",
       "  <thead>\n",
       "    <tr style=\"text-align: right;\">\n",
       "      <th></th>\n",
       "      <th>beats</th>\n",
       "      <th>label</th>\n",
       "      <th>onset_strength</th>\n",
       "      <th>plp</th>\n",
       "      <th>sample</th>\n",
       "      <th>spectral_band_width</th>\n",
       "      <th>spectral_centroid</th>\n",
       "      <th>spectral_rolloff</th>\n",
       "      <th>sr</th>\n",
       "      <th>zero_crossings</th>\n",
       "      <th>...</th>\n",
       "      <th>tc3</th>\n",
       "      <th>tc4</th>\n",
       "      <th>tc5</th>\n",
       "      <th>tc6</th>\n",
       "      <th>tc7</th>\n",
       "      <th>tc8</th>\n",
       "      <th>tc9</th>\n",
       "      <th>tc10</th>\n",
       "      <th>tc11</th>\n",
       "      <th>tc12</th>\n",
       "    </tr>\n",
       "  </thead>\n",
       "  <tbody>\n",
       "    <tr>\n",
       "      <th>0</th>\n",
       "      <td>189.402167</td>\n",
       "      <td>Supernatural</td>\n",
       "      <td>1.447724</td>\n",
       "      <td>0.273632</td>\n",
       "      <td>[3.5482785e-08, 1.0161084e-08, -9.557592e-09, ...</td>\n",
       "      <td>1507.378098</td>\n",
       "      <td>1522.945223</td>\n",
       "      <td>2815.416309</td>\n",
       "      <td>22050.0</td>\n",
       "      <td>29991.0</td>\n",
       "      <td>...</td>\n",
       "      <td>0.448078</td>\n",
       "      <td>0.516113</td>\n",
       "      <td>0.604782</td>\n",
       "      <td>0.646218</td>\n",
       "      <td>0.560142</td>\n",
       "      <td>0.423752</td>\n",
       "      <td>0.474641</td>\n",
       "      <td>0.299281</td>\n",
       "      <td>0.260296</td>\n",
       "      <td>0.292778</td>\n",
       "    </tr>\n",
       "    <tr>\n",
       "      <th>1</th>\n",
       "      <td>185.361378</td>\n",
       "      <td>Supernatural</td>\n",
       "      <td>1.318500</td>\n",
       "      <td>0.267129</td>\n",
       "      <td>[-0.018045332, -0.022796264, -0.022938928, -0....</td>\n",
       "      <td>1122.701344</td>\n",
       "      <td>755.909261</td>\n",
       "      <td>1388.591603</td>\n",
       "      <td>22050.0</td>\n",
       "      <td>9221.0</td>\n",
       "      <td>...</td>\n",
       "      <td>0.514236</td>\n",
       "      <td>0.568662</td>\n",
       "      <td>0.578250</td>\n",
       "      <td>0.528015</td>\n",
       "      <td>0.594869</td>\n",
       "      <td>0.435590</td>\n",
       "      <td>0.402993</td>\n",
       "      <td>0.282640</td>\n",
       "      <td>0.320256</td>\n",
       "      <td>0.293354</td>\n",
       "    </tr>\n",
       "    <tr>\n",
       "      <th>2</th>\n",
       "      <td>185.282430</td>\n",
       "      <td>Supernatural</td>\n",
       "      <td>1.248585</td>\n",
       "      <td>0.278978</td>\n",
       "      <td>[0.119748116, 0.11298294, 0.10486316, 0.095828...</td>\n",
       "      <td>1578.514212</td>\n",
       "      <td>993.390330</td>\n",
       "      <td>2033.504370</td>\n",
       "      <td>22050.0</td>\n",
       "      <td>11084.0</td>\n",
       "      <td>...</td>\n",
       "      <td>0.308524</td>\n",
       "      <td>0.431915</td>\n",
       "      <td>0.466115</td>\n",
       "      <td>0.401818</td>\n",
       "      <td>0.469616</td>\n",
       "      <td>0.466222</td>\n",
       "      <td>0.616621</td>\n",
       "      <td>0.519215</td>\n",
       "      <td>0.422129</td>\n",
       "      <td>0.354170</td>\n",
       "    </tr>\n",
       "    <tr>\n",
       "      <th>3</th>\n",
       "      <td>185.387694</td>\n",
       "      <td>Supernatural</td>\n",
       "      <td>1.199493</td>\n",
       "      <td>0.260926</td>\n",
       "      <td>[0.62980396, 0.6035918, 0.5775655, 0.5571881, ...</td>\n",
       "      <td>1600.937584</td>\n",
       "      <td>950.315775</td>\n",
       "      <td>2002.187893</td>\n",
       "      <td>22050.0</td>\n",
       "      <td>10121.0</td>\n",
       "      <td>...</td>\n",
       "      <td>0.325616</td>\n",
       "      <td>0.386509</td>\n",
       "      <td>0.352333</td>\n",
       "      <td>0.331226</td>\n",
       "      <td>0.466208</td>\n",
       "      <td>0.521074</td>\n",
       "      <td>0.734965</td>\n",
       "      <td>0.552764</td>\n",
       "      <td>0.420204</td>\n",
       "      <td>0.335290</td>\n",
       "    </tr>\n",
       "    <tr>\n",
       "      <th>4</th>\n",
       "      <td>185.335062</td>\n",
       "      <td>Supernatural</td>\n",
       "      <td>1.212720</td>\n",
       "      <td>0.272926</td>\n",
       "      <td>[-0.09439093, -0.06570398, -0.032624375, -0.00...</td>\n",
       "      <td>1680.028111</td>\n",
       "      <td>1023.549388</td>\n",
       "      <td>2140.703722</td>\n",
       "      <td>22050.0</td>\n",
       "      <td>10175.0</td>\n",
       "      <td>...</td>\n",
       "      <td>0.345472</td>\n",
       "      <td>0.353046</td>\n",
       "      <td>0.354804</td>\n",
       "      <td>0.330782</td>\n",
       "      <td>0.496360</td>\n",
       "      <td>0.455021</td>\n",
       "      <td>0.582542</td>\n",
       "      <td>0.469681</td>\n",
       "      <td>0.406876</td>\n",
       "      <td>0.397625</td>\n",
       "    </tr>\n",
       "  </tbody>\n",
       "</table>\n",
       "<p>5 rows × 54 columns</p>\n",
       "</div>"
      ],
      "text/plain": [
       "        beats         label  onset_strength       plp  \\\n",
       "0  189.402167  Supernatural        1.447724  0.273632   \n",
       "1  185.361378  Supernatural        1.318500  0.267129   \n",
       "2  185.282430  Supernatural        1.248585  0.278978   \n",
       "3  185.387694  Supernatural        1.199493  0.260926   \n",
       "4  185.335062  Supernatural        1.212720  0.272926   \n",
       "\n",
       "                                              sample  spectral_band_width  \\\n",
       "0  [3.5482785e-08, 1.0161084e-08, -9.557592e-09, ...          1507.378098   \n",
       "1  [-0.018045332, -0.022796264, -0.022938928, -0....          1122.701344   \n",
       "2  [0.119748116, 0.11298294, 0.10486316, 0.095828...          1578.514212   \n",
       "3  [0.62980396, 0.6035918, 0.5775655, 0.5571881, ...          1600.937584   \n",
       "4  [-0.09439093, -0.06570398, -0.032624375, -0.00...          1680.028111   \n",
       "\n",
       "   spectral_centroid  spectral_rolloff       sr  zero_crossings  ...  \\\n",
       "0        1522.945223       2815.416309  22050.0         29991.0  ...   \n",
       "1         755.909261       1388.591603  22050.0          9221.0  ...   \n",
       "2         993.390330       2033.504370  22050.0         11084.0  ...   \n",
       "3         950.315775       2002.187893  22050.0         10121.0  ...   \n",
       "4        1023.549388       2140.703722  22050.0         10175.0  ...   \n",
       "\n",
       "        tc3       tc4       tc5       tc6       tc7       tc8       tc9  \\\n",
       "0  0.448078  0.516113  0.604782  0.646218  0.560142  0.423752  0.474641   \n",
       "1  0.514236  0.568662  0.578250  0.528015  0.594869  0.435590  0.402993   \n",
       "2  0.308524  0.431915  0.466115  0.401818  0.469616  0.466222  0.616621   \n",
       "3  0.325616  0.386509  0.352333  0.331226  0.466208  0.521074  0.734965   \n",
       "4  0.345472  0.353046  0.354804  0.330782  0.496360  0.455021  0.582542   \n",
       "\n",
       "       tc10      tc11      tc12  \n",
       "0  0.299281  0.260296  0.292778  \n",
       "1  0.282640  0.320256  0.293354  \n",
       "2  0.519215  0.422129  0.354170  \n",
       "3  0.552764  0.420204  0.335290  \n",
       "4  0.469681  0.406876  0.397625  \n",
       "\n",
       "[5 rows x 54 columns]"
      ]
     },
     "execution_count": 25,
     "metadata": {},
     "output_type": "execute_result"
    }
   ],
   "source": [
    "df.head()"
   ]
  },
  {
   "cell_type": "code",
   "execution_count": 23,
   "id": "permanent-politics",
   "metadata": {},
   "outputs": [
    {
     "data": {
      "text/plain": [
       "(1589, 54)"
      ]
     },
     "execution_count": 23,
     "metadata": {},
     "output_type": "execute_result"
    }
   ],
   "source": [
    "df.shape"
   ]
  },
  {
   "cell_type": "markdown",
   "id": "found-pickup",
   "metadata": {},
   "source": [
    "# Export DataFrame to .CSV"
   ]
  },
  {
   "cell_type": "code",
   "execution_count": 24,
   "id": "economic-destruction",
   "metadata": {},
   "outputs": [],
   "source": [
    "df.to_csv(path_or_buf= \"output/even_more_features_15s_025ov.csv\",index=False)"
   ]
  },
  {
   "cell_type": "code",
   "execution_count": null,
   "id": "psychological-windows",
   "metadata": {},
   "outputs": [],
   "source": []
  }
 ],
 "metadata": {
  "kernelspec": {
   "display_name": "Python 3",
   "language": "python",
   "name": "python3"
  },
  "language_info": {
   "codemirror_mode": {
    "name": "ipython",
    "version": 3
   },
   "file_extension": ".py",
   "mimetype": "text/x-python",
   "name": "python",
   "nbconvert_exporter": "python",
   "pygments_lexer": "ipython3",
   "version": "3.8.5"
  },
  "toc": {
   "base_numbering": 1,
   "nav_menu": {},
   "number_sections": true,
   "sideBar": true,
   "skip_h1_title": false,
   "title_cell": "Table of Contents",
   "title_sidebar": "Contents",
   "toc_cell": true,
   "toc_position": {},
   "toc_section_display": true,
   "toc_window_display": false
  },
  "varInspector": {
   "cols": {
    "lenName": 16,
    "lenType": 16,
    "lenVar": 40
   },
   "kernels_config": {
    "python": {
     "delete_cmd_postfix": "",
     "delete_cmd_prefix": "del ",
     "library": "var_list.py",
     "varRefreshCmd": "print(var_dic_list())"
    },
    "r": {
     "delete_cmd_postfix": ") ",
     "delete_cmd_prefix": "rm(",
     "library": "var_list.r",
     "varRefreshCmd": "cat(var_dic_list()) "
    }
   },
   "types_to_exclude": [
    "module",
    "function",
    "builtin_function_or_method",
    "instance",
    "_Feature"
   ],
   "window_display": false
  }
 },
 "nbformat": 4,
 "nbformat_minor": 5
}
