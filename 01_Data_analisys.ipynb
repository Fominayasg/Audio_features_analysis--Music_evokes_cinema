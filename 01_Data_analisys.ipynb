{
 "cells": [
  {
   "cell_type": "markdown",
   "id": "productive-healing",
   "metadata": {
    "toc": true
   },
   "source": [
    "<h1>Table of Contents<span class=\"tocSkip\"></span></h1>\n",
    "<div class=\"toc\"><ul class=\"toc-item\"><li><span><a href=\"#Libraries\" data-toc-modified-id=\"Libraries-1\"><span class=\"toc-item-num\">1&nbsp;&nbsp;</span>Libraries</a></span></li><li><span><a href=\"#Get-files\" data-toc-modified-id=\"Get-files-2\"><span class=\"toc-item-num\">2&nbsp;&nbsp;</span>Get files</a></span></li><li><span><a href=\"#Extracting-features\" data-toc-modified-id=\"Extracting-features-3\"><span class=\"toc-item-num\">3&nbsp;&nbsp;</span>Extracting features</a></span></li><li><span><a href=\"#Export-DataFrame-to-.CSV\" data-toc-modified-id=\"Export-DataFrame-to-.CSV-4\"><span class=\"toc-item-num\">4&nbsp;&nbsp;</span>Export DataFrame to .CSV</a></span></li></ul></div>"
   ]
  },
  {
   "cell_type": "markdown",
   "id": "heavy-discharge",
   "metadata": {},
   "source": [
    "# Libraries"
   ]
  },
  {
   "cell_type": "code",
   "execution_count": 1,
   "id": "infectious-gambling",
   "metadata": {},
   "outputs": [],
   "source": [
    "import librosa\n",
    "import numpy as np\n",
    "#import matplotlib.pyplot as plt\n",
    "import pandas as pd\n",
    "import os\n",
    "# For audio playing\n",
    "#import IPython.display as ipd\n",
    "# For visualizations\n",
    "#import librosa.display\n",
    "#from math import ceil\n",
    "import scipy"
   ]
  },
  {
   "cell_type": "markdown",
   "id": "gorgeous-nightmare",
   "metadata": {},
   "source": [
    "# Get files "
   ]
  },
  {
   "cell_type": "markdown",
   "id": "altered-punch",
   "metadata": {},
   "source": [
    "**To maximize the results obtained from the data and ensure that all samples have the same duration we will use the following function.**\n",
    "\n",
    "1. Navigate through directories to get files.</li>\n",
    "2. For each file we get several fragments that overlap the previous and following fragment.</li>\n"
   ]
  },
  {
   "cell_type": "code",
   "execution_count": 2,
   "id": "impossible-timothy",
   "metadata": {},
   "outputs": [],
   "source": [
    "directory = \"data\"\n",
    "def gen_audio(window,overlap=0,path=directory):\n",
    "    for genre in os.listdir(path):\n",
    "        if os.path.isdir(f\"{path}/{genre}\"):\n",
    "            folder=f\"{path}/{genre}\"\n",
    "            for song in os.listdir(folder):\n",
    "                song_path = f\"{folder}/{song}\"\n",
    "                if song == \".DS_Store\":\n",
    "                    continue\n",
    "                y, sr = librosa.load(song_path)\n",
    "                duration = True\n",
    "                i=0\n",
    "                while duration:\n",
    "                    #print(song_path)\n",
    "                    song_points = len(y)\n",
    "                    window_points = window*sr\n",
    "                    start = int(i*window_points - overlap*window_points)\n",
    "                    if start<0:\n",
    "                        start=0\n",
    "                    end = start + window_points\n",
    "                    #print(start,end)\n",
    "                    sample=y[start:end]\n",
    "                    if end >= song_points:\n",
    "                        #print(\"-\")\n",
    "                        sample = y[-window_points:]\n",
    "                        duration = False\n",
    "                    i += 1\n",
    "                    yield genre,sample,sr"
   ]
  },
  {
   "cell_type": "code",
   "execution_count": 3,
   "id": "obvious-nowhere",
   "metadata": {},
   "outputs": [],
   "source": [
    "audio_generator = gen_audio(15,0.25)"
   ]
  },
  {
   "cell_type": "code",
   "execution_count": 16,
   "id": "removed-twelve",
   "metadata": {},
   "outputs": [
    {
     "data": {
      "text/plain": [
       "<generator object gen_audio at 0x7fc26b876cf0>"
      ]
     },
     "execution_count": 16,
     "metadata": {},
     "output_type": "execute_result"
    }
   ],
   "source": [
    "audio_generator"
   ]
  },
  {
   "cell_type": "code",
   "execution_count": 4,
   "id": "olympic-headquarters",
   "metadata": {},
   "outputs": [],
   "source": [
    "df = pd.DataFrame()"
   ]
  },
  {
   "cell_type": "markdown",
   "id": "chronic-serial",
   "metadata": {},
   "source": [
    "# Extracting features"
   ]
  },
  {
   "cell_type": "markdown",
   "id": "arbitrary-steal",
   "metadata": {},
   "source": [
    "**The features that are going to be used are:**\n",
    "- Zero crossings\n",
    "- Spectral centroid\n",
    "- Spectral band_width\n",
    "- Spectral rolloff\n",
    "- Chroma stft\n",
    "- Mel Frequency Cepstral Coeﬃcients (mfcc)\n",
    "- Tonal centroid\n",
    "- Onset_strength\n",
    "- PLP\n",
    "- Beats per min"
   ]
  },
  {
   "cell_type": "code",
   "execution_count": 5,
   "id": "arabic-record",
   "metadata": {
    "scrolled": true
   },
   "outputs": [
    {
     "name": "stderr",
     "output_type": "stream",
     "text": [
      "/usr/local/Caskroom/miniconda/base/envs/ironhack/lib/python3.8/site-packages/numpy/core/_asarray.py:136: VisibleDeprecationWarning: Creating an ndarray from ragged nested sequences (which is a list-or-tuple of lists-or-tuples-or ndarrays with different lengths or shapes) is deprecated. If you meant to do this, you must specify 'dtype=object' when creating the ndarray\n",
      "  return array(a, dtype, copy=False, order=order, subok=True)\n",
      "<timed exec>:29: ComplexWarning: Casting complex values to real discards the imaginary part\n"
     ]
    },
    {
     "name": "stdout",
     "output_type": "stream",
     "text": [
      "295\r"
     ]
    },
    {
     "name": "stderr",
     "output_type": "stream",
     "text": [
      "/usr/local/Caskroom/miniconda/base/envs/ironhack/lib/python3.8/site-packages/numpy/core/fromnumeric.py:3372: RuntimeWarning: Mean of empty slice.\n",
      "  return _methods._mean(a, axis=axis, dtype=dtype,\n",
      "/usr/local/Caskroom/miniconda/base/envs/ironhack/lib/python3.8/site-packages/numpy/core/_methods.py:170: RuntimeWarning: invalid value encountered in double_scalars\n",
      "  ret = ret.dtype.type(ret / rcount)\n"
     ]
    },
    {
     "name": "stdout",
     "output_type": "stream",
     "text": [
      "3483\r"
     ]
    },
    {
     "name": "stderr",
     "output_type": "stream",
     "text": [
      "/usr/local/Caskroom/miniconda/base/envs/ironhack/lib/python3.8/site-packages/librosa/core/pitch.py:153: UserWarning: Trying to estimate tuning from empty frequency set.\n",
      "  warnings.warn(\"Trying to estimate tuning from empty frequency set.\")\n"
     ]
    },
    {
     "name": "stdout",
     "output_type": "stream",
     "text": [
      "3907\r"
     ]
    },
    {
     "name": "stderr",
     "output_type": "stream",
     "text": [
      "/usr/local/Caskroom/miniconda/base/envs/ironhack/lib/python3.8/site-packages/librosa/core/spectrum.py:222: UserWarning: n_fft=384 is too small for input signal of length=181\n",
      "  warnings.warn(\n"
     ]
    },
    {
     "name": "stdout",
     "output_type": "stream",
     "text": [
      "CPU times: user 3h 48min 16s, sys: 24min 18s, total: 4h 12min 34s\n",
      "Wall time: 2h 3min 10s\n"
     ]
    }
   ],
   "source": [
    "%%time\n",
    "i = 1\n",
    "for label, sample, sr in audio_generator:\n",
    "    y = sample\n",
    "    zero_crossing = librosa.zero_crossings(y=y, pad=False)\n",
    "    spectral_centroid = librosa.feature.spectral_centroid(y=y, sr=sr)\n",
    "    spectral_band_width = librosa.feature.spectral_bandwidth(y=y, sr=sr)\n",
    "    spectral_rolloff = librosa.feature.spectral_rolloff(y=y, sr=sr)\n",
    "    chroma_stft = librosa.feature.chroma_stft(y=y, sr=sr)\n",
    "    mfcc = librosa.feature.mfcc(y=y, sr=sr)\n",
    "    tonal_centroid = librosa.feature.tonnetz(y=y, sr=sr)\n",
    "    onset_strength = librosa.onset.onset_strength(y=y, sr=sr)\n",
    "    plp = librosa.beat.plp(onset_envelope=onset_strength, sr=sr)\n",
    "    beats = librosa.beat.beat_track(y=y, sr=sr)\n",
    "    fft = scipy.fft.fft(y)\n",
    "    df = df.append({\n",
    "        \"label\":label,\n",
    "        \"sample\":sample,\n",
    "        \"sr\":sr,\n",
    "        \"zero_crossings\": sum(zero_crossing),\n",
    "        \"spectral_centroid\": np.mean(spectral_centroid),\n",
    "        \"spectral_band_width\": np.mean(spectral_band_width),\n",
    "        \"spectral_rolloff\" : np.mean(spectral_rolloff),\n",
    "        \"chroma_stft\": [np.mean(c) for c in chroma_stft],\n",
    "        \"mfcc\": [np.mean(e) for e in mfcc],\n",
    "        \"tonal_centroid\": [np.mean(t) for t in chroma_stft],\n",
    "        \"onset_strength\" : np.mean(onset_strength),\n",
    "        \"plp\" : np.mean(plp),\n",
    "        \"beats\" : np.mean(np.mean(beats)),\n",
    "        \"fft\" : np.mean([float(f) for f in fft])\n",
    "    }, ignore_index=True)\n",
    "    print(i,end=\"\\r\")\n",
    "    i+=1"
   ]
  },
  {
   "cell_type": "code",
   "execution_count": null,
   "id": "committed-arrival",
   "metadata": {
    "scrolled": false
   },
   "outputs": [],
   "source": [
    "df.head(1)"
   ]
  },
  {
   "cell_type": "code",
   "execution_count": 6,
   "id": "synthetic-austin",
   "metadata": {},
   "outputs": [],
   "source": [
    "df[['chroma_stft1','chroma_stft2','chroma_stft3','chroma_stft4','chroma_stft5','chroma_stft6','chroma_stft7','chroma_stft8','chroma_stft9','chroma_stft10','chroma_stft11','chroma_stft12']] = pd.DataFrame(df.chroma_stft.tolist(), index= df.index)\n",
    "df = df.drop(['chroma_stft'], axis=1)"
   ]
  },
  {
   "cell_type": "code",
   "execution_count": 7,
   "id": "opponent-western",
   "metadata": {},
   "outputs": [],
   "source": [
    "df[['mfcc1','mfcc2','mfcc3','mfcc4','mfcc5','mfcc6','mfcc7','mfcc8','mfcc9','mfcc10','mfcc11','mfcc12','mfcc13','mfcc14','mfcc15','mfcc16','mfcc17','mfcc18','mfcc19','mfcc20']] = pd.DataFrame(df.mfcc.tolist(), index= df.index)\n",
    "df = df.drop(['mfcc'], axis=1)"
   ]
  },
  {
   "cell_type": "code",
   "execution_count": 8,
   "id": "differential-beauty",
   "metadata": {},
   "outputs": [],
   "source": [
    "df[['tc1','tc2','tc3','tc4','tc5','tc6','tc7','tc8','tc9','tc10','tc11','tc12']] = pd.DataFrame(df.tonal_centroid.tolist(), index= df.index)\n",
    "df = df.drop(['tonal_centroid'], axis=1)"
   ]
  },
  {
   "cell_type": "code",
   "execution_count": null,
   "id": "physical-omega",
   "metadata": {
    "scrolled": true
   },
   "outputs": [],
   "source": [
    "df.head()"
   ]
  },
  {
   "cell_type": "code",
   "execution_count": 13,
   "id": "meaning-warner",
   "metadata": {},
   "outputs": [
    {
     "data": {
      "text/plain": [
       "(4272, 55)"
      ]
     },
     "execution_count": 13,
     "metadata": {},
     "output_type": "execute_result"
    }
   ],
   "source": [
    "df.shape"
   ]
  },
  {
   "cell_type": "markdown",
   "id": "academic-genius",
   "metadata": {},
   "source": [
    "# Export DataFrame to .CSV"
   ]
  },
  {
   "cell_type": "code",
   "execution_count": 9,
   "id": "primary-combat",
   "metadata": {},
   "outputs": [],
   "source": [
    "df.to_csv(path_or_buf= \"output/newgenres_allfeatures_csv.csv\",index=False)"
   ]
  },
  {
   "cell_type": "code",
   "execution_count": 12,
   "id": "statutory-kingston",
   "metadata": {},
   "outputs": [],
   "source": [
    "df.to_pickle(path= \"output/newgenres_allfeatures_pickle.pkl\")"
   ]
  },
  {
   "cell_type": "code",
   "execution_count": null,
   "id": "terminal-authentication",
   "metadata": {},
   "outputs": [],
   "source": []
  }
 ],
 "metadata": {
  "kernelspec": {
   "display_name": "Python 3",
   "language": "python",
   "name": "python3"
  },
  "language_info": {
   "codemirror_mode": {
    "name": "ipython",
    "version": 3
   },
   "file_extension": ".py",
   "mimetype": "text/x-python",
   "name": "python",
   "nbconvert_exporter": "python",
   "pygments_lexer": "ipython3",
   "version": "3.8.5"
  },
  "toc": {
   "base_numbering": 1,
   "nav_menu": {},
   "number_sections": true,
   "sideBar": true,
   "skip_h1_title": false,
   "title_cell": "Table of Contents",
   "title_sidebar": "Contents",
   "toc_cell": true,
   "toc_position": {},
   "toc_section_display": true,
   "toc_window_display": false
  },
  "varInspector": {
   "cols": {
    "lenName": 16,
    "lenType": 16,
    "lenVar": 40
   },
   "kernels_config": {
    "python": {
     "delete_cmd_postfix": "",
     "delete_cmd_prefix": "del ",
     "library": "var_list.py",
     "varRefreshCmd": "print(var_dic_list())"
    },
    "r": {
     "delete_cmd_postfix": ") ",
     "delete_cmd_prefix": "rm(",
     "library": "var_list.r",
     "varRefreshCmd": "cat(var_dic_list()) "
    }
   },
   "types_to_exclude": [
    "module",
    "function",
    "builtin_function_or_method",
    "instance",
    "_Feature"
   ],
   "window_display": false
  }
 },
 "nbformat": 4,
 "nbformat_minor": 5
}
