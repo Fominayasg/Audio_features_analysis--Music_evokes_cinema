{
 "cells": [
  {
   "cell_type": "markdown",
   "id": "productive-healing",
   "metadata": {
    "toc": true
   },
   "source": [
    "<h1>Table of Contents<span class=\"tocSkip\"></span></h1>\n",
    "<div class=\"toc\"><ul class=\"toc-item\"><li><span><a href=\"#Libraries\" data-toc-modified-id=\"Libraries-1\"><span class=\"toc-item-num\">1&nbsp;&nbsp;</span>Libraries</a></span></li><li><span><a href=\"#Get-files-and-genres\" data-toc-modified-id=\"Get-files-and-genres-2\"><span class=\"toc-item-num\">2&nbsp;&nbsp;</span>Get files and genres</a></span></li><li><span><a href=\"#Getting-and-normalizing-features\" data-toc-modified-id=\"Getting-and-normalizing-features-3\"><span class=\"toc-item-num\">3&nbsp;&nbsp;</span>Getting and normalizing features</a></span><ul class=\"toc-item\"><li><span><a href=\"#Zero-crossing\" data-toc-modified-id=\"Zero-crossing-3.1\"><span class=\"toc-item-num\">3.1&nbsp;&nbsp;</span>Zero crossing</a></span></li><li><span><a href=\"#Spectral-Centroid\" data-toc-modified-id=\"Spectral-Centroid-3.2\"><span class=\"toc-item-num\">3.2&nbsp;&nbsp;</span>Spectral Centroid</a></span></li><li><span><a href=\"#Spectral-Rolloff\" data-toc-modified-id=\"Spectral-Rolloff-3.3\"><span class=\"toc-item-num\">3.3&nbsp;&nbsp;</span>Spectral Rolloff</a></span></li><li><span><a href=\"#Mel-Frequency-Cepstral-Coefficients-(MFCC)\" data-toc-modified-id=\"Mel-Frequency-Cepstral-Coefficients-(MFCC)-3.4\"><span class=\"toc-item-num\">3.4&nbsp;&nbsp;</span>Mel-Frequency Cepstral Coefficients (MFCC)</a></span></li><li><span><a href=\"#Chroma-stft\" data-toc-modified-id=\"Chroma-stft-3.5\"><span class=\"toc-item-num\">3.5&nbsp;&nbsp;</span>Chroma stft</a></span></li></ul></li><li><span><a href=\"#Export-DataFrame-to-.CSV\" data-toc-modified-id=\"Export-DataFrame-to-.CSV-4\"><span class=\"toc-item-num\">4&nbsp;&nbsp;</span>Export DataFrame to .CSV</a></span></li></ul></div>"
   ]
  },
  {
   "cell_type": "markdown",
   "id": "heavy-discharge",
   "metadata": {},
   "source": [
    "# Libraries"
   ]
  },
  {
   "cell_type": "code",
   "execution_count": 1,
   "id": "infectious-gambling",
   "metadata": {},
   "outputs": [],
   "source": [
    "import librosa\n",
    "import numpy as np\n",
    "import matplotlib.pyplot as plt\n",
    "import pandas as pd\n",
    "# For iterating through files\n",
    "import os\n",
    "# For audio playing\n",
    "import IPython.display as ipd\n",
    "# For visualizations\n",
    "import librosa.display"
   ]
  },
  {
   "cell_type": "markdown",
   "id": "gorgeous-nightmare",
   "metadata": {},
   "source": [
    "# Get files and genres "
   ]
  },
  {
   "cell_type": "code",
   "execution_count": 2,
   "id": "given-stroke",
   "metadata": {},
   "outputs": [
    {
     "name": "stdout",
     "output_type": "stream",
     "text": [
      "['Supernatural', 'Adventure', 'Horror', 'Action', 'Beautiful', 'Drama']\n"
     ]
    }
   ],
   "source": [
    "# Get genres\n",
    "\n",
    "directory = 'data'\n",
    "genres = []\n",
    "for entry in os.scandir(directory):\n",
    "    # echar un ojo para evitar .DS_Store\n",
    "    if entry.name != \".DS_Store\":\n",
    "        genres.append(entry.name)\n",
    "print(genres)"
   ]
  },
  {
   "cell_type": "code",
   "execution_count": 3,
   "id": "subsequent-individual",
   "metadata": {},
   "outputs": [],
   "source": [
    "# Get a dictionary -> key=genre , value = list of songs\n",
    "\n",
    "songs_dict2 = {}\n",
    "for gen in genres:\n",
    "    dir = directory + f\"/{gen}\"\n",
    "    songs2 = []\n",
    "\n",
    "    for entry in os.scandir(dir):\n",
    "        if entry.name.endswith(\".wav\"):\n",
    "            songs2.append(entry.name)\n",
    "            songs_dict2.update( {f\"{gen}\" : songs2} )\n",
    "\n",
    "#print (songs_dict2)"
   ]
  },
  {
   "cell_type": "code",
   "execution_count": 4,
   "id": "considered-approach",
   "metadata": {},
   "outputs": [
    {
     "data": {
      "text/html": [
       "<div>\n",
       "<style scoped>\n",
       "    .dataframe tbody tr th:only-of-type {\n",
       "        vertical-align: middle;\n",
       "    }\n",
       "\n",
       "    .dataframe tbody tr th {\n",
       "        vertical-align: top;\n",
       "    }\n",
       "\n",
       "    .dataframe thead th {\n",
       "        text-align: right;\n",
       "    }\n",
       "</style>\n",
       "<table border=\"1\" class=\"dataframe\">\n",
       "  <thead>\n",
       "    <tr style=\"text-align: right;\">\n",
       "      <th></th>\n",
       "      <th>Genre</th>\n",
       "      <th>Title</th>\n",
       "      <th>Offset</th>\n",
       "    </tr>\n",
       "  </thead>\n",
       "  <tbody>\n",
       "    <tr>\n",
       "      <th>0</th>\n",
       "      <td>Supernatural</td>\n",
       "      <td>ES_Chasing Self - Polar Nights.wav</td>\n",
       "      <td>0</td>\n",
       "    </tr>\n",
       "    <tr>\n",
       "      <th>1</th>\n",
       "      <td>Supernatural</td>\n",
       "      <td>ES_Chasing Self - Polar Nights.wav</td>\n",
       "      <td>15</td>\n",
       "    </tr>\n",
       "    <tr>\n",
       "      <th>2</th>\n",
       "      <td>Supernatural</td>\n",
       "      <td>ES_Chasing Self - Polar Nights.wav</td>\n",
       "      <td>30</td>\n",
       "    </tr>\n",
       "    <tr>\n",
       "      <th>3</th>\n",
       "      <td>Supernatural</td>\n",
       "      <td>ES_Chasing Self - Polar Nights.wav</td>\n",
       "      <td>45</td>\n",
       "    </tr>\n",
       "    <tr>\n",
       "      <th>4</th>\n",
       "      <td>Supernatural</td>\n",
       "      <td>ES_Foundation of Time - Jon Bjork.wav</td>\n",
       "      <td>0</td>\n",
       "    </tr>\n",
       "    <tr>\n",
       "      <th>...</th>\n",
       "      <td>...</td>\n",
       "      <td>...</td>\n",
       "      <td>...</td>\n",
       "    </tr>\n",
       "    <tr>\n",
       "      <th>1151</th>\n",
       "      <td>Drama</td>\n",
       "      <td>ES_Drive Me Anywhere but Here - Trailer Worx (...</td>\n",
       "      <td>45</td>\n",
       "    </tr>\n",
       "    <tr>\n",
       "      <th>1152</th>\n",
       "      <td>Drama</td>\n",
       "      <td>ES_Truth Be Known - Trailer Worx (1).wav</td>\n",
       "      <td>0</td>\n",
       "    </tr>\n",
       "    <tr>\n",
       "      <th>1153</th>\n",
       "      <td>Drama</td>\n",
       "      <td>ES_Truth Be Known - Trailer Worx (1).wav</td>\n",
       "      <td>15</td>\n",
       "    </tr>\n",
       "    <tr>\n",
       "      <th>1154</th>\n",
       "      <td>Drama</td>\n",
       "      <td>ES_Truth Be Known - Trailer Worx (1).wav</td>\n",
       "      <td>30</td>\n",
       "    </tr>\n",
       "    <tr>\n",
       "      <th>1155</th>\n",
       "      <td>Drama</td>\n",
       "      <td>ES_Truth Be Known - Trailer Worx (1).wav</td>\n",
       "      <td>45</td>\n",
       "    </tr>\n",
       "  </tbody>\n",
       "</table>\n",
       "<p>1156 rows × 3 columns</p>\n",
       "</div>"
      ],
      "text/plain": [
       "             Genre                                              Title Offset\n",
       "0     Supernatural                 ES_Chasing Self - Polar Nights.wav      0\n",
       "1     Supernatural                 ES_Chasing Self - Polar Nights.wav     15\n",
       "2     Supernatural                 ES_Chasing Self - Polar Nights.wav     30\n",
       "3     Supernatural                 ES_Chasing Self - Polar Nights.wav     45\n",
       "4     Supernatural              ES_Foundation of Time - Jon Bjork.wav      0\n",
       "...            ...                                                ...    ...\n",
       "1151         Drama  ES_Drive Me Anywhere but Here - Trailer Worx (...     45\n",
       "1152         Drama           ES_Truth Be Known - Trailer Worx (1).wav      0\n",
       "1153         Drama           ES_Truth Be Known - Trailer Worx (1).wav     15\n",
       "1154         Drama           ES_Truth Be Known - Trailer Worx (1).wav     30\n",
       "1155         Drama           ES_Truth Be Known - Trailer Worx (1).wav     45\n",
       "\n",
       "[1156 rows x 3 columns]"
      ]
     },
     "execution_count": 4,
     "metadata": {},
     "output_type": "execute_result"
    }
   ],
   "source": [
    "#Creating DataFrame\n",
    "df = pd.DataFrame(columns=['Genre', 'Title', 'Offset'])\n",
    "offset_15 = [0,15,30,45]\n",
    "for i in songs_dict2:\n",
    "    sng = songs_dict2.get(i)\n",
    "    for s in sng:\n",
    "        if s != \".DS_Store\":\n",
    "            for o in offset_15:\n",
    "                my_dict = {\"Title\":f\"{s}\",\"Genre\":f\"{i}\", \"Offset\":int(f\"{o}\")}\n",
    "                df = df.append(my_dict, ignore_index=True)\n",
    "'''           \n",
    "            df_prueba.append(my_dict, ignore_index=True)'''\n",
    "    \n",
    "'''df = df.append({\"Title\":f\"{s}\",\"genre\":f\"{i}\"}, ignore_index=True)'''\n",
    "df"
   ]
  },
  {
   "cell_type": "markdown",
   "id": "major-evans",
   "metadata": {},
   "source": [
    "# Getting and normalizing features"
   ]
  },
  {
   "cell_type": "markdown",
   "id": "massive-belfast",
   "metadata": {},
   "source": [
    "## Zero crossing"
   ]
  },
  {
   "cell_type": "code",
   "execution_count": 5,
   "id": "occupied-jewelry",
   "metadata": {},
   "outputs": [
    {
     "ename": "KeyboardInterrupt",
     "evalue": "",
     "output_type": "error",
     "traceback": [
      "\u001b[0;31m---------------------------------------------------------------------------\u001b[0m",
      "\u001b[0;31mKeyboardInterrupt\u001b[0m                         Traceback (most recent call last)",
      "\u001b[0;32m<timed exec>\u001b[0m in \u001b[0;36m<module>\u001b[0;34m\u001b[0m\n",
      "\u001b[0;31mKeyboardInterrupt\u001b[0m: "
     ]
    }
   ],
   "source": [
    "%%time\n",
    "zero_crossings = []\n",
    "\n",
    "for index, row in df.iterrows():\n",
    "    path = f\"data/{row['Genre']}/{row['Title']}\"\n",
    "    #print (type(row['Offset']))\n",
    "    y, sr = librosa.load(path, duration=15, offset=row['Offset'])\n",
    "    \n",
    "    no_norm = librosa.zero_crossings(y=y, pad=False)\n",
    "    zr=sum(no_norm)\n",
    "    #print(no_norm)\n",
    "    #zr = np.linalg.norm(no_norm)\n",
    "    #print(zr)\n",
    "    zero_crossings.append(zr)   "
   ]
  },
  {
   "cell_type": "code",
   "execution_count": 6,
   "id": "nonprofit-punishment",
   "metadata": {},
   "outputs": [
    {
     "ename": "ValueError",
     "evalue": "Length of values (1013) does not match length of index (1156)",
     "output_type": "error",
     "traceback": [
      "\u001b[0;31m---------------------------------------------------------------------------\u001b[0m",
      "\u001b[0;31mValueError\u001b[0m                                Traceback (most recent call last)",
      "\u001b[0;32m<ipython-input-6-109796bc2c4b>\u001b[0m in \u001b[0;36m<module>\u001b[0;34m\u001b[0m\n\u001b[0;32m----> 1\u001b[0;31m \u001b[0mdf\u001b[0m\u001b[0;34m[\u001b[0m\u001b[0;34m'Zero_crossings'\u001b[0m\u001b[0;34m]\u001b[0m \u001b[0;34m=\u001b[0m \u001b[0mzero_crossings\u001b[0m\u001b[0;34m\u001b[0m\u001b[0;34m\u001b[0m\u001b[0m\n\u001b[0m\u001b[1;32m      2\u001b[0m \u001b[0;34m\u001b[0m\u001b[0m\n\u001b[1;32m      3\u001b[0m \u001b[0mdf\u001b[0m\u001b[0;34m.\u001b[0m\u001b[0mhead\u001b[0m\u001b[0;34m(\u001b[0m\u001b[0;34m)\u001b[0m\u001b[0;34m\u001b[0m\u001b[0;34m\u001b[0m\u001b[0m\n",
      "\u001b[0;32m/usr/local/Caskroom/miniconda/base/envs/ironhack/lib/python3.8/site-packages/pandas/core/frame.py\u001b[0m in \u001b[0;36m__setitem__\u001b[0;34m(self, key, value)\u001b[0m\n\u001b[1;32m   3161\u001b[0m         \u001b[0;32melse\u001b[0m\u001b[0;34m:\u001b[0m\u001b[0;34m\u001b[0m\u001b[0;34m\u001b[0m\u001b[0m\n\u001b[1;32m   3162\u001b[0m             \u001b[0;31m# set column\u001b[0m\u001b[0;34m\u001b[0m\u001b[0;34m\u001b[0m\u001b[0;34m\u001b[0m\u001b[0m\n\u001b[0;32m-> 3163\u001b[0;31m             \u001b[0mself\u001b[0m\u001b[0;34m.\u001b[0m\u001b[0m_set_item\u001b[0m\u001b[0;34m(\u001b[0m\u001b[0mkey\u001b[0m\u001b[0;34m,\u001b[0m \u001b[0mvalue\u001b[0m\u001b[0;34m)\u001b[0m\u001b[0;34m\u001b[0m\u001b[0;34m\u001b[0m\u001b[0m\n\u001b[0m\u001b[1;32m   3164\u001b[0m \u001b[0;34m\u001b[0m\u001b[0m\n\u001b[1;32m   3165\u001b[0m     \u001b[0;32mdef\u001b[0m \u001b[0m_setitem_slice\u001b[0m\u001b[0;34m(\u001b[0m\u001b[0mself\u001b[0m\u001b[0;34m,\u001b[0m \u001b[0mkey\u001b[0m\u001b[0;34m:\u001b[0m \u001b[0mslice\u001b[0m\u001b[0;34m,\u001b[0m \u001b[0mvalue\u001b[0m\u001b[0;34m)\u001b[0m\u001b[0;34m:\u001b[0m\u001b[0;34m\u001b[0m\u001b[0;34m\u001b[0m\u001b[0m\n",
      "\u001b[0;32m/usr/local/Caskroom/miniconda/base/envs/ironhack/lib/python3.8/site-packages/pandas/core/frame.py\u001b[0m in \u001b[0;36m_set_item\u001b[0;34m(self, key, value)\u001b[0m\n\u001b[1;32m   3237\u001b[0m         \"\"\"\n\u001b[1;32m   3238\u001b[0m         \u001b[0mself\u001b[0m\u001b[0;34m.\u001b[0m\u001b[0m_ensure_valid_index\u001b[0m\u001b[0;34m(\u001b[0m\u001b[0mvalue\u001b[0m\u001b[0;34m)\u001b[0m\u001b[0;34m\u001b[0m\u001b[0;34m\u001b[0m\u001b[0m\n\u001b[0;32m-> 3239\u001b[0;31m         \u001b[0mvalue\u001b[0m \u001b[0;34m=\u001b[0m \u001b[0mself\u001b[0m\u001b[0;34m.\u001b[0m\u001b[0m_sanitize_column\u001b[0m\u001b[0;34m(\u001b[0m\u001b[0mkey\u001b[0m\u001b[0;34m,\u001b[0m \u001b[0mvalue\u001b[0m\u001b[0;34m)\u001b[0m\u001b[0;34m\u001b[0m\u001b[0;34m\u001b[0m\u001b[0m\n\u001b[0m\u001b[1;32m   3240\u001b[0m         \u001b[0mNDFrame\u001b[0m\u001b[0;34m.\u001b[0m\u001b[0m_set_item\u001b[0m\u001b[0;34m(\u001b[0m\u001b[0mself\u001b[0m\u001b[0;34m,\u001b[0m \u001b[0mkey\u001b[0m\u001b[0;34m,\u001b[0m \u001b[0mvalue\u001b[0m\u001b[0;34m)\u001b[0m\u001b[0;34m\u001b[0m\u001b[0;34m\u001b[0m\u001b[0m\n\u001b[1;32m   3241\u001b[0m \u001b[0;34m\u001b[0m\u001b[0m\n",
      "\u001b[0;32m/usr/local/Caskroom/miniconda/base/envs/ironhack/lib/python3.8/site-packages/pandas/core/frame.py\u001b[0m in \u001b[0;36m_sanitize_column\u001b[0;34m(self, key, value, broadcast)\u001b[0m\n\u001b[1;32m   3894\u001b[0m \u001b[0;34m\u001b[0m\u001b[0m\n\u001b[1;32m   3895\u001b[0m             \u001b[0;31m# turn me into an ndarray\u001b[0m\u001b[0;34m\u001b[0m\u001b[0;34m\u001b[0m\u001b[0;34m\u001b[0m\u001b[0m\n\u001b[0;32m-> 3896\u001b[0;31m             \u001b[0mvalue\u001b[0m \u001b[0;34m=\u001b[0m \u001b[0msanitize_index\u001b[0m\u001b[0;34m(\u001b[0m\u001b[0mvalue\u001b[0m\u001b[0;34m,\u001b[0m \u001b[0mself\u001b[0m\u001b[0;34m.\u001b[0m\u001b[0mindex\u001b[0m\u001b[0;34m)\u001b[0m\u001b[0;34m\u001b[0m\u001b[0;34m\u001b[0m\u001b[0m\n\u001b[0m\u001b[1;32m   3897\u001b[0m             \u001b[0;32mif\u001b[0m \u001b[0;32mnot\u001b[0m \u001b[0misinstance\u001b[0m\u001b[0;34m(\u001b[0m\u001b[0mvalue\u001b[0m\u001b[0;34m,\u001b[0m \u001b[0;34m(\u001b[0m\u001b[0mnp\u001b[0m\u001b[0;34m.\u001b[0m\u001b[0mndarray\u001b[0m\u001b[0;34m,\u001b[0m \u001b[0mIndex\u001b[0m\u001b[0;34m)\u001b[0m\u001b[0;34m)\u001b[0m\u001b[0;34m:\u001b[0m\u001b[0;34m\u001b[0m\u001b[0;34m\u001b[0m\u001b[0m\n\u001b[1;32m   3898\u001b[0m                 \u001b[0;32mif\u001b[0m \u001b[0misinstance\u001b[0m\u001b[0;34m(\u001b[0m\u001b[0mvalue\u001b[0m\u001b[0;34m,\u001b[0m \u001b[0mlist\u001b[0m\u001b[0;34m)\u001b[0m \u001b[0;32mand\u001b[0m \u001b[0mlen\u001b[0m\u001b[0;34m(\u001b[0m\u001b[0mvalue\u001b[0m\u001b[0;34m)\u001b[0m \u001b[0;34m>\u001b[0m \u001b[0;36m0\u001b[0m\u001b[0;34m:\u001b[0m\u001b[0;34m\u001b[0m\u001b[0;34m\u001b[0m\u001b[0m\n",
      "\u001b[0;32m/usr/local/Caskroom/miniconda/base/envs/ironhack/lib/python3.8/site-packages/pandas/core/internals/construction.py\u001b[0m in \u001b[0;36msanitize_index\u001b[0;34m(data, index)\u001b[0m\n\u001b[1;32m    749\u001b[0m     \"\"\"\n\u001b[1;32m    750\u001b[0m     \u001b[0;32mif\u001b[0m \u001b[0mlen\u001b[0m\u001b[0;34m(\u001b[0m\u001b[0mdata\u001b[0m\u001b[0;34m)\u001b[0m \u001b[0;34m!=\u001b[0m \u001b[0mlen\u001b[0m\u001b[0;34m(\u001b[0m\u001b[0mindex\u001b[0m\u001b[0;34m)\u001b[0m\u001b[0;34m:\u001b[0m\u001b[0;34m\u001b[0m\u001b[0;34m\u001b[0m\u001b[0m\n\u001b[0;32m--> 751\u001b[0;31m         raise ValueError(\n\u001b[0m\u001b[1;32m    752\u001b[0m             \u001b[0;34m\"Length of values \"\u001b[0m\u001b[0;34m\u001b[0m\u001b[0;34m\u001b[0m\u001b[0m\n\u001b[1;32m    753\u001b[0m             \u001b[0;34mf\"({len(data)}) \"\u001b[0m\u001b[0;34m\u001b[0m\u001b[0;34m\u001b[0m\u001b[0m\n",
      "\u001b[0;31mValueError\u001b[0m: Length of values (1013) does not match length of index (1156)"
     ]
    }
   ],
   "source": [
    "df['Zero_crossings'] = zero_crossings\n",
    "\n",
    "df.head()"
   ]
  },
  {
   "cell_type": "markdown",
   "id": "perfect-yield",
   "metadata": {},
   "source": [
    "## Spectral Centroid"
   ]
  },
  {
   "cell_type": "code",
   "execution_count": null,
   "id": "loose-frederick",
   "metadata": {},
   "outputs": [],
   "source": [
    "%%time\n",
    "spectral_centroid = []\n",
    "\n",
    "for index, row in df.iterrows():\n",
    "    path = f\"data/{row['Genre']}/{row['Title']}\"\n",
    "    #print (type(row['Offset']))\n",
    "    y, sr = librosa.load(path, duration=15, offset=row['Offset'])\n",
    "    \n",
    "    no_norm = librosa.feature.spectral_centroid(y=y)\n",
    "    #spc= np.mean(no_norm)\n",
    "    #print(no_norm)\n",
    "    #zr = np.linalg.norm(no_norm)\n",
    "    #print(zr)\n",
    "    spectral_centroid.append(zr)\n",
    "\n",
    "df['Spectral_centroid'] = spectral_centroid\n",
    "df.head()"
   ]
  },
  {
   "cell_type": "code",
   "execution_count": null,
   "id": "uniform-netscape",
   "metadata": {},
   "outputs": [],
   "source": [
    "df.tail()"
   ]
  },
  {
   "cell_type": "markdown",
   "id": "expensive-mercury",
   "metadata": {},
   "source": [
    "## Spectral Rolloff"
   ]
  },
  {
   "cell_type": "code",
   "execution_count": null,
   "id": "radio-limitation",
   "metadata": {
    "scrolled": true
   },
   "outputs": [],
   "source": [
    "%%time\n",
    "spectral_centroid = []\n",
    "\n",
    "for index, row in df.iterrows():\n",
    "    path = f\"data/{row['Genre']}/{row['Title']}\"\n",
    "    #print (type(row['Offset']))\n",
    "    y, sr = librosa.load(path, duration=15, offset=row['Offset'])\n",
    "    \n",
    "    no_norm = librosa.feature.spectral_rolloff(y=y, sr=sr)\n",
    "    spr= np.mean(no_norm)\n",
    "    #print(no_norm)\n",
    "    #zr = np.linalg.norm(no_norm)\n",
    "    #print(zr)\n",
    "    spectral_centroid.append(spr)\n",
    "\n",
    "df['Spectral_rolloff'] = spectral_centroid\n",
    "df.head()"
   ]
  },
  {
   "cell_type": "markdown",
   "id": "unauthorized-drive",
   "metadata": {},
   "source": [
    "## Mel-Frequency Cepstral Coefficients (MFCC)"
   ]
  },
  {
   "cell_type": "code",
   "execution_count": null,
   "id": "nervous-performer",
   "metadata": {
    "scrolled": true
   },
   "outputs": [],
   "source": [
    "%%time\n",
    "mfcc = []\n",
    "\n",
    "for index, row in df.iterrows():\n",
    "    path = f\"data/{row['Genre']}/{row['Title']}\"\n",
    "    y, sr = librosa.load(path, duration=15, offset=row['Offset'])\n",
    "    \n",
    "    no_norm = librosa.feature.mfcc(y=y, sr=sr)\n",
    "    \n",
    "    lista = []\n",
    "    for m in no_norm:\n",
    "        lista.append(m)\n",
    "    \n",
    "    lista_media = []\n",
    "    for l in lista:\n",
    "        lista_media.append(np.mean(l))\n",
    "    \n",
    "    mfcc.append(lista_media)\n",
    "\n",
    "\n",
    "df['MFCC'] = mfcc\n",
    "df.head()"
   ]
  },
  {
   "cell_type": "code",
   "execution_count": null,
   "id": "heard-bloom",
   "metadata": {},
   "outputs": [],
   "source": [
    "for index,row in df.iterrows():\n",
    "    df['MFCC1'] = row['MFCC'][0]\n",
    "    df['MFCC2'] = row['MFCC'][1]\n",
    "    df['MFCC3'] = row['MFCC'][2]\n",
    "    df['MFCC4'] = row['MFCC'][3]\n",
    "    df['MFCC5'] = row['MFCC'][4]\n",
    "    df['MFCC6'] = row['MFCC'][5]\n",
    "    df['MFCC7'] = row['MFCC'][6]\n",
    "    df['MFCC8'] = row['MFCC'][7]\n",
    "    df['MFCC9'] = row['MFCC'][8]\n",
    "    df['MFCC10'] = row['MFCC'][9]\n",
    "    df['MFCC11'] = row['MFCC'][10]\n",
    "    df['MFCC12'] = row['MFCC'][11]\n",
    "    df['MFCC13'] = row['MFCC'][12]\n",
    "    df['MFCC14'] = row['MFCC'][13]\n",
    "    df['MFCC15'] = row['MFCC'][14]\n",
    "    df['MFCC16'] = row['MFCC'][15]\n",
    "    df['MFCC17'] = row['MFCC'][16]\n",
    "    df['MFCC18'] = row['MFCC'][17]\n",
    "    df['MFCC19'] = row['MFCC'][18]\n",
    "    df['MFCC20'] = row['MFCC'][19]\n",
    "\n",
    "df = df.drop(['MFCC'], axis=1)\n",
    "df.head()"
   ]
  },
  {
   "cell_type": "markdown",
   "id": "conscious-server",
   "metadata": {},
   "source": [
    "## Chroma stft"
   ]
  },
  {
   "cell_type": "code",
   "execution_count": null,
   "id": "hollow-calendar",
   "metadata": {
    "scrolled": true
   },
   "outputs": [],
   "source": [
    "%%time\n",
    "chroma = []\n",
    "\n",
    "for index, row in df.iterrows():\n",
    "    path = f\"data/{row['Genre']}/{row['Title']}\"\n",
    "    #print (type(row['Offset']))\n",
    "    y, sr = librosa.load(path, duration=15, offset=row['Offset'])\n",
    "    \n",
    "    no_norm = librosa.feature.chroma_stft(y=y, sr=sr)\n",
    "    chrm= np.mean(no_norm)\n",
    "    #print(no_norm)\n",
    "    #zr = np.linalg.norm(no_norm)\n",
    "    #print(zr)\n",
    "    chroma.append(chrm)\n",
    "\n",
    "df['Chroma_stft'] = chroma\n",
    "df.head()"
   ]
  },
  {
   "cell_type": "code",
   "execution_count": null,
   "id": "characteristic-manual",
   "metadata": {
    "scrolled": true
   },
   "outputs": [],
   "source": [
    "df.tail()"
   ]
  },
  {
   "cell_type": "markdown",
   "id": "dominant-belfast",
   "metadata": {},
   "source": [
    "# Export DataFrame to .CSV"
   ]
  },
  {
   "cell_type": "code",
   "execution_count": null,
   "id": "special-giant",
   "metadata": {},
   "outputs": [],
   "source": [
    "df.to_csv(path_or_buf= \"output/features.csv\",index=False)"
   ]
  }
 ],
 "metadata": {
  "kernelspec": {
   "display_name": "Python 3",
   "language": "python",
   "name": "python3"
  },
  "language_info": {
   "codemirror_mode": {
    "name": "ipython",
    "version": 3
   },
   "file_extension": ".py",
   "mimetype": "text/x-python",
   "name": "python",
   "nbconvert_exporter": "python",
   "pygments_lexer": "ipython3",
   "version": "3.8.5"
  },
  "toc": {
   "base_numbering": 1,
   "nav_menu": {},
   "number_sections": true,
   "sideBar": true,
   "skip_h1_title": false,
   "title_cell": "Table of Contents",
   "title_sidebar": "Contents",
   "toc_cell": true,
   "toc_position": {},
   "toc_section_display": true,
   "toc_window_display": false
  },
  "varInspector": {
   "cols": {
    "lenName": 16,
    "lenType": 16,
    "lenVar": 40
   },
   "kernels_config": {
    "python": {
     "delete_cmd_postfix": "",
     "delete_cmd_prefix": "del ",
     "library": "var_list.py",
     "varRefreshCmd": "print(var_dic_list())"
    },
    "r": {
     "delete_cmd_postfix": ") ",
     "delete_cmd_prefix": "rm(",
     "library": "var_list.r",
     "varRefreshCmd": "cat(var_dic_list()) "
    }
   },
   "types_to_exclude": [
    "module",
    "function",
    "builtin_function_or_method",
    "instance",
    "_Feature"
   ],
   "window_display": false
  }
 },
 "nbformat": 4,
 "nbformat_minor": 5
}
