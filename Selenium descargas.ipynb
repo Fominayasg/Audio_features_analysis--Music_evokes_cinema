{
 "cells": [
  {
   "cell_type": "markdown",
   "id": "incomplete-shaft",
   "metadata": {
    "toc": true
   },
   "source": [
    "<h1>Table of Contents<span class=\"tocSkip\"></span></h1>\n",
    "<div class=\"toc\"><ul class=\"toc-item\"></ul></div>"
   ]
  },
  {
   "cell_type": "code",
   "execution_count": 12,
   "id": "hazardous-norway",
   "metadata": {},
   "outputs": [],
   "source": [
    "from selenium import webdriver\n",
    "from time import sleep"
   ]
  },
  {
   "cell_type": "code",
   "execution_count": 4,
   "id": "thick-kitty",
   "metadata": {},
   "outputs": [
    {
     "name": "stdout",
     "output_type": "stream",
     "text": [
      "Collecting webdriver_manager\n",
      "  Downloading webdriver_manager-3.3.0-py2.py3-none-any.whl (16 kB)\n",
      "Requirement already satisfied: requests in /usr/local/Caskroom/miniconda/base/envs/ironhack/lib/python3.8/site-packages (from webdriver_manager) (2.25.1)\n",
      "Collecting configparser\n",
      "  Downloading configparser-5.0.2-py3-none-any.whl (19 kB)\n",
      "Collecting crayons\n",
      "  Downloading crayons-0.4.0-py2.py3-none-any.whl (4.6 kB)\n",
      "Collecting colorama\n",
      "  Downloading colorama-0.4.4-py2.py3-none-any.whl (16 kB)\n",
      "Requirement already satisfied: urllib3<1.27,>=1.21.1 in /usr/local/Caskroom/miniconda/base/envs/ironhack/lib/python3.8/site-packages (from requests->webdriver_manager) (1.26.3)\n",
      "Requirement already satisfied: certifi>=2017.4.17 in /usr/local/Caskroom/miniconda/base/envs/ironhack/lib/python3.8/site-packages (from requests->webdriver_manager) (2020.12.5)\n",
      "Requirement already satisfied: chardet<5,>=3.0.2 in /usr/local/Caskroom/miniconda/base/envs/ironhack/lib/python3.8/site-packages (from requests->webdriver_manager) (4.0.0)\n",
      "Collecting idna<3,>=2.5\n",
      "  Using cached idna-2.10-py2.py3-none-any.whl (58 kB)\n",
      "Installing collected packages: idna, colorama, crayons, configparser, webdriver-manager\n",
      "  Attempting uninstall: idna\n",
      "    Found existing installation: idna 3.1\n",
      "    Uninstalling idna-3.1:\n",
      "      Successfully uninstalled idna-3.1\n",
      "Successfully installed colorama-0.4.4 configparser-5.0.2 crayons-0.4.0 idna-2.10 webdriver-manager-3.3.0\n"
     ]
    }
   ],
   "source": [
    "!pip3 install webdriver_manager"
   ]
  },
  {
   "cell_type": "code",
   "execution_count": 57,
   "id": "parliamentary-telephone",
   "metadata": {
    "scrolled": false
   },
   "outputs": [
    {
     "name": "stderr",
     "output_type": "stream",
     "text": [
      "[WDM] - ====== WebDriver manager ======\n",
      "[WDM] - Current google-chrome version is 89.0.4389\n",
      "[WDM] - Get LATEST driver version for 89.0.4389\n",
      "[WDM] - Driver [/Users/sonia/.wdm/drivers/chromedriver/mac64/89.0.4389.23/chromedriver] found in cache\n"
     ]
    },
    {
     "name": "stdout",
     "output_type": "stream",
     "text": [
      "\n",
      "\n"
     ]
    }
   ],
   "source": [
    "#connect with chrome\n",
    "from webdriver_manager.chrome import ChromeDriverManager\n",
    "driver = webdriver.Chrome(ChromeDriverManager().install())"
   ]
  },
  {
   "cell_type": "code",
   "execution_count": 58,
   "id": "floppy-lindsay",
   "metadata": {},
   "outputs": [],
   "source": [
    "driver.get(\"https://www.epidemicsound.com/music/genres/supernatural/\")"
   ]
  },
  {
   "cell_type": "code",
   "execution_count": 59,
   "id": "soviet-devon",
   "metadata": {},
   "outputs": [],
   "source": [
    "sleep(1)\n",
    "driver.find_element_by_css_selector(\"#rootDiv > div > div.src-mainapp-___Root__messageContainer___3Fzxm > div > div > button\").click()"
   ]
  },
  {
   "cell_type": "code",
   "execution_count": 60,
   "id": "anticipated-indianapolis",
   "metadata": {},
   "outputs": [],
   "source": [
    "sleep(1)\n",
    "driver.find_element_by_css_selector(\"#mainContentContainer > div.src-mainapp-nav-___Nav__pushContent___YpEFE > div > div > div > div.src-mainapp-nav-___Nav__rightContainer___19GXY > div.src-mainapp-nav-___Nav__linkContainer___2N_Mp.css-1t54irb > div > button:nth-child(4)\").click()"
   ]
  },
  {
   "cell_type": "code",
   "execution_count": 61,
   "id": "hungarian-invitation",
   "metadata": {},
   "outputs": [],
   "source": [
    "sleep(1)\n",
    "search = driver.find_element_by_id(\"email-address1\")\n",
    "search.click()"
   ]
  },
  {
   "cell_type": "code",
   "execution_count": 62,
   "id": "professional-accommodation",
   "metadata": {},
   "outputs": [],
   "source": [
    "search.send_keys(\"fominayasg@gmail.com\")"
   ]
  }
 ],
 "metadata": {
  "kernelspec": {
   "display_name": "Python 3",
   "language": "python",
   "name": "python3"
  },
  "language_info": {
   "codemirror_mode": {
    "name": "ipython",
    "version": 3
   },
   "file_extension": ".py",
   "mimetype": "text/x-python",
   "name": "python",
   "nbconvert_exporter": "python",
   "pygments_lexer": "ipython3",
   "version": "3.8.5"
  },
  "toc": {
   "base_numbering": 1,
   "nav_menu": {},
   "number_sections": true,
   "sideBar": true,
   "skip_h1_title": false,
   "title_cell": "Table of Contents",
   "title_sidebar": "Contents",
   "toc_cell": true,
   "toc_position": {},
   "toc_section_display": true,
   "toc_window_display": false
  },
  "varInspector": {
   "cols": {
    "lenName": 16,
    "lenType": 16,
    "lenVar": 40
   },
   "kernels_config": {
    "python": {
     "delete_cmd_postfix": "",
     "delete_cmd_prefix": "del ",
     "library": "var_list.py",
     "varRefreshCmd": "print(var_dic_list())"
    },
    "r": {
     "delete_cmd_postfix": ") ",
     "delete_cmd_prefix": "rm(",
     "library": "var_list.r",
     "varRefreshCmd": "cat(var_dic_list()) "
    }
   },
   "types_to_exclude": [
    "module",
    "function",
    "builtin_function_or_method",
    "instance",
    "_Feature"
   ],
   "window_display": false
  }
 },
 "nbformat": 4,
 "nbformat_minor": 5
}
