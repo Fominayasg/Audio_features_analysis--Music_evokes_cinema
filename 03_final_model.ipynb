{
 "cells": [
  {
   "cell_type": "markdown",
   "id": "radio-indonesia",
   "metadata": {
    "toc": true
   },
   "source": [
    "<h1>Table of Contents<span class=\"tocSkip\"></span></h1>\n",
    "<div class=\"toc\"><ul class=\"toc-item\"><li><span><a href=\"#Imports\" data-toc-modified-id=\"Imports-1\"><span class=\"toc-item-num\">1&nbsp;&nbsp;</span>Imports</a></span></li><li><span><a href=\"#Load-audios-csv\" data-toc-modified-id=\"Load-audios-csv-2\"><span class=\"toc-item-num\">2&nbsp;&nbsp;</span>Load audios csv</a></span><ul class=\"toc-item\"><li><span><a href=\"#Encoding\" data-toc-modified-id=\"Encoding-2.1\"><span class=\"toc-item-num\">2.1&nbsp;&nbsp;</span>Encoding</a></span></li><li><span><a href=\"#Classification-with-KERAS\" data-toc-modified-id=\"Classification-with-KERAS-2.2\"><span class=\"toc-item-num\">2.2&nbsp;&nbsp;</span>Classification with KERAS</a></span></li></ul></li><li><span><a href=\"#Model-visualization\" data-toc-modified-id=\"Model-visualization-3\"><span class=\"toc-item-num\">3&nbsp;&nbsp;</span>Model visualization</a></span></li></ul></div>"
   ]
  },
  {
   "cell_type": "markdown",
   "id": "blond-london",
   "metadata": {},
   "source": [
    "# Imports"
   ]
  },
  {
   "cell_type": "code",
   "execution_count": 1,
   "id": "christian-leonard",
   "metadata": {},
   "outputs": [],
   "source": [
    "import pandas as pd\n",
    "from sklearn.preprocessing import LabelEncoder, StandardScaler"
   ]
  },
  {
   "cell_type": "code",
   "execution_count": 2,
   "id": "banner-theme",
   "metadata": {},
   "outputs": [],
   "source": [
    "from keras import models\n",
    "from keras import layers\n",
    "from keras.utils import np_utils"
   ]
  },
  {
   "cell_type": "code",
   "execution_count": 3,
   "id": "rental-subcommittee",
   "metadata": {},
   "outputs": [],
   "source": [
    "import matplotlib.pyplot as plt"
   ]
  },
  {
   "cell_type": "code",
   "execution_count": 4,
   "id": "quantitative-contract",
   "metadata": {},
   "outputs": [],
   "source": [
    "import numpy as np"
   ]
  },
  {
   "cell_type": "markdown",
   "id": "superb-adolescent",
   "metadata": {},
   "source": [
    "#  Load audios csv"
   ]
  },
  {
   "cell_type": "code",
   "execution_count": 5,
   "id": "executive-binding",
   "metadata": {},
   "outputs": [],
   "source": [
    "df = pd.read_pickle(\"output/newgenres_allfeatures_pickle.pkl\")"
   ]
  },
  {
   "cell_type": "code",
   "execution_count": 6,
   "id": "intense-particular",
   "metadata": {},
   "outputs": [
    {
     "data": {
      "text/html": [
       "<div>\n",
       "<style scoped>\n",
       "    .dataframe tbody tr th:only-of-type {\n",
       "        vertical-align: middle;\n",
       "    }\n",
       "\n",
       "    .dataframe tbody tr th {\n",
       "        vertical-align: top;\n",
       "    }\n",
       "\n",
       "    .dataframe thead th {\n",
       "        text-align: right;\n",
       "    }\n",
       "</style>\n",
       "<table border=\"1\" class=\"dataframe\">\n",
       "  <thead>\n",
       "    <tr style=\"text-align: right;\">\n",
       "      <th></th>\n",
       "      <th>beats</th>\n",
       "      <th>fft</th>\n",
       "      <th>label</th>\n",
       "      <th>onset_strength</th>\n",
       "      <th>plp</th>\n",
       "      <th>sample</th>\n",
       "      <th>spectral_band_width</th>\n",
       "      <th>spectral_centroid</th>\n",
       "      <th>spectral_rolloff</th>\n",
       "      <th>sr</th>\n",
       "      <th>zero_crossings</th>\n",
       "      <th>chroma_stft1</th>\n",
       "      <th>chroma_stft2</th>\n",
       "      <th>chroma_stft3</th>\n",
       "      <th>chroma_stft4</th>\n",
       "      <th>chroma_stft5</th>\n",
       "      <th>chroma_stft6</th>\n",
       "      <th>chroma_stft7</th>\n",
       "      <th>chroma_stft8</th>\n",
       "      <th>chroma_stft9</th>\n",
       "      <th>chroma_stft10</th>\n",
       "      <th>chroma_stft11</th>\n",
       "      <th>chroma_stft12</th>\n",
       "      <th>mfcc1</th>\n",
       "      <th>mfcc2</th>\n",
       "      <th>mfcc3</th>\n",
       "      <th>mfcc4</th>\n",
       "      <th>mfcc5</th>\n",
       "      <th>mfcc6</th>\n",
       "      <th>mfcc7</th>\n",
       "      <th>mfcc8</th>\n",
       "      <th>mfcc9</th>\n",
       "      <th>mfcc10</th>\n",
       "      <th>mfcc11</th>\n",
       "      <th>mfcc12</th>\n",
       "      <th>mfcc13</th>\n",
       "      <th>mfcc14</th>\n",
       "      <th>mfcc15</th>\n",
       "      <th>mfcc16</th>\n",
       "      <th>mfcc17</th>\n",
       "      <th>mfcc18</th>\n",
       "      <th>mfcc19</th>\n",
       "      <th>mfcc20</th>\n",
       "      <th>tc1</th>\n",
       "      <th>tc2</th>\n",
       "      <th>tc3</th>\n",
       "      <th>tc4</th>\n",
       "      <th>tc5</th>\n",
       "      <th>tc6</th>\n",
       "      <th>tc7</th>\n",
       "      <th>tc8</th>\n",
       "      <th>tc9</th>\n",
       "      <th>tc10</th>\n",
       "      <th>tc11</th>\n",
       "      <th>tc12</th>\n",
       "    </tr>\n",
       "  </thead>\n",
       "  <tbody>\n",
       "    <tr>\n",
       "      <th>0</th>\n",
       "      <td>160.995815</td>\n",
       "      <td>0.003161</td>\n",
       "      <td>Tragedy</td>\n",
       "      <td>0.770123</td>\n",
       "      <td>0.247723</td>\n",
       "      <td>[0.0031614932, 0.004773572, 0.0039517847, 0.00...</td>\n",
       "      <td>1095.42082</td>\n",
       "      <td>695.430647</td>\n",
       "      <td>1155.376347</td>\n",
       "      <td>22050.0</td>\n",
       "      <td>11599.0</td>\n",
       "      <td>0.625209</td>\n",
       "      <td>0.26436</td>\n",
       "      <td>0.145277</td>\n",
       "      <td>0.126021</td>\n",
       "      <td>0.134681</td>\n",
       "      <td>0.283547</td>\n",
       "      <td>0.267478</td>\n",
       "      <td>0.589635</td>\n",
       "      <td>0.284697</td>\n",
       "      <td>0.130169</td>\n",
       "      <td>0.123678</td>\n",
       "      <td>0.229146</td>\n",
       "      <td>-306.328094</td>\n",
       "      <td>153.603271</td>\n",
       "      <td>24.492928</td>\n",
       "      <td>28.64325</td>\n",
       "      <td>20.572241</td>\n",
       "      <td>3.647248</td>\n",
       "      <td>-1.352207</td>\n",
       "      <td>2.307954</td>\n",
       "      <td>-2.905295</td>\n",
       "      <td>-3.482113</td>\n",
       "      <td>-4.586892</td>\n",
       "      <td>-4.706417</td>\n",
       "      <td>-3.04557</td>\n",
       "      <td>-6.929031</td>\n",
       "      <td>-2.655667</td>\n",
       "      <td>-3.291554</td>\n",
       "      <td>-6.635974</td>\n",
       "      <td>-3.091608</td>\n",
       "      <td>-2.022602</td>\n",
       "      <td>3.165855</td>\n",
       "      <td>0.625209</td>\n",
       "      <td>0.26436</td>\n",
       "      <td>0.145277</td>\n",
       "      <td>0.126021</td>\n",
       "      <td>0.134681</td>\n",
       "      <td>0.283547</td>\n",
       "      <td>0.267478</td>\n",
       "      <td>0.589635</td>\n",
       "      <td>0.284697</td>\n",
       "      <td>0.130169</td>\n",
       "      <td>0.123678</td>\n",
       "      <td>0.229146</td>\n",
       "    </tr>\n",
       "  </tbody>\n",
       "</table>\n",
       "</div>"
      ],
      "text/plain": [
       "        beats       fft    label  onset_strength       plp  \\\n",
       "0  160.995815  0.003161  Tragedy        0.770123  0.247723   \n",
       "\n",
       "                                              sample  spectral_band_width  \\\n",
       "0  [0.0031614932, 0.004773572, 0.0039517847, 0.00...           1095.42082   \n",
       "\n",
       "   spectral_centroid  spectral_rolloff       sr  zero_crossings  chroma_stft1  \\\n",
       "0         695.430647       1155.376347  22050.0         11599.0      0.625209   \n",
       "\n",
       "   chroma_stft2  chroma_stft3  chroma_stft4  chroma_stft5  chroma_stft6  \\\n",
       "0       0.26436      0.145277      0.126021      0.134681      0.283547   \n",
       "\n",
       "   chroma_stft7  chroma_stft8  chroma_stft9  chroma_stft10  chroma_stft11  \\\n",
       "0      0.267478      0.589635      0.284697       0.130169       0.123678   \n",
       "\n",
       "   chroma_stft12       mfcc1       mfcc2      mfcc3     mfcc4      mfcc5  \\\n",
       "0       0.229146 -306.328094  153.603271  24.492928  28.64325  20.572241   \n",
       "\n",
       "      mfcc6     mfcc7     mfcc8     mfcc9    mfcc10    mfcc11    mfcc12  \\\n",
       "0  3.647248 -1.352207  2.307954 -2.905295 -3.482113 -4.586892 -4.706417   \n",
       "\n",
       "    mfcc13    mfcc14    mfcc15    mfcc16    mfcc17    mfcc18    mfcc19  \\\n",
       "0 -3.04557 -6.929031 -2.655667 -3.291554 -6.635974 -3.091608 -2.022602   \n",
       "\n",
       "     mfcc20       tc1      tc2       tc3       tc4       tc5       tc6  \\\n",
       "0  3.165855  0.625209  0.26436  0.145277  0.126021  0.134681  0.283547   \n",
       "\n",
       "        tc7       tc8       tc9      tc10      tc11      tc12  \n",
       "0  0.267478  0.589635  0.284697  0.130169  0.123678  0.229146  "
      ]
     },
     "execution_count": 6,
     "metadata": {},
     "output_type": "execute_result"
    }
   ],
   "source": [
    "pd.set_option(\"display.max_columns\",None)\n",
    "df.head(1)"
   ]
  },
  {
   "cell_type": "code",
   "execution_count": 7,
   "id": "operating-forum",
   "metadata": {},
   "outputs": [
    {
     "data": {
      "text/plain": [
       "(4272, 55)"
      ]
     },
     "execution_count": 7,
     "metadata": {},
     "output_type": "execute_result"
    }
   ],
   "source": [
    "df.shape"
   ]
  },
  {
   "cell_type": "code",
   "execution_count": 8,
   "id": "cleared-primary",
   "metadata": {},
   "outputs": [],
   "source": [
    "df = df.drop(['sample','sr'],axis=1)"
   ]
  },
  {
   "cell_type": "code",
   "execution_count": 9,
   "id": "crude-cathedral",
   "metadata": {},
   "outputs": [
    {
     "data": {
      "text/plain": [
       "Adventure    1151\n",
       "Happy         936\n",
       "Action        905\n",
       "Tragedy       789\n",
       "Horror        491\n",
       "Name: label, dtype: int64"
      ]
     },
     "execution_count": 9,
     "metadata": {},
     "output_type": "execute_result"
    }
   ],
   "source": [
    "df.label.value_counts()"
   ]
  },
  {
   "cell_type": "code",
   "execution_count": 10,
   "id": "remarkable-battlefield",
   "metadata": {},
   "outputs": [],
   "source": [
    "df = df[df.label.isin(['Adventure','Happy','Action','Tragedy','Horror'])]"
   ]
  },
  {
   "cell_type": "code",
   "execution_count": 11,
   "id": "protective-reunion",
   "metadata": {},
   "outputs": [
    {
     "data": {
      "text/plain": [
       "(4272, 53)"
      ]
     },
     "execution_count": 11,
     "metadata": {},
     "output_type": "execute_result"
    }
   ],
   "source": [
    "df.shape"
   ]
  },
  {
   "cell_type": "markdown",
   "id": "packed-colors",
   "metadata": {},
   "source": [
    "## Encoding"
   ]
  },
  {
   "cell_type": "code",
   "execution_count": 12,
   "id": "responsible-suspect",
   "metadata": {},
   "outputs": [
    {
     "data": {
      "text/plain": [
       "0       Tragedy\n",
       "1       Tragedy\n",
       "2       Tragedy\n",
       "3       Tragedy\n",
       "4       Tragedy\n",
       "         ...   \n",
       "4267     Action\n",
       "4268     Action\n",
       "4269     Action\n",
       "4270     Action\n",
       "4271     Action\n",
       "Name: label, Length: 4272, dtype: object"
      ]
     },
     "execution_count": 12,
     "metadata": {},
     "output_type": "execute_result"
    }
   ],
   "source": [
    "df.label"
   ]
  },
  {
   "cell_type": "code",
   "execution_count": 13,
   "id": "adopted-venice",
   "metadata": {},
   "outputs": [],
   "source": [
    "genre_list = df['label']\n",
    "encoder = LabelEncoder()\n",
    "y = encoder.fit_transform(genre_list)"
   ]
  },
  {
   "cell_type": "code",
   "execution_count": 14,
   "id": "removable-engagement",
   "metadata": {},
   "outputs": [
    {
     "data": {
      "text/plain": [
       "array([4, 4, 4, ..., 0, 0, 0])"
      ]
     },
     "execution_count": 14,
     "metadata": {},
     "output_type": "execute_result"
    }
   ],
   "source": [
    "y"
   ]
  },
  {
   "cell_type": "code",
   "execution_count": 15,
   "id": "affected-syndicate",
   "metadata": {},
   "outputs": [
    {
     "data": {
      "text/plain": [
       "array(['Action', 'Adventure', 'Happy', 'Horror', 'Tragedy'], dtype=object)"
      ]
     },
     "execution_count": 15,
     "metadata": {},
     "output_type": "execute_result"
    }
   ],
   "source": [
    "encoder.classes_"
   ]
  },
  {
   "cell_type": "code",
   "execution_count": 16,
   "id": "described-entity",
   "metadata": {},
   "outputs": [
    {
     "data": {
      "text/plain": [
       "4"
      ]
     },
     "execution_count": 16,
     "metadata": {},
     "output_type": "execute_result"
    }
   ],
   "source": [
    "y [0]"
   ]
  },
  {
   "cell_type": "code",
   "execution_count": 17,
   "id": "civil-hormone",
   "metadata": {},
   "outputs": [
    {
     "data": {
      "text/plain": [
       "'Action'"
      ]
     },
     "execution_count": 17,
     "metadata": {},
     "output_type": "execute_result"
    }
   ],
   "source": [
    "encoder.classes_[np.argmax(y[0])]"
   ]
  },
  {
   "cell_type": "code",
   "execution_count": 18,
   "id": "interior-break",
   "metadata": {},
   "outputs": [],
   "source": [
    "#representar array en grafico para ver cantidad de \"genero\""
   ]
  },
  {
   "cell_type": "code",
   "execution_count": 19,
   "id": "consecutive-canyon",
   "metadata": {},
   "outputs": [],
   "source": [
    "y= np_utils.to_categorical(y)"
   ]
  },
  {
   "cell_type": "code",
   "execution_count": 20,
   "id": "dental-magazine",
   "metadata": {},
   "outputs": [
    {
     "data": {
      "text/plain": [
       "(4272, 5)"
      ]
     },
     "execution_count": 20,
     "metadata": {},
     "output_type": "execute_result"
    }
   ],
   "source": [
    "y.shape"
   ]
  },
  {
   "cell_type": "code",
   "execution_count": 21,
   "id": "afraid-joseph",
   "metadata": {},
   "outputs": [
    {
     "data": {
      "text/html": [
       "<div>\n",
       "<style scoped>\n",
       "    .dataframe tbody tr th:only-of-type {\n",
       "        vertical-align: middle;\n",
       "    }\n",
       "\n",
       "    .dataframe tbody tr th {\n",
       "        vertical-align: top;\n",
       "    }\n",
       "\n",
       "    .dataframe thead th {\n",
       "        text-align: right;\n",
       "    }\n",
       "</style>\n",
       "<table border=\"1\" class=\"dataframe\">\n",
       "  <thead>\n",
       "    <tr style=\"text-align: right;\">\n",
       "      <th></th>\n",
       "      <th>zero_crossings</th>\n",
       "      <th>chroma_stft1</th>\n",
       "      <th>chroma_stft2</th>\n",
       "      <th>chroma_stft3</th>\n",
       "      <th>chroma_stft4</th>\n",
       "      <th>chroma_stft5</th>\n",
       "      <th>chroma_stft6</th>\n",
       "      <th>chroma_stft7</th>\n",
       "      <th>chroma_stft8</th>\n",
       "      <th>chroma_stft9</th>\n",
       "      <th>chroma_stft10</th>\n",
       "      <th>chroma_stft11</th>\n",
       "      <th>chroma_stft12</th>\n",
       "      <th>mfcc1</th>\n",
       "      <th>mfcc2</th>\n",
       "      <th>mfcc3</th>\n",
       "      <th>mfcc4</th>\n",
       "      <th>mfcc5</th>\n",
       "      <th>mfcc6</th>\n",
       "      <th>mfcc7</th>\n",
       "      <th>mfcc8</th>\n",
       "      <th>mfcc9</th>\n",
       "      <th>mfcc10</th>\n",
       "      <th>mfcc11</th>\n",
       "      <th>mfcc12</th>\n",
       "      <th>mfcc13</th>\n",
       "      <th>mfcc14</th>\n",
       "      <th>mfcc15</th>\n",
       "      <th>mfcc16</th>\n",
       "      <th>mfcc17</th>\n",
       "      <th>mfcc18</th>\n",
       "      <th>mfcc19</th>\n",
       "      <th>mfcc20</th>\n",
       "    </tr>\n",
       "  </thead>\n",
       "  <tbody>\n",
       "    <tr>\n",
       "      <th>0</th>\n",
       "      <td>11599.0</td>\n",
       "      <td>0.625209</td>\n",
       "      <td>0.26436</td>\n",
       "      <td>0.145277</td>\n",
       "      <td>0.126021</td>\n",
       "      <td>0.134681</td>\n",
       "      <td>0.283547</td>\n",
       "      <td>0.267478</td>\n",
       "      <td>0.589635</td>\n",
       "      <td>0.284697</td>\n",
       "      <td>0.130169</td>\n",
       "      <td>0.123678</td>\n",
       "      <td>0.229146</td>\n",
       "      <td>-306.328094</td>\n",
       "      <td>153.603271</td>\n",
       "      <td>24.492928</td>\n",
       "      <td>28.64325</td>\n",
       "      <td>20.572241</td>\n",
       "      <td>3.647248</td>\n",
       "      <td>-1.352207</td>\n",
       "      <td>2.307954</td>\n",
       "      <td>-2.905295</td>\n",
       "      <td>-3.482113</td>\n",
       "      <td>-4.586892</td>\n",
       "      <td>-4.706417</td>\n",
       "      <td>-3.04557</td>\n",
       "      <td>-6.929031</td>\n",
       "      <td>-2.655667</td>\n",
       "      <td>-3.291554</td>\n",
       "      <td>-6.635974</td>\n",
       "      <td>-3.091608</td>\n",
       "      <td>-2.022602</td>\n",
       "      <td>3.165855</td>\n",
       "    </tr>\n",
       "  </tbody>\n",
       "</table>\n",
       "</div>"
      ],
      "text/plain": [
       "   zero_crossings  chroma_stft1  chroma_stft2  chroma_stft3  chroma_stft4  \\\n",
       "0         11599.0      0.625209       0.26436      0.145277      0.126021   \n",
       "\n",
       "   chroma_stft5  chroma_stft6  chroma_stft7  chroma_stft8  chroma_stft9  \\\n",
       "0      0.134681      0.283547      0.267478      0.589635      0.284697   \n",
       "\n",
       "   chroma_stft10  chroma_stft11  chroma_stft12       mfcc1       mfcc2  \\\n",
       "0       0.130169       0.123678       0.229146 -306.328094  153.603271   \n",
       "\n",
       "       mfcc3     mfcc4      mfcc5     mfcc6     mfcc7     mfcc8     mfcc9  \\\n",
       "0  24.492928  28.64325  20.572241  3.647248 -1.352207  2.307954 -2.905295   \n",
       "\n",
       "     mfcc10    mfcc11    mfcc12   mfcc13    mfcc14    mfcc15    mfcc16  \\\n",
       "0 -3.482113 -4.586892 -4.706417 -3.04557 -6.929031 -2.655667 -3.291554   \n",
       "\n",
       "     mfcc17    mfcc18    mfcc19    mfcc20  \n",
       "0 -6.635974 -3.091608 -2.022602  3.165855  "
      ]
     },
     "execution_count": 21,
     "metadata": {},
     "output_type": "execute_result"
    }
   ],
   "source": [
    "#Select features: Chroma + MFCC + Zero Crossings\n",
    "X = df.drop(['label'],axis=1).iloc[:,7:40]\n",
    "X.head(1)"
   ]
  },
  {
   "cell_type": "code",
   "execution_count": 22,
   "id": "worst-worship",
   "metadata": {},
   "outputs": [],
   "source": [
    "# Scale variables\n",
    "scaler = StandardScaler()\n",
    "X = scaler.fit_transform(X)"
   ]
  },
  {
   "cell_type": "code",
   "execution_count": 23,
   "id": "flying-assurance",
   "metadata": {},
   "outputs": [
    {
     "data": {
      "text/plain": [
       "(4272, 33)"
      ]
     },
     "execution_count": 23,
     "metadata": {},
     "output_type": "execute_result"
    }
   ],
   "source": [
    "X.shape"
   ]
  },
  {
   "cell_type": "markdown",
   "id": "unable-evaluation",
   "metadata": {},
   "source": [
    "## Classification with KERAS"
   ]
  },
  {
   "cell_type": "code",
   "execution_count": 24,
   "id": "arbitrary-destruction",
   "metadata": {},
   "outputs": [
    {
     "data": {
      "text/plain": [
       "(4272, 5)"
      ]
     },
     "execution_count": 24,
     "metadata": {},
     "output_type": "execute_result"
    }
   ],
   "source": [
    "y.shape"
   ]
  },
  {
   "cell_type": "code",
   "execution_count": 25,
   "id": "preliminary-cigarette",
   "metadata": {},
   "outputs": [],
   "source": [
    "# Neural network\n",
    "\n",
    "network = models.Sequential()\n",
    "network.add(layers.Dense(256, activation='relu', input_shape=(X.shape[1],)))\n",
    "network.add(layers.Dropout(0.3))\n",
    "\n",
    "network.add(layers.Dense(512, activation='relu'))\n",
    "network.add(layers.Dropout(0.3))\n",
    "\n",
    "network.add(layers.Dense(256, activation='relu'))\n",
    "network.add(layers.Dropout(0.3))\n",
    "\n",
    "network.add(layers.Dense(128, activation='relu'))\n",
    "network.add(layers.Dropout(0.3))\n",
    "\n",
    "network.add(layers.Dense(64, activation='relu'))\n",
    "network.add(layers.Dropout(0.3))\n",
    "\n",
    "network.add(layers.Dense(y.shape[-1], activation='softmax'))"
   ]
  },
  {
   "cell_type": "code",
   "execution_count": 26,
   "id": "helpful-lover",
   "metadata": {
    "scrolled": true
   },
   "outputs": [],
   "source": [
    "#network.summary()"
   ]
  },
  {
   "cell_type": "code",
   "execution_count": 27,
   "id": "suspended-rabbit",
   "metadata": {},
   "outputs": [],
   "source": [
    "from keras.optimizers import Adam\n",
    "optimizer = Adam(lr = 0.001)"
   ]
  },
  {
   "cell_type": "code",
   "execution_count": 28,
   "id": "informed-granny",
   "metadata": {},
   "outputs": [],
   "source": [
    "network.compile(optimizer= optimizer,\n",
    "              loss='categorical_crossentropy',\n",
    "                \n",
    "               metrics=['accuracy'])"
   ]
  },
  {
   "cell_type": "code",
   "execution_count": 29,
   "id": "partial-niagara",
   "metadata": {},
   "outputs": [
    {
     "name": "stdout",
     "output_type": "stream",
     "text": [
      "Epoch 1/40\n",
      "34/34 [==============================] - 1s 4ms/step - loss: 1.5107 - accuracy: 0.3374\n",
      "Epoch 2/40\n",
      "34/34 [==============================] - 0s 8ms/step - loss: 1.3448 - accuracy: 0.4561\n",
      "Epoch 3/40\n",
      "34/34 [==============================] - 0s 7ms/step - loss: 1.2755 - accuracy: 0.4920\n",
      "Epoch 4/40\n",
      "34/34 [==============================] - 0s 6ms/step - loss: 1.1905 - accuracy: 0.5282\n",
      "Epoch 5/40\n",
      "34/34 [==============================] - 0s 5ms/step - loss: 1.1414 - accuracy: 0.5552\n",
      "Epoch 6/40\n",
      "34/34 [==============================] - 0s 6ms/step - loss: 1.0863 - accuracy: 0.5683\n",
      "Epoch 7/40\n",
      "34/34 [==============================] - 0s 6ms/step - loss: 1.0317 - accuracy: 0.5933\n",
      "Epoch 8/40\n",
      "34/34 [==============================] - 0s 5ms/step - loss: 0.9854 - accuracy: 0.6111\n",
      "Epoch 9/40\n",
      "34/34 [==============================] - 0s 6ms/step - loss: 0.9215 - accuracy: 0.6408\n",
      "Epoch 10/40\n",
      "34/34 [==============================] - 0s 6ms/step - loss: 0.8713 - accuracy: 0.6671\n",
      "Epoch 11/40\n",
      "34/34 [==============================] - 0s 6ms/step - loss: 0.8130 - accuracy: 0.6906\n",
      "Epoch 12/40\n",
      "34/34 [==============================] - 0s 6ms/step - loss: 0.7833 - accuracy: 0.6965\n",
      "Epoch 13/40\n",
      "34/34 [==============================] - 0s 6ms/step - loss: 0.7771 - accuracy: 0.7074\n",
      "Epoch 14/40\n",
      "34/34 [==============================] - 0s 5ms/step - loss: 0.7240 - accuracy: 0.7346\n",
      "Epoch 15/40\n",
      "34/34 [==============================] - 0s 5ms/step - loss: 0.6989 - accuracy: 0.7339\n",
      "Epoch 16/40\n",
      "34/34 [==============================] - 0s 5ms/step - loss: 0.6495 - accuracy: 0.7624\n",
      "Epoch 17/40\n",
      "34/34 [==============================] - 0s 5ms/step - loss: 0.6167 - accuracy: 0.7757\n",
      "Epoch 18/40\n",
      "34/34 [==============================] - 0s 5ms/step - loss: 0.5687 - accuracy: 0.7923\n",
      "Epoch 19/40\n",
      "34/34 [==============================] - 0s 5ms/step - loss: 0.5589 - accuracy: 0.8005\n",
      "Epoch 20/40\n",
      "34/34 [==============================] - 0s 5ms/step - loss: 0.5203 - accuracy: 0.8191\n",
      "Epoch 21/40\n",
      "34/34 [==============================] - 0s 5ms/step - loss: 0.5425 - accuracy: 0.8027\n",
      "Epoch 22/40\n",
      "34/34 [==============================] - 0s 5ms/step - loss: 0.4971 - accuracy: 0.8229\n",
      "Epoch 23/40\n",
      "34/34 [==============================] - 0s 5ms/step - loss: 0.4583 - accuracy: 0.8296\n",
      "Epoch 24/40\n",
      "34/34 [==============================] - 0s 5ms/step - loss: 0.4399 - accuracy: 0.8418\n",
      "Epoch 25/40\n",
      "34/34 [==============================] - 0s 5ms/step - loss: 0.4488 - accuracy: 0.8367\n",
      "Epoch 26/40\n",
      "34/34 [==============================] - 0s 5ms/step - loss: 0.4225 - accuracy: 0.8471\n",
      "Epoch 27/40\n",
      "34/34 [==============================] - 0s 5ms/step - loss: 0.4440 - accuracy: 0.8383\n",
      "Epoch 28/40\n",
      "34/34 [==============================] - 0s 5ms/step - loss: 0.3619 - accuracy: 0.8770\n",
      "Epoch 29/40\n",
      "34/34 [==============================] - 0s 5ms/step - loss: 0.3811 - accuracy: 0.8681\n",
      "Epoch 30/40\n",
      "34/34 [==============================] - 0s 5ms/step - loss: 0.3508 - accuracy: 0.8757\n",
      "Epoch 31/40\n",
      "34/34 [==============================] - 0s 5ms/step - loss: 0.3472 - accuracy: 0.8861\n",
      "Epoch 32/40\n",
      "34/34 [==============================] - 0s 5ms/step - loss: 0.3503 - accuracy: 0.8713\n",
      "Epoch 33/40\n",
      "34/34 [==============================] - 0s 6ms/step - loss: 0.3420 - accuracy: 0.8773\n",
      "Epoch 34/40\n",
      "34/34 [==============================] - 0s 5ms/step - loss: 0.3316 - accuracy: 0.8885\n",
      "Epoch 35/40\n",
      "34/34 [==============================] - 0s 5ms/step - loss: 0.3100 - accuracy: 0.8907\n",
      "Epoch 36/40\n",
      "34/34 [==============================] - 0s 5ms/step - loss: 0.3117 - accuracy: 0.8940\n",
      "Epoch 37/40\n",
      "34/34 [==============================] - 0s 5ms/step - loss: 0.2775 - accuracy: 0.9045\n",
      "Epoch 38/40\n",
      "34/34 [==============================] - 0s 5ms/step - loss: 0.2707 - accuracy: 0.9035\n",
      "Epoch 39/40\n",
      "34/34 [==============================] - 0s 5ms/step - loss: 0.2767 - accuracy: 0.9002\n",
      "Epoch 40/40\n",
      "34/34 [==============================] - 0s 5ms/step - loss: 0.2506 - accuracy: 0.9093\n"
     ]
    }
   ],
   "source": [
    "history = network.fit(X,\n",
    "                    y,\n",
    "                    epochs=40,\n",
    "                    batch_size=128)\n"
   ]
  },
  {
   "cell_type": "code",
   "execution_count": 30,
   "id": "expanded-ridge",
   "metadata": {},
   "outputs": [],
   "source": [
    "#test_loss, test_acc = network.evaluate(X_test,y_test)"
   ]
  },
  {
   "cell_type": "markdown",
   "id": "graphic-stylus",
   "metadata": {},
   "source": [
    "# Model visualization"
   ]
  },
  {
   "cell_type": "code",
   "execution_count": 32,
   "id": "retained-numbers",
   "metadata": {
    "scrolled": true
   },
   "outputs": [
    {
     "data": {
      "image/png": "[encoded data removed]",
      "text/plain": [
       "<Figure size 432x288 with 1 Axes>"
      ]
     },
     "metadata": {
      "needs_background": "light"
     },
     "output_type": "display_data"
    },
    {
     "data": {
      "image/png": "[encoded data removed]",
      "text/plain": [
       "<Figure size 432x288 with 1 Axes>"
      ]
     },
     "metadata": {
      "needs_background": "light"
     },
     "output_type": "display_data"
    }
   ],
   "source": [
    "\n",
    "# summarize history for accuracy\n",
    "plt.plot(history.history['accuracy'])\n",
    "#plt.plot(history.history['val_accuracy'])\n",
    "plt.title('model accuracy')\n",
    "plt.ylabel('accuracy')\n",
    "plt.xlabel('epoch')\n",
    "#plt.legend(['train', 'test'], loc='upper left')\n",
    "plt.show()\n",
    "\n",
    "# summarize history for loss\n",
    "plt.plot(history.history['loss'])\n",
    "#plt.plot(history.history['val_loss'])\n",
    "plt.title('model loss')\n",
    "plt.ylabel('loss')\n",
    "plt.xlabel('epoch')\n",
    "#plt.legend(['train', 'test'], loc='upper left')\n",
    "plt.show()"
   ]
  },
  {
   "cell_type": "code",
   "execution_count": 33,
   "id": "corporate-president",
   "metadata": {},
   "outputs": [],
   "source": [
    "network.save('Output/final_ost_model.h5')"
   ]
  }
 ],
 "metadata": {
  "kernelspec": {
   "display_name": "Python 3",
   "language": "python",
   "name": "python3"
  },
  "language_info": {
   "codemirror_mode": {
    "name": "ipython",
    "version": 3
   },
   "file_extension": ".py",
   "mimetype": "text/x-python",
   "name": "python",
   "nbconvert_exporter": "python",
   "pygments_lexer": "ipython3",
   "version": "3.8.5"
  },
  "toc": {
   "base_numbering": 1,
   "nav_menu": {},
   "number_sections": true,
   "sideBar": true,
   "skip_h1_title": false,
   "title_cell": "Table of Contents",
   "title_sidebar": "Contents",
   "toc_cell": true,
   "toc_position": {},
   "toc_section_display": true,
   "toc_window_display": false
  },
  "varInspector": {
   "cols": {
    "lenName": 16,
    "lenType": 16,
    "lenVar": 40
   },
   "kernels_config": {
    "python": {
     "delete_cmd_postfix": "",
     "delete_cmd_prefix": "del ",
     "library": "var_list.py",
     "varRefreshCmd": "print(var_dic_list())"
    },
    "r": {
     "delete_cmd_postfix": ") ",
     "delete_cmd_prefix": "rm(",
     "library": "var_list.r",
     "varRefreshCmd": "cat(var_dic_list()) "
    }
   },
   "types_to_exclude": [
    "module",
    "function",
    "builtin_function_or_method",
    "instance",
    "_Feature"
   ],
   "window_display": false
  }
 },
 "nbformat": 4,
 "nbformat_minor": 5
}
