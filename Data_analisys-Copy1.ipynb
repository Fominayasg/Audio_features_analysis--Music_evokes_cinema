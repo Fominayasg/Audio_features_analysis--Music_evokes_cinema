{
 "cells": [
  {
   "cell_type": "markdown",
   "id": "productive-healing",
   "metadata": {
    "toc": true
   },
   "source": [
    "<h1>Table of Contents<span class=\"tocSkip\"></span></h1>\n",
    "<div class=\"toc\"><ul class=\"toc-item\"><li><span><a href=\"#Libraries\" data-toc-modified-id=\"Libraries-1\"><span class=\"toc-item-num\">1&nbsp;&nbsp;</span>Libraries</a></span></li><li><span><a href=\"#Get-files\" data-toc-modified-id=\"Get-files-2\"><span class=\"toc-item-num\">2&nbsp;&nbsp;</span>Get files</a></span></li><li><span><a href=\"#Extracting-features\" data-toc-modified-id=\"Extracting-features-3\"><span class=\"toc-item-num\">3&nbsp;&nbsp;</span>Extracting features</a></span></li><li><span><a href=\"#Export-DataFrame-to-.CSV\" data-toc-modified-id=\"Export-DataFrame-to-.CSV-4\"><span class=\"toc-item-num\">4&nbsp;&nbsp;</span>Export DataFrame to .CSV</a></span></li></ul></div>"
   ]
  },
  {
   "cell_type": "markdown",
   "id": "heavy-discharge",
   "metadata": {},
   "source": [
    "# Libraries"
   ]
  },
  {
   "cell_type": "code",
   "execution_count": 1,
   "id": "infectious-gambling",
   "metadata": {},
   "outputs": [],
   "source": [
    "import librosa\n",
    "import numpy as np\n",
    "import matplotlib.pyplot as plt\n",
    "import pandas as pd\n",
    "import os\n",
    "# For audio playing\n",
    "import IPython.display as ipd\n",
    "# For visualizations\n",
    "import librosa.display\n",
    "from math import ceil"
   ]
  },
  {
   "cell_type": "markdown",
   "id": "gorgeous-nightmare",
   "metadata": {},
   "source": [
    "# Get files "
   ]
  },
  {
   "cell_type": "markdown",
   "id": "polar-selection",
   "metadata": {},
   "source": [
    "**To maximize the results obtained from the data and ensure that all samples have the same duration we will use the following function.**\n",
    "\n",
    "1. Navigate through directories to get files.</li>\n",
    "2. For each file we get several fragments that overlap the previous and following fragment.</li>\n"
   ]
  },
  {
   "cell_type": "code",
   "execution_count": 64,
   "id": "needed-father",
   "metadata": {},
   "outputs": [],
   "source": [
    "directory = \"data\"\n",
    "def gen_audio(window,overlap=0,path=directory):\n",
    "    for genre in os.listdir(path):\n",
    "        if os.path.isdir(f\"{path}/{genre}\"):\n",
    "            folder=f\"{path}/{genre}\"\n",
    "            for song in os.listdir(folder):\n",
    "                song_path = f\"{folder}/{song}\"\n",
    "                if song == \".DS_Store\":\n",
    "                    continue\n",
    "                y, sr = librosa.load(song_path)\n",
    "                duration = True\n",
    "                i=0\n",
    "                while duration:\n",
    "                    #print(song_path)\n",
    "                    song_points = len(y)\n",
    "                    window_points = window*sr\n",
    "                    start = int(i*window_points - overlap*window_points)\n",
    "                    if start<0:\n",
    "                        start=0\n",
    "                    end = start + window_points\n",
    "                    #print(start,end)\n",
    "                    sample=y[start:end]\n",
    "                    if end >= song_points:\n",
    "                        #print(\"-\")\n",
    "                        sample = y[-window_points:]\n",
    "                        duration = False\n",
    "                    i += 1\n",
    "                    yield genre,sample,sr"
   ]
  },
  {
   "cell_type": "code",
   "execution_count": 65,
   "id": "egyptian-facial",
   "metadata": {},
   "outputs": [],
   "source": [
    "audio_generator = gen_audio(60,0.30)"
   ]
  },
  {
   "cell_type": "code",
   "execution_count": 66,
   "id": "appreciated-digit",
   "metadata": {},
   "outputs": [],
   "source": [
    "df = pd.DataFrame()"
   ]
  },
  {
   "cell_type": "markdown",
   "id": "requested-presentation",
   "metadata": {},
   "source": [
    "# Extracting features"
   ]
  },
  {
   "cell_type": "markdown",
   "id": "spatial-michael",
   "metadata": {},
   "source": [
    "**The features that are going to be used are:**\n",
    "- Zero crossings\n",
    "- Spectral centroid\n",
    "- Spectral band_width\n",
    "- Spectral rolloff\n",
    "- Chroma stft\n",
    "- Mel Frequency Cepstral Coeﬃcients (mfcc)"
   ]
  },
  {
   "cell_type": "code",
   "execution_count": 67,
   "id": "shaped-storm",
   "metadata": {},
   "outputs": [
    {
     "name": "stdout",
     "output_type": "stream",
     "text": [
      "CPU times: user 48min 28s, sys: 5min 15s, total: 53min 44s\n",
      "Wall time: 1h 36min 44s\n"
     ]
    }
   ],
   "source": [
    "%%time\n",
    "for label, sample, sr in audio_generator:\n",
    "    y = sample\n",
    "    zero_crossing = librosa.zero_crossings(y=y, pad=False)\n",
    "    spectral_centroid = librosa.feature.spectral_centroid(y=y, sr=sr)\n",
    "    spectral_band_width = librosa.feature.spectral_bandwidth(y=y, sr=sr)\n",
    "    spectral_rolloff = librosa.feature.spectral_rolloff(y=y, sr=sr)\n",
    "    chroma_stft = librosa.feature.chroma_stft(y=y, sr=sr)\n",
    "    mfcc = librosa.feature.mfcc(y=y, sr=sr)\n",
    "    df = df.append({\n",
    "        \"label\":label,\n",
    "        \"sample\":sample,\n",
    "        \"sr\":sr,\n",
    "        \"zero_crossings\": sum(zero_crossing),\n",
    "        \"spectral_centroid\": np.mean(spectral_centroid),\n",
    "        \"spectral_band_width\": np.mean(spectral_band_width),\n",
    "        \"spectral_rolloff\" : np.mean(spectral_rolloff),\n",
    "        \"chroma_stft\": [np.mean(c) for c in chroma_stft],\n",
    "        \"mfcc\": [np.mean(e) for e in mfcc]\n",
    "        \n",
    "    }, ignore_index=True)"
   ]
  },
  {
   "cell_type": "code",
   "execution_count": 68,
   "id": "residential-munich",
   "metadata": {
    "scrolled": false
   },
   "outputs": [
    {
     "data": {
      "text/html": [
       "<div>\n",
       "<style scoped>\n",
       "    .dataframe tbody tr th:only-of-type {\n",
       "        vertical-align: middle;\n",
       "    }\n",
       "\n",
       "    .dataframe tbody tr th {\n",
       "        vertical-align: top;\n",
       "    }\n",
       "\n",
       "    .dataframe thead th {\n",
       "        text-align: right;\n",
       "    }\n",
       "</style>\n",
       "<table border=\"1\" class=\"dataframe\">\n",
       "  <thead>\n",
       "    <tr style=\"text-align: right;\">\n",
       "      <th></th>\n",
       "      <th>chroma_stft</th>\n",
       "      <th>label</th>\n",
       "      <th>mfcc</th>\n",
       "      <th>sample</th>\n",
       "      <th>spectral_band_width</th>\n",
       "      <th>spectral_centroid</th>\n",
       "      <th>spectral_rolloff</th>\n",
       "      <th>sr</th>\n",
       "      <th>zero_crossings</th>\n",
       "    </tr>\n",
       "  </thead>\n",
       "  <tbody>\n",
       "    <tr>\n",
       "      <th>0</th>\n",
       "      <td>[0.407141, 0.46533188, 0.3771676, 0.45020363, ...</td>\n",
       "      <td>Supernatural</td>\n",
       "      <td>[-183.96336, 165.23877, 8.946929, 23.97522, 1....</td>\n",
       "      <td>[3.5482785e-08, 1.0161084e-08, -9.557592e-09, ...</td>\n",
       "      <td>1472.704499</td>\n",
       "      <td>1061.162991</td>\n",
       "      <td>2069.254154</td>\n",
       "      <td>22050.0</td>\n",
       "      <td>60689.0</td>\n",
       "    </tr>\n",
       "  </tbody>\n",
       "</table>\n",
       "</div>"
      ],
      "text/plain": [
       "                                         chroma_stft         label  \\\n",
       "0  [0.407141, 0.46533188, 0.3771676, 0.45020363, ...  Supernatural   \n",
       "\n",
       "                                                mfcc  \\\n",
       "0  [-183.96336, 165.23877, 8.946929, 23.97522, 1....   \n",
       "\n",
       "                                              sample  spectral_band_width  \\\n",
       "0  [3.5482785e-08, 1.0161084e-08, -9.557592e-09, ...          1472.704499   \n",
       "\n",
       "   spectral_centroid  spectral_rolloff       sr  zero_crossings  \n",
       "0        1061.162991       2069.254154  22050.0         60689.0  "
      ]
     },
     "execution_count": 68,
     "metadata": {},
     "output_type": "execute_result"
    }
   ],
   "source": [
    "df.head(1)"
   ]
  },
  {
   "cell_type": "code",
   "execution_count": 69,
   "id": "referenced-brave",
   "metadata": {},
   "outputs": [],
   "source": [
    "df[['chroma_stft1','chroma_stft2','chroma_stft3','chroma_stft4','chroma_stft5','chroma_stft6','chroma_stft7','chroma_stft8','chroma_stft9','chroma_stft10','chroma_stft11','chroma_stft12']] = pd.DataFrame(df.chroma_stft.tolist(), index= df.index)\n",
    "df = df.drop(['chroma_stft'], axis=1)"
   ]
  },
  {
   "cell_type": "code",
   "execution_count": 70,
   "id": "banned-error",
   "metadata": {},
   "outputs": [],
   "source": [
    "df[['mfcc1','mfcc2','mfcc3','mfcc4','mfcc5','mfcc6','mfcc7','mfcc8','mfcc9','mfcc10','mfcc11','mfcc12','mfcc13','mfcc14','mfcc15','mfcc16','mfcc17','mfcc18','mfcc19','mfcc20']] = pd.DataFrame(df.mfcc.tolist(), index= df.index)\n",
    "df = df.drop(['mfcc'], axis=1)"
   ]
  },
  {
   "cell_type": "code",
   "execution_count": 71,
   "id": "entitled-candy",
   "metadata": {
    "scrolled": true
   },
   "outputs": [
    {
     "data": {
      "text/html": [
       "<div>\n",
       "<style scoped>\n",
       "    .dataframe tbody tr th:only-of-type {\n",
       "        vertical-align: middle;\n",
       "    }\n",
       "\n",
       "    .dataframe tbody tr th {\n",
       "        vertical-align: top;\n",
       "    }\n",
       "\n",
       "    .dataframe thead th {\n",
       "        text-align: right;\n",
       "    }\n",
       "</style>\n",
       "<table border=\"1\" class=\"dataframe\">\n",
       "  <thead>\n",
       "    <tr style=\"text-align: right;\">\n",
       "      <th></th>\n",
       "      <th>label</th>\n",
       "      <th>sample</th>\n",
       "      <th>spectral_band_width</th>\n",
       "      <th>spectral_centroid</th>\n",
       "      <th>spectral_rolloff</th>\n",
       "      <th>sr</th>\n",
       "      <th>zero_crossings</th>\n",
       "      <th>chroma_stft1</th>\n",
       "      <th>chroma_stft2</th>\n",
       "      <th>chroma_stft3</th>\n",
       "      <th>...</th>\n",
       "      <th>mfcc11</th>\n",
       "      <th>mfcc12</th>\n",
       "      <th>mfcc13</th>\n",
       "      <th>mfcc14</th>\n",
       "      <th>mfcc15</th>\n",
       "      <th>mfcc16</th>\n",
       "      <th>mfcc17</th>\n",
       "      <th>mfcc18</th>\n",
       "      <th>mfcc19</th>\n",
       "      <th>mfcc20</th>\n",
       "    </tr>\n",
       "  </thead>\n",
       "  <tbody>\n",
       "    <tr>\n",
       "      <th>0</th>\n",
       "      <td>Supernatural</td>\n",
       "      <td>[3.5482785e-08, 1.0161084e-08, -9.557592e-09, ...</td>\n",
       "      <td>1472.704499</td>\n",
       "      <td>1061.162991</td>\n",
       "      <td>2069.254154</td>\n",
       "      <td>22050.0</td>\n",
       "      <td>60689.0</td>\n",
       "      <td>0.407141</td>\n",
       "      <td>0.465332</td>\n",
       "      <td>0.377168</td>\n",
       "      <td>...</td>\n",
       "      <td>5.959533</td>\n",
       "      <td>0.46896</td>\n",
       "      <td>-0.010982</td>\n",
       "      <td>2.131289</td>\n",
       "      <td>0.01979</td>\n",
       "      <td>-2.533675</td>\n",
       "      <td>-4.513143</td>\n",
       "      <td>-0.910481</td>\n",
       "      <td>-5.09341</td>\n",
       "      <td>-3.961309</td>\n",
       "    </tr>\n",
       "  </tbody>\n",
       "</table>\n",
       "<p>1 rows × 39 columns</p>\n",
       "</div>"
      ],
      "text/plain": [
       "          label                                             sample  \\\n",
       "0  Supernatural  [3.5482785e-08, 1.0161084e-08, -9.557592e-09, ...   \n",
       "\n",
       "   spectral_band_width  spectral_centroid  spectral_rolloff       sr  \\\n",
       "0          1472.704499        1061.162991       2069.254154  22050.0   \n",
       "\n",
       "   zero_crossings  chroma_stft1  chroma_stft2  chroma_stft3  ...    mfcc11  \\\n",
       "0         60689.0      0.407141      0.465332      0.377168  ...  5.959533   \n",
       "\n",
       "    mfcc12    mfcc13    mfcc14   mfcc15    mfcc16    mfcc17    mfcc18  \\\n",
       "0  0.46896 -0.010982  2.131289  0.01979 -2.533675 -4.513143 -0.910481   \n",
       "\n",
       "    mfcc19    mfcc20  \n",
       "0 -5.09341 -3.961309  \n",
       "\n",
       "[1 rows x 39 columns]"
      ]
     },
     "execution_count": 71,
     "metadata": {},
     "output_type": "execute_result"
    }
   ],
   "source": [
    "df.head(1)"
   ]
  },
  {
   "cell_type": "code",
   "execution_count": 72,
   "id": "forty-apache",
   "metadata": {},
   "outputs": [
    {
     "data": {
      "text/plain": [
       "(553, 39)"
      ]
     },
     "execution_count": 72,
     "metadata": {},
     "output_type": "execute_result"
    }
   ],
   "source": [
    "df.shape"
   ]
  },
  {
   "cell_type": "markdown",
   "id": "functioning-pocket",
   "metadata": {},
   "source": [
    "# Export DataFrame to .CSV"
   ]
  },
  {
   "cell_type": "code",
   "execution_count": 73,
   "id": "beneficial-twins",
   "metadata": {},
   "outputs": [],
   "source": [
    "df.to_csv(path_or_buf= \"output/new_features_60s_030ov.csv\",index=False)"
   ]
  }
 ],
 "metadata": {
  "kernelspec": {
   "display_name": "Python 3",
   "language": "python",
   "name": "python3"
  },
  "language_info": {
   "codemirror_mode": {
    "name": "ipython",
    "version": 3
   },
   "file_extension": ".py",
   "mimetype": "text/x-python",
   "name": "python",
   "nbconvert_exporter": "python",
   "pygments_lexer": "ipython3",
   "version": "3.8.5"
  },
  "toc": {
   "base_numbering": 1,
   "nav_menu": {},
   "number_sections": true,
   "sideBar": true,
   "skip_h1_title": false,
   "title_cell": "Table of Contents",
   "title_sidebar": "Contents",
   "toc_cell": true,
   "toc_position": {},
   "toc_section_display": true,
   "toc_window_display": false
  },
  "varInspector": {
   "cols": {
    "lenName": 16,
    "lenType": 16,
    "lenVar": 40
   },
   "kernels_config": {
    "python": {
     "delete_cmd_postfix": "",
     "delete_cmd_prefix": "del ",
     "library": "var_list.py",
     "varRefreshCmd": "print(var_dic_list())"
    },
    "r": {
     "delete_cmd_postfix": ") ",
     "delete_cmd_prefix": "rm(",
     "library": "var_list.r",
     "varRefreshCmd": "cat(var_dic_list()) "
    }
   },
   "types_to_exclude": [
    "module",
    "function",
    "builtin_function_or_method",
    "instance",
    "_Feature"
   ],
   "window_display": false
  }
 },
 "nbformat": 4,
 "nbformat_minor": 5
}
