{
 "cells": [
  {
   "cell_type": "markdown",
   "id": "productive-healing",
   "metadata": {
    "toc": true
   },
   "source": [
    "<h1>Table of Contents<span class=\"tocSkip\"></span></h1>\n",
    "<div class=\"toc\"><ul class=\"toc-item\"><li><span><a href=\"#Libraries\" data-toc-modified-id=\"Libraries-1\"><span class=\"toc-item-num\">1&nbsp;&nbsp;</span>Libraries</a></span></li><li><span><a href=\"#Get-files\" data-toc-modified-id=\"Get-files-2\"><span class=\"toc-item-num\">2&nbsp;&nbsp;</span>Get files</a></span></li><li><span><a href=\"#Extracting-features\" data-toc-modified-id=\"Extracting-features-3\"><span class=\"toc-item-num\">3&nbsp;&nbsp;</span>Extracting features</a></span></li><li><span><a href=\"#Export-DataFrame-to-.CSV\" data-toc-modified-id=\"Export-DataFrame-to-.CSV-4\"><span class=\"toc-item-num\">4&nbsp;&nbsp;</span>Export DataFrame to .CSV</a></span></li></ul></div>"
   ]
  },
  {
   "cell_type": "markdown",
   "id": "heavy-discharge",
   "metadata": {},
   "source": [
    "# Libraries"
   ]
  },
  {
   "cell_type": "code",
   "execution_count": 1,
   "id": "infectious-gambling",
   "metadata": {},
   "outputs": [],
   "source": [
    "import librosa\n",
    "import numpy as np\n",
    "import matplotlib.pyplot as plt\n",
    "import pandas as pd\n",
    "import os\n",
    "# For audio playing\n",
    "import IPython.display as ipd\n",
    "# For visualizations\n",
    "import librosa.display\n",
    "from math import ceil"
   ]
  },
  {
   "cell_type": "markdown",
   "id": "gorgeous-nightmare",
   "metadata": {},
   "source": [
    "# Get files "
   ]
  },
  {
   "cell_type": "markdown",
   "id": "innovative-fleet",
   "metadata": {},
   "source": [
    "**To maximize the results obtained from the data and ensure that all samples have the same duration we will use the following function.**\n",
    "\n",
    "1. Navigate through directories to get files.</li>\n",
    "2. For each file we get several fragments that overlap the previous and following fragment.</li>\n"
   ]
  },
  {
   "cell_type": "code",
   "execution_count": 9,
   "id": "difficult-premiere",
   "metadata": {},
   "outputs": [],
   "source": [
    "directory = \"data\"\n",
    "def gen_audio(window,overlap=0,path=directory):\n",
    "    for genre in os.listdir(path):\n",
    "        if os.path.isdir(f\"{path}/{genre}\"):\n",
    "            folder=f\"{path}/{genre}\"\n",
    "            for song in os.listdir(folder):\n",
    "                song_path = f\"{folder}/{song}\"\n",
    "                if song == \".DS_Store\":\n",
    "                    continue\n",
    "                y, sr = librosa.load(song_path)\n",
    "                duration = True\n",
    "                i=0\n",
    "                while duration:\n",
    "                    #print(song_path)\n",
    "                    song_points = len(y)\n",
    "                    window_points = window*sr\n",
    "                    start = int(i*window_points - overlap*window_points)\n",
    "                    if start<0:\n",
    "                        start=0\n",
    "                    end = start + window_points\n",
    "                    #print(start,end)\n",
    "                    sample=y[start:end]\n",
    "                    if end >= song_points:\n",
    "                        #print(\"-\")\n",
    "                        sample = y[-window_points:]\n",
    "                        duration = False\n",
    "                    i += 1\n",
    "                    yield genre,sample,sr"
   ]
  },
  {
   "cell_type": "code",
   "execution_count": 10,
   "id": "sporting-intention",
   "metadata": {},
   "outputs": [],
   "source": [
    "audio_generator = gen_audio(15,0.25)"
   ]
  },
  {
   "cell_type": "code",
   "execution_count": 11,
   "id": "architectural-clearance",
   "metadata": {},
   "outputs": [],
   "source": [
    "df = pd.DataFrame()"
   ]
  },
  {
   "cell_type": "markdown",
   "id": "automatic-parent",
   "metadata": {},
   "source": [
    "# Extracting features"
   ]
  },
  {
   "cell_type": "markdown",
   "id": "temporal-reporter",
   "metadata": {},
   "source": [
    "**The features that are going to be used are:**\n",
    "- Zero crossings\n",
    "- Spectral centroid\n",
    "- Spectral band_width\n",
    "- Spectral rolloff\n",
    "- Chroma stft\n",
    "- Mel Frequency Cepstral Coeﬃcients (mfcc)\n",
    "- Tonal centroid\n",
    "- Onset_strength\n",
    "- PLP\n",
    "- Beats per min"
   ]
  },
  {
   "cell_type": "code",
   "execution_count": 12,
   "id": "optional-highway",
   "metadata": {},
   "outputs": [
    {
     "name": "stderr",
     "output_type": "stream",
     "text": [
      "/usr/local/Caskroom/miniconda/base/envs/ironhack/lib/python3.8/site-packages/numpy/core/_asarray.py:136: VisibleDeprecationWarning: Creating an ndarray from ragged nested sequences (which is a list-or-tuple of lists-or-tuples-or ndarrays with different lengths or shapes) is deprecated. If you meant to do this, you must specify 'dtype=object' when creating the ndarray\n",
      "  return array(a, dtype, copy=False, order=order, subok=True)\n",
      "/usr/local/Caskroom/miniconda/base/envs/ironhack/lib/python3.8/site-packages/numpy/core/fromnumeric.py:3372: RuntimeWarning: Mean of empty slice.\n",
      "  return _methods._mean(a, axis=axis, dtype=dtype,\n",
      "/usr/local/Caskroom/miniconda/base/envs/ironhack/lib/python3.8/site-packages/numpy/core/_methods.py:170: RuntimeWarning: invalid value encountered in double_scalars\n",
      "  ret = ret.dtype.type(ret / rcount)\n"
     ]
    },
    {
     "name": "stdout",
     "output_type": "stream",
     "text": [
      "CPU times: user 1h 14min 10s, sys: 20min 38s, total: 1h 34min 49s\n",
      "Wall time: 44min 25s\n"
     ]
    }
   ],
   "source": [
    "%%time\n",
    "for label, sample, sr in audio_generator:\n",
    "    y = sample\n",
    "    zero_crossing = librosa.zero_crossings(y=y, pad=False)\n",
    "    spectral_centroid = librosa.feature.spectral_centroid(y=y, sr=sr)\n",
    "    spectral_band_width = librosa.feature.spectral_bandwidth(y=y, sr=sr)\n",
    "    spectral_rolloff = librosa.feature.spectral_rolloff(y=y, sr=sr)\n",
    "    chroma_stft = librosa.feature.chroma_stft(y=y, sr=sr)\n",
    "    mfcc = librosa.feature.mfcc(y=y, sr=sr)\n",
    "    tonal_centroid = librosa.feature.tonnetz(y=y, sr=sr)\n",
    "    onset_strength = librosa.onset.onset_strength(y=y, sr=sr)\n",
    "    plp = librosa.beat.plp(onset_envelope=onset_strength, sr=sr)\n",
    "    beats = librosa.beat.beat_track(y=y, sr=sr)\n",
    "    df = df.append({\n",
    "        \"label\":label,\n",
    "        \"sample\":sample,\n",
    "        \"sr\":sr,\n",
    "        \"zero_crossings\": sum(zero_crossing),\n",
    "        \"spectral_centroid\": np.mean(spectral_centroid),\n",
    "        \"spectral_band_width\": np.mean(spectral_band_width),\n",
    "        \"spectral_rolloff\" : np.mean(spectral_rolloff),\n",
    "        \"chroma_stft\": [np.mean(c) for c in chroma_stft],\n",
    "        \"mfcc\": [np.mean(e) for e in mfcc],\n",
    "        \"tonal_centroid\": [np.mean(t) for t in chroma_stft],\n",
    "        \"onset_strength\" : np.mean(onset_strength),\n",
    "        \"plp\" : np.mean(plp),\n",
    "        \"beats\" : np.mean(np.mean(beats))\n",
    "    }, ignore_index=True)"
   ]
  },
  {
   "cell_type": "code",
   "execution_count": 13,
   "id": "young-allocation",
   "metadata": {
    "scrolled": false
   },
   "outputs": [
    {
     "data": {
      "text/html": [
       "<div>\n",
       "<style scoped>\n",
       "    .dataframe tbody tr th:only-of-type {\n",
       "        vertical-align: middle;\n",
       "    }\n",
       "\n",
       "    .dataframe tbody tr th {\n",
       "        vertical-align: top;\n",
       "    }\n",
       "\n",
       "    .dataframe thead th {\n",
       "        text-align: right;\n",
       "    }\n",
       "</style>\n",
       "<table border=\"1\" class=\"dataframe\">\n",
       "  <thead>\n",
       "    <tr style=\"text-align: right;\">\n",
       "      <th></th>\n",
       "      <th>beats</th>\n",
       "      <th>chroma_stft</th>\n",
       "      <th>label</th>\n",
       "      <th>mfcc</th>\n",
       "      <th>onset_strength</th>\n",
       "      <th>plp</th>\n",
       "      <th>sample</th>\n",
       "      <th>spectral_band_width</th>\n",
       "      <th>spectral_centroid</th>\n",
       "      <th>spectral_rolloff</th>\n",
       "      <th>sr</th>\n",
       "      <th>tonal_centroid</th>\n",
       "      <th>zero_crossings</th>\n",
       "    </tr>\n",
       "  </thead>\n",
       "  <tbody>\n",
       "    <tr>\n",
       "      <th>0</th>\n",
       "      <td>189.402167</td>\n",
       "      <td>[0.45334435, 0.39936936, 0.44807765, 0.5161125...</td>\n",
       "      <td>Supernatural</td>\n",
       "      <td>[-242.92453, 136.92271, -24.217505, 26.947405,...</td>\n",
       "      <td>1.447724</td>\n",
       "      <td>0.273632</td>\n",
       "      <td>[3.5482785e-08, 1.0161084e-08, -9.557592e-09, ...</td>\n",
       "      <td>1507.378098</td>\n",
       "      <td>1522.945223</td>\n",
       "      <td>2815.416309</td>\n",
       "      <td>22050.0</td>\n",
       "      <td>[0.45334435, 0.39936936, 0.44807765, 0.5161125...</td>\n",
       "      <td>29991.0</td>\n",
       "    </tr>\n",
       "  </tbody>\n",
       "</table>\n",
       "</div>"
      ],
      "text/plain": [
       "        beats                                        chroma_stft  \\\n",
       "0  189.402167  [0.45334435, 0.39936936, 0.44807765, 0.5161125...   \n",
       "\n",
       "          label                                               mfcc  \\\n",
       "0  Supernatural  [-242.92453, 136.92271, -24.217505, 26.947405,...   \n",
       "\n",
       "   onset_strength       plp  \\\n",
       "0        1.447724  0.273632   \n",
       "\n",
       "                                              sample  spectral_band_width  \\\n",
       "0  [3.5482785e-08, 1.0161084e-08, -9.557592e-09, ...          1507.378098   \n",
       "\n",
       "   spectral_centroid  spectral_rolloff       sr  \\\n",
       "0        1522.945223       2815.416309  22050.0   \n",
       "\n",
       "                                      tonal_centroid  zero_crossings  \n",
       "0  [0.45334435, 0.39936936, 0.44807765, 0.5161125...         29991.0  "
      ]
     },
     "execution_count": 13,
     "metadata": {},
     "output_type": "execute_result"
    }
   ],
   "source": [
    "df.head(1)"
   ]
  },
  {
   "cell_type": "code",
   "execution_count": 14,
   "id": "developmental-raleigh",
   "metadata": {},
   "outputs": [],
   "source": [
    "df[['chroma_stft1','chroma_stft2','chroma_stft3','chroma_stft4','chroma_stft5','chroma_stft6','chroma_stft7','chroma_stft8','chroma_stft9','chroma_stft10','chroma_stft11','chroma_stft12']] = pd.DataFrame(df.chroma_stft.tolist(), index= df.index)\n",
    "df = df.drop(['chroma_stft'], axis=1)"
   ]
  },
  {
   "cell_type": "code",
   "execution_count": 15,
   "id": "sublime-norfolk",
   "metadata": {},
   "outputs": [],
   "source": [
    "df[['mfcc1','mfcc2','mfcc3','mfcc4','mfcc5','mfcc6','mfcc7','mfcc8','mfcc9','mfcc10','mfcc11','mfcc12','mfcc13','mfcc14','mfcc15','mfcc16','mfcc17','mfcc18','mfcc19','mfcc20']] = pd.DataFrame(df.mfcc.tolist(), index= df.index)\n",
    "df = df.drop(['mfcc'], axis=1)"
   ]
  },
  {
   "cell_type": "code",
   "execution_count": 20,
   "id": "transparent-controversy",
   "metadata": {},
   "outputs": [
    {
     "data": {
      "text/plain": [
       "[0.45334435,\n",
       " 0.39936936,\n",
       " 0.44807765,\n",
       " 0.5161125,\n",
       " 0.6047815,\n",
       " 0.6462182,\n",
       " 0.5601424,\n",
       " 0.42375207,\n",
       " 0.4746412,\n",
       " 0.29928055,\n",
       " 0.2602959,\n",
       " 0.29277796]"
      ]
     },
     "execution_count": 20,
     "metadata": {},
     "output_type": "execute_result"
    }
   ],
   "source": [
    "df['tonal_centroid'].iloc[0]"
   ]
  },
  {
   "cell_type": "code",
   "execution_count": 21,
   "id": "turkish-black",
   "metadata": {},
   "outputs": [],
   "source": [
    "df[['tc1','tc2','tc3','tc4','tc5','tc6','tc7','tc8','tc9','tc10','tc11','tc12']] = pd.DataFrame(df.tonal_centroid.tolist(), index= df.index)\n",
    "df = df.drop(['tonal_centroid'], axis=1)"
   ]
  },
  {
   "cell_type": "code",
   "execution_count": 22,
   "id": "czech-costs",
   "metadata": {
    "scrolled": true
   },
   "outputs": [
    {
     "data": {
      "text/html": [
       "<div>\n",
       "<style scoped>\n",
       "    .dataframe tbody tr th:only-of-type {\n",
       "        vertical-align: middle;\n",
       "    }\n",
       "\n",
       "    .dataframe tbody tr th {\n",
       "        vertical-align: top;\n",
       "    }\n",
       "\n",
       "    .dataframe thead th {\n",
       "        text-align: right;\n",
       "    }\n",
       "</style>\n",
       "<table border=\"1\" class=\"dataframe\">\n",
       "  <thead>\n",
       "    <tr style=\"text-align: right;\">\n",
       "      <th></th>\n",
       "      <th>beats</th>\n",
       "      <th>label</th>\n",
       "      <th>onset_strength</th>\n",
       "      <th>plp</th>\n",
       "      <th>sample</th>\n",
       "      <th>spectral_band_width</th>\n",
       "      <th>spectral_centroid</th>\n",
       "      <th>spectral_rolloff</th>\n",
       "      <th>sr</th>\n",
       "      <th>zero_crossings</th>\n",
       "      <th>...</th>\n",
       "      <th>tc3</th>\n",
       "      <th>tc4</th>\n",
       "      <th>tc5</th>\n",
       "      <th>tc6</th>\n",
       "      <th>tc7</th>\n",
       "      <th>tc8</th>\n",
       "      <th>tc9</th>\n",
       "      <th>tc10</th>\n",
       "      <th>tc11</th>\n",
       "      <th>tc12</th>\n",
       "    </tr>\n",
       "  </thead>\n",
       "  <tbody>\n",
       "    <tr>\n",
       "      <th>0</th>\n",
       "      <td>189.402167</td>\n",
       "      <td>Supernatural</td>\n",
       "      <td>1.447724</td>\n",
       "      <td>0.273632</td>\n",
       "      <td>[3.5482785e-08, 1.0161084e-08, -9.557592e-09, ...</td>\n",
       "      <td>1507.378098</td>\n",
       "      <td>1522.945223</td>\n",
       "      <td>2815.416309</td>\n",
       "      <td>22050.0</td>\n",
       "      <td>29991.0</td>\n",
       "      <td>...</td>\n",
       "      <td>0.448078</td>\n",
       "      <td>0.516113</td>\n",
       "      <td>0.604782</td>\n",
       "      <td>0.646218</td>\n",
       "      <td>0.560142</td>\n",
       "      <td>0.423752</td>\n",
       "      <td>0.474641</td>\n",
       "      <td>0.299281</td>\n",
       "      <td>0.260296</td>\n",
       "      <td>0.292778</td>\n",
       "    </tr>\n",
       "  </tbody>\n",
       "</table>\n",
       "<p>1 rows × 54 columns</p>\n",
       "</div>"
      ],
      "text/plain": [
       "        beats         label  onset_strength       plp  \\\n",
       "0  189.402167  Supernatural        1.447724  0.273632   \n",
       "\n",
       "                                              sample  spectral_band_width  \\\n",
       "0  [3.5482785e-08, 1.0161084e-08, -9.557592e-09, ...          1507.378098   \n",
       "\n",
       "   spectral_centroid  spectral_rolloff       sr  zero_crossings  ...  \\\n",
       "0        1522.945223       2815.416309  22050.0         29991.0  ...   \n",
       "\n",
       "        tc3       tc4       tc5       tc6       tc7       tc8       tc9  \\\n",
       "0  0.448078  0.516113  0.604782  0.646218  0.560142  0.423752  0.474641   \n",
       "\n",
       "       tc10      tc11      tc12  \n",
       "0  0.299281  0.260296  0.292778  \n",
       "\n",
       "[1 rows x 54 columns]"
      ]
     },
     "execution_count": 22,
     "metadata": {},
     "output_type": "execute_result"
    }
   ],
   "source": [
    "df.head(1)"
   ]
  },
  {
   "cell_type": "code",
   "execution_count": 23,
   "id": "virtual-owner",
   "metadata": {},
   "outputs": [
    {
     "data": {
      "text/plain": [
       "(1589, 54)"
      ]
     },
     "execution_count": 23,
     "metadata": {},
     "output_type": "execute_result"
    }
   ],
   "source": [
    "df.shape"
   ]
  },
  {
   "cell_type": "markdown",
   "id": "absent-trinity",
   "metadata": {},
   "source": [
    "# Export DataFrame to .CSV"
   ]
  },
  {
   "cell_type": "code",
   "execution_count": 24,
   "id": "lonely-apollo",
   "metadata": {},
   "outputs": [],
   "source": [
    "df.to_csv(path_or_buf= \"output/even_more_features_15s_025ov.csv\",index=False)"
   ]
  },
  {
   "cell_type": "code",
   "execution_count": null,
   "id": "exclusive-optimum",
   "metadata": {},
   "outputs": [],
   "source": []
  }
 ],
 "metadata": {
  "kernelspec": {
   "display_name": "Python 3",
   "language": "python",
   "name": "python3"
  },
  "toc": {
   "base_numbering": 1,
   "nav_menu": {},
   "number_sections": true,
   "sideBar": true,
   "skip_h1_title": false,
   "title_cell": "Table of Contents",
   "title_sidebar": "Contents",
   "toc_cell": true,
   "toc_position": {},
   "toc_section_display": true,
   "toc_window_display": false
  },
  "varInspector": {
   "cols": {
    "lenName": 16,
    "lenType": 16,
    "lenVar": 40
   },
   "kernels_config": {
    "python": {
     "delete_cmd_postfix": "",
     "delete_cmd_prefix": "del ",
     "library": "var_list.py",
     "varRefreshCmd": "print(var_dic_list())"
    },
    "r": {
     "delete_cmd_postfix": ") ",
     "delete_cmd_prefix": "rm(",
     "library": "var_list.r",
     "varRefreshCmd": "cat(var_dic_list()) "
    }
   },
   "types_to_exclude": [
    "module",
    "function",
    "builtin_function_or_method",
    "instance",
    "_Feature"
   ],
   "window_display": false
  }
 },
 "nbformat": 4,
 "nbformat_minor": 5
}
